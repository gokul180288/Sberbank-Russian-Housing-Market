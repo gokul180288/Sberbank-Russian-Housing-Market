{
 "cells": [
  {
   "cell_type": "code",
   "execution_count": 171,
   "metadata": {
    "collapsed": false
   },
   "outputs": [],
   "source": [
    "import pandas as pd\n",
    "import xgboost as xgb\n",
    "from sklearn.metrics import log_loss\n",
    "\n",
    "import matplotlib.pyplot as plt\n",
    "%matplotlib inline"
   ]
  },
  {
   "cell_type": "code",
   "execution_count": 172,
   "metadata": {
    "collapsed": false
   },
   "outputs": [],
   "source": [
    "\n",
    "train = pd.read_csv(\"India Hacks 2017/Road Sign/train.csv\")\n",
    "test = pd.read_csv(\"India Hacks 2017/Road Sign/test.csv\")"
   ]
  },
  {
   "cell_type": "code",
   "execution_count": 173,
   "metadata": {
    "collapsed": false,
    "scrolled": false
   },
   "outputs": [
    {
     "data": {
      "text/html": [
       "<div>\n",
       "<table border=\"1\" class=\"dataframe\">\n",
       "  <thead>\n",
       "    <tr style=\"text-align: right;\">\n",
       "      <th></th>\n",
       "      <th>Id</th>\n",
       "      <th>DetectedCamera</th>\n",
       "      <th>AngleOfSign</th>\n",
       "      <th>SignAspectRatio</th>\n",
       "      <th>SignWidth</th>\n",
       "      <th>SignHeight</th>\n",
       "      <th>SignFacing (Target)</th>\n",
       "    </tr>\n",
       "  </thead>\n",
       "  <tbody>\n",
       "    <tr>\n",
       "      <th>14</th>\n",
       "      <td>2c9180975a056a64015a1e04ad9f6f8b</td>\n",
       "      <td>Left</td>\n",
       "      <td>258</td>\n",
       "      <td>0.48</td>\n",
       "      <td>39</td>\n",
       "      <td>81</td>\n",
       "      <td>Rear</td>\n",
       "    </tr>\n",
       "    <tr>\n",
       "      <th>33</th>\n",
       "      <td>2c9180975a056a64015a1e13b6c7713e</td>\n",
       "      <td>Left</td>\n",
       "      <td>253</td>\n",
       "      <td>0.43</td>\n",
       "      <td>37</td>\n",
       "      <td>87</td>\n",
       "      <td>Rear</td>\n",
       "    </tr>\n",
       "    <tr>\n",
       "      <th>45</th>\n",
       "      <td>2c9180975a056a64015a1e58c1407a8d</td>\n",
       "      <td>Left</td>\n",
       "      <td>261</td>\n",
       "      <td>0.33</td>\n",
       "      <td>26</td>\n",
       "      <td>79</td>\n",
       "      <td>Rear</td>\n",
       "    </tr>\n",
       "    <tr>\n",
       "      <th>84</th>\n",
       "      <td>2c9180975a056a64015a1e6ed9d67c4c</td>\n",
       "      <td>Right</td>\n",
       "      <td>78</td>\n",
       "      <td>0.44</td>\n",
       "      <td>58</td>\n",
       "      <td>132</td>\n",
       "      <td>Front</td>\n",
       "    </tr>\n",
       "    <tr>\n",
       "      <th>129</th>\n",
       "      <td>2c9180975a056a64015a1e3f26a4771b</td>\n",
       "      <td>Left</td>\n",
       "      <td>256</td>\n",
       "      <td>0.45</td>\n",
       "      <td>43</td>\n",
       "      <td>95</td>\n",
       "      <td>Rear</td>\n",
       "    </tr>\n",
       "    <tr>\n",
       "      <th>161</th>\n",
       "      <td>2c91808e5aba7da4015acd5409db58f4</td>\n",
       "      <td>Left</td>\n",
       "      <td>253</td>\n",
       "      <td>0.47</td>\n",
       "      <td>24</td>\n",
       "      <td>51</td>\n",
       "      <td>Rear</td>\n",
       "    </tr>\n",
       "    <tr>\n",
       "      <th>233</th>\n",
       "      <td>2c9180ad5b853aa1015b8be0a8835a15</td>\n",
       "      <td>Left</td>\n",
       "      <td>254</td>\n",
       "      <td>0.42</td>\n",
       "      <td>28</td>\n",
       "      <td>67</td>\n",
       "      <td>Rear</td>\n",
       "    </tr>\n",
       "    <tr>\n",
       "      <th>264</th>\n",
       "      <td>2c91809e5aba7d25015acdd165072a09</td>\n",
       "      <td>Right</td>\n",
       "      <td>81</td>\n",
       "      <td>0.43</td>\n",
       "      <td>64</td>\n",
       "      <td>150</td>\n",
       "      <td>Front</td>\n",
       "    </tr>\n",
       "    <tr>\n",
       "      <th>275</th>\n",
       "      <td>2c91808d5aba7da4015acd6c1f235e84</td>\n",
       "      <td>Right</td>\n",
       "      <td>72</td>\n",
       "      <td>0.46</td>\n",
       "      <td>36</td>\n",
       "      <td>79</td>\n",
       "      <td>Front</td>\n",
       "    </tr>\n",
       "    <tr>\n",
       "      <th>277</th>\n",
       "      <td>2c91809e5aba7d25015acdd6c89f2a79</td>\n",
       "      <td>Right</td>\n",
       "      <td>72</td>\n",
       "      <td>0.44</td>\n",
       "      <td>63</td>\n",
       "      <td>142</td>\n",
       "      <td>Front</td>\n",
       "    </tr>\n",
       "    <tr>\n",
       "      <th>283</th>\n",
       "      <td>2c9180845aba7d30015acdd72cb405eb</td>\n",
       "      <td>Right</td>\n",
       "      <td>76</td>\n",
       "      <td>0.46</td>\n",
       "      <td>40</td>\n",
       "      <td>87</td>\n",
       "      <td>Front</td>\n",
       "    </tr>\n",
       "    <tr>\n",
       "      <th>417</th>\n",
       "      <td>2c9180845aba7d30015acda276360363</td>\n",
       "      <td>Right</td>\n",
       "      <td>71</td>\n",
       "      <td>0.49</td>\n",
       "      <td>80</td>\n",
       "      <td>164</td>\n",
       "      <td>Front</td>\n",
       "    </tr>\n",
       "    <tr>\n",
       "      <th>466</th>\n",
       "      <td>2c91809659f86230015a09e052c81dce</td>\n",
       "      <td>Right</td>\n",
       "      <td>81</td>\n",
       "      <td>0.41</td>\n",
       "      <td>46</td>\n",
       "      <td>113</td>\n",
       "      <td>Front</td>\n",
       "    </tr>\n",
       "    <tr>\n",
       "      <th>495</th>\n",
       "      <td>2c91809e5aba7d25015acd6f65842143</td>\n",
       "      <td>Right</td>\n",
       "      <td>79</td>\n",
       "      <td>0.36</td>\n",
       "      <td>43</td>\n",
       "      <td>120</td>\n",
       "      <td>Front</td>\n",
       "    </tr>\n",
       "    <tr>\n",
       "      <th>515</th>\n",
       "      <td>2c91809e5aba7d25015acd7ef573226d</td>\n",
       "      <td>Right</td>\n",
       "      <td>71</td>\n",
       "      <td>0.47</td>\n",
       "      <td>99</td>\n",
       "      <td>212</td>\n",
       "      <td>Front</td>\n",
       "    </tr>\n",
       "    <tr>\n",
       "      <th>530</th>\n",
       "      <td>2c91808e5aba7da4015acd9183d25bd2</td>\n",
       "      <td>Right</td>\n",
       "      <td>72</td>\n",
       "      <td>0.42</td>\n",
       "      <td>89</td>\n",
       "      <td>210</td>\n",
       "      <td>Front</td>\n",
       "    </tr>\n",
       "    <tr>\n",
       "      <th>543</th>\n",
       "      <td>2c91808d5aba7da4015acdd18ce4638f</td>\n",
       "      <td>Left</td>\n",
       "      <td>259</td>\n",
       "      <td>0.48</td>\n",
       "      <td>37</td>\n",
       "      <td>77</td>\n",
       "      <td>Rear</td>\n",
       "    </tr>\n",
       "    <tr>\n",
       "      <th>545</th>\n",
       "      <td>2c91808e5ba960a0015bac1456a02cb7</td>\n",
       "      <td>Right</td>\n",
       "      <td>78</td>\n",
       "      <td>0.48</td>\n",
       "      <td>110</td>\n",
       "      <td>229</td>\n",
       "      <td>Front</td>\n",
       "    </tr>\n",
       "    <tr>\n",
       "      <th>546</th>\n",
       "      <td>2c91809e5aba7d25015acdad50bf26e7</td>\n",
       "      <td>Right</td>\n",
       "      <td>78</td>\n",
       "      <td>0.48</td>\n",
       "      <td>110</td>\n",
       "      <td>229</td>\n",
       "      <td>Front</td>\n",
       "    </tr>\n",
       "    <tr>\n",
       "      <th>554</th>\n",
       "      <td>2c9180935b853a2d015b8b676e4c4d5c</td>\n",
       "      <td>Right</td>\n",
       "      <td>75</td>\n",
       "      <td>0.49</td>\n",
       "      <td>49</td>\n",
       "      <td>100</td>\n",
       "      <td>Front</td>\n",
       "    </tr>\n",
       "  </tbody>\n",
       "</table>\n",
       "</div>"
      ],
      "text/plain": [
       "                                   Id DetectedCamera  AngleOfSign  \\\n",
       "14   2c9180975a056a64015a1e04ad9f6f8b           Left          258   \n",
       "33   2c9180975a056a64015a1e13b6c7713e           Left          253   \n",
       "45   2c9180975a056a64015a1e58c1407a8d           Left          261   \n",
       "84   2c9180975a056a64015a1e6ed9d67c4c          Right           78   \n",
       "129  2c9180975a056a64015a1e3f26a4771b           Left          256   \n",
       "161  2c91808e5aba7da4015acd5409db58f4           Left          253   \n",
       "233  2c9180ad5b853aa1015b8be0a8835a15           Left          254   \n",
       "264  2c91809e5aba7d25015acdd165072a09          Right           81   \n",
       "275  2c91808d5aba7da4015acd6c1f235e84          Right           72   \n",
       "277  2c91809e5aba7d25015acdd6c89f2a79          Right           72   \n",
       "283  2c9180845aba7d30015acdd72cb405eb          Right           76   \n",
       "417  2c9180845aba7d30015acda276360363          Right           71   \n",
       "466  2c91809659f86230015a09e052c81dce          Right           81   \n",
       "495  2c91809e5aba7d25015acd6f65842143          Right           79   \n",
       "515  2c91809e5aba7d25015acd7ef573226d          Right           71   \n",
       "530  2c91808e5aba7da4015acd9183d25bd2          Right           72   \n",
       "543  2c91808d5aba7da4015acdd18ce4638f           Left          259   \n",
       "545  2c91808e5ba960a0015bac1456a02cb7          Right           78   \n",
       "546  2c91809e5aba7d25015acdad50bf26e7          Right           78   \n",
       "554  2c9180935b853a2d015b8b676e4c4d5c          Right           75   \n",
       "\n",
       "     SignAspectRatio  SignWidth  SignHeight SignFacing (Target)  \n",
       "14              0.48         39          81                Rear  \n",
       "33              0.43         37          87                Rear  \n",
       "45              0.33         26          79                Rear  \n",
       "84              0.44         58         132               Front  \n",
       "129             0.45         43          95                Rear  \n",
       "161             0.47         24          51                Rear  \n",
       "233             0.42         28          67                Rear  \n",
       "264             0.43         64         150               Front  \n",
       "275             0.46         36          79               Front  \n",
       "277             0.44         63         142               Front  \n",
       "283             0.46         40          87               Front  \n",
       "417             0.49         80         164               Front  \n",
       "466             0.41         46         113               Front  \n",
       "495             0.36         43         120               Front  \n",
       "515             0.47         99         212               Front  \n",
       "530             0.42         89         210               Front  \n",
       "543             0.48         37          77                Rear  \n",
       "545             0.48        110         229               Front  \n",
       "546             0.48        110         229               Front  \n",
       "554             0.49         49         100               Front  "
      ]
     },
     "execution_count": 173,
     "metadata": {},
     "output_type": "execute_result"
    }
   ],
   "source": [
    "train[train.SignAspectRatio<0.5].head(20)"
   ]
  },
  {
   "cell_type": "code",
   "execution_count": 174,
   "metadata": {
    "collapsed": false,
    "scrolled": true
   },
   "outputs": [
    {
     "data": {
      "text/html": [
       "<div>\n",
       "<table border=\"1\" class=\"dataframe\">\n",
       "  <thead>\n",
       "    <tr style=\"text-align: right;\">\n",
       "      <th></th>\n",
       "      <th>Id</th>\n",
       "      <th>DetectedCamera</th>\n",
       "      <th>AngleOfSign</th>\n",
       "      <th>SignAspectRatio</th>\n",
       "      <th>SignWidth</th>\n",
       "      <th>SignHeight</th>\n",
       "      <th>SignFacing (Target)</th>\n",
       "    </tr>\n",
       "  </thead>\n",
       "  <tbody>\n",
       "    <tr>\n",
       "      <th>298</th>\n",
       "      <td>2c91809e5aba7d25015acdc892a92935</td>\n",
       "      <td>Right</td>\n",
       "      <td>49</td>\n",
       "      <td>1.58</td>\n",
       "      <td>49</td>\n",
       "      <td>31</td>\n",
       "      <td>Front</td>\n",
       "    </tr>\n",
       "    <tr>\n",
       "      <th>438</th>\n",
       "      <td>2c91809659f86230015a088b500a68a0</td>\n",
       "      <td>Right</td>\n",
       "      <td>45</td>\n",
       "      <td>1.51</td>\n",
       "      <td>232</td>\n",
       "      <td>154</td>\n",
       "      <td>Front</td>\n",
       "    </tr>\n",
       "    <tr>\n",
       "      <th>465</th>\n",
       "      <td>2c91809659f86230015a09e052c81db7</td>\n",
       "      <td>Rear</td>\n",
       "      <td>227</td>\n",
       "      <td>1.55</td>\n",
       "      <td>62</td>\n",
       "      <td>40</td>\n",
       "      <td>Rear</td>\n",
       "    </tr>\n",
       "    <tr>\n",
       "      <th>504</th>\n",
       "      <td>2c91809e5aba7d25015acd9525bc247e</td>\n",
       "      <td>Front</td>\n",
       "      <td>311</td>\n",
       "      <td>1.56</td>\n",
       "      <td>81</td>\n",
       "      <td>52</td>\n",
       "      <td>Front</td>\n",
       "    </tr>\n",
       "    <tr>\n",
       "      <th>657</th>\n",
       "      <td>2c91809e5aba7d25015acdc892a9292b</td>\n",
       "      <td>Left</td>\n",
       "      <td>222</td>\n",
       "      <td>1.63</td>\n",
       "      <td>52</td>\n",
       "      <td>32</td>\n",
       "      <td>Rear</td>\n",
       "    </tr>\n",
       "    <tr>\n",
       "      <th>776</th>\n",
       "      <td>2c91809e5aba7d25015acd98dbff24cc</td>\n",
       "      <td>Left</td>\n",
       "      <td>305</td>\n",
       "      <td>1.67</td>\n",
       "      <td>50</td>\n",
       "      <td>30</td>\n",
       "      <td>Front</td>\n",
       "    </tr>\n",
       "    <tr>\n",
       "      <th>897</th>\n",
       "      <td>2c91809a59f17e5d015a219d7b09302e</td>\n",
       "      <td>Left</td>\n",
       "      <td>222</td>\n",
       "      <td>1.54</td>\n",
       "      <td>105</td>\n",
       "      <td>68</td>\n",
       "      <td>Rear</td>\n",
       "    </tr>\n",
       "    <tr>\n",
       "      <th>965</th>\n",
       "      <td>2c91809659f86230015a08569e6c63ca</td>\n",
       "      <td>Rear</td>\n",
       "      <td>135</td>\n",
       "      <td>1.55</td>\n",
       "      <td>68</td>\n",
       "      <td>44</td>\n",
       "      <td>Rear</td>\n",
       "    </tr>\n",
       "    <tr>\n",
       "      <th>1144</th>\n",
       "      <td>2c91809a59f17e5d015a21c28ac135cc</td>\n",
       "      <td>Right</td>\n",
       "      <td>44</td>\n",
       "      <td>1.73</td>\n",
       "      <td>235</td>\n",
       "      <td>136</td>\n",
       "      <td>Front</td>\n",
       "    </tr>\n",
       "    <tr>\n",
       "      <th>1208</th>\n",
       "      <td>2c91809659f86230015a0875b5246696</td>\n",
       "      <td>Right</td>\n",
       "      <td>43</td>\n",
       "      <td>1.65</td>\n",
       "      <td>134</td>\n",
       "      <td>81</td>\n",
       "      <td>Front</td>\n",
       "    </tr>\n",
       "    <tr>\n",
       "      <th>1359</th>\n",
       "      <td>2c9180885a812c3b015aa550a04211f6</td>\n",
       "      <td>Left</td>\n",
       "      <td>225</td>\n",
       "      <td>1.60</td>\n",
       "      <td>133</td>\n",
       "      <td>83</td>\n",
       "      <td>Rear</td>\n",
       "    </tr>\n",
       "    <tr>\n",
       "      <th>2168</th>\n",
       "      <td>2c9180935a71a2bb015aa28a990f797c</td>\n",
       "      <td>Left</td>\n",
       "      <td>221</td>\n",
       "      <td>1.55</td>\n",
       "      <td>62</td>\n",
       "      <td>40</td>\n",
       "      <td>Rear</td>\n",
       "    </tr>\n",
       "    <tr>\n",
       "      <th>2302</th>\n",
       "      <td>2c91808d58e7b6800159322c957a72a2</td>\n",
       "      <td>Rear</td>\n",
       "      <td>244</td>\n",
       "      <td>1.56</td>\n",
       "      <td>145</td>\n",
       "      <td>93</td>\n",
       "      <td>Rear</td>\n",
       "    </tr>\n",
       "    <tr>\n",
       "      <th>2600</th>\n",
       "      <td>2c9180965918ec3e01593283480f3d6a</td>\n",
       "      <td>Front</td>\n",
       "      <td>60</td>\n",
       "      <td>1.64</td>\n",
       "      <td>64</td>\n",
       "      <td>39</td>\n",
       "      <td>Front</td>\n",
       "    </tr>\n",
       "    <tr>\n",
       "      <th>2672</th>\n",
       "      <td>2c91808d58e7b680015932a0841d76b5</td>\n",
       "      <td>Left</td>\n",
       "      <td>224</td>\n",
       "      <td>1.53</td>\n",
       "      <td>95</td>\n",
       "      <td>62</td>\n",
       "      <td>Rear</td>\n",
       "    </tr>\n",
       "    <tr>\n",
       "      <th>2803</th>\n",
       "      <td>2c91808d58e7b680015933178ab07c27</td>\n",
       "      <td>Left</td>\n",
       "      <td>227</td>\n",
       "      <td>1.63</td>\n",
       "      <td>78</td>\n",
       "      <td>48</td>\n",
       "      <td>Rear</td>\n",
       "    </tr>\n",
       "    <tr>\n",
       "      <th>2905</th>\n",
       "      <td>2c9180975a056a64015a22c1e21c1e49</td>\n",
       "      <td>Rear</td>\n",
       "      <td>223</td>\n",
       "      <td>1.56</td>\n",
       "      <td>145</td>\n",
       "      <td>93</td>\n",
       "      <td>Rear</td>\n",
       "    </tr>\n",
       "    <tr>\n",
       "      <th>2906</th>\n",
       "      <td>2c9180975a056a64015a22b5a4251b88</td>\n",
       "      <td>Front</td>\n",
       "      <td>41</td>\n",
       "      <td>1.54</td>\n",
       "      <td>86</td>\n",
       "      <td>56</td>\n",
       "      <td>Front</td>\n",
       "    </tr>\n",
       "    <tr>\n",
       "      <th>3082</th>\n",
       "      <td>2c91809659f86230015a053955d10928</td>\n",
       "      <td>Front</td>\n",
       "      <td>312</td>\n",
       "      <td>1.58</td>\n",
       "      <td>90</td>\n",
       "      <td>57</td>\n",
       "      <td>Front</td>\n",
       "    </tr>\n",
       "    <tr>\n",
       "      <th>3108</th>\n",
       "      <td>2c91809659f86230015a0697239d36c2</td>\n",
       "      <td>Left</td>\n",
       "      <td>228</td>\n",
       "      <td>1.53</td>\n",
       "      <td>155</td>\n",
       "      <td>101</td>\n",
       "      <td>Rear</td>\n",
       "    </tr>\n",
       "  </tbody>\n",
       "</table>\n",
       "</div>"
      ],
      "text/plain": [
       "                                    Id DetectedCamera  AngleOfSign  \\\n",
       "298   2c91809e5aba7d25015acdc892a92935          Right           49   \n",
       "438   2c91809659f86230015a088b500a68a0          Right           45   \n",
       "465   2c91809659f86230015a09e052c81db7           Rear          227   \n",
       "504   2c91809e5aba7d25015acd9525bc247e          Front          311   \n",
       "657   2c91809e5aba7d25015acdc892a9292b           Left          222   \n",
       "776   2c91809e5aba7d25015acd98dbff24cc           Left          305   \n",
       "897   2c91809a59f17e5d015a219d7b09302e           Left          222   \n",
       "965   2c91809659f86230015a08569e6c63ca           Rear          135   \n",
       "1144  2c91809a59f17e5d015a21c28ac135cc          Right           44   \n",
       "1208  2c91809659f86230015a0875b5246696          Right           43   \n",
       "1359  2c9180885a812c3b015aa550a04211f6           Left          225   \n",
       "2168  2c9180935a71a2bb015aa28a990f797c           Left          221   \n",
       "2302  2c91808d58e7b6800159322c957a72a2           Rear          244   \n",
       "2600  2c9180965918ec3e01593283480f3d6a          Front           60   \n",
       "2672  2c91808d58e7b680015932a0841d76b5           Left          224   \n",
       "2803  2c91808d58e7b680015933178ab07c27           Left          227   \n",
       "2905  2c9180975a056a64015a22c1e21c1e49           Rear          223   \n",
       "2906  2c9180975a056a64015a22b5a4251b88          Front           41   \n",
       "3082  2c91809659f86230015a053955d10928          Front          312   \n",
       "3108  2c91809659f86230015a0697239d36c2           Left          228   \n",
       "\n",
       "      SignAspectRatio  SignWidth  SignHeight SignFacing (Target)  \n",
       "298              1.58         49          31               Front  \n",
       "438              1.51        232         154               Front  \n",
       "465              1.55         62          40                Rear  \n",
       "504              1.56         81          52               Front  \n",
       "657              1.63         52          32                Rear  \n",
       "776              1.67         50          30               Front  \n",
       "897              1.54        105          68                Rear  \n",
       "965              1.55         68          44                Rear  \n",
       "1144             1.73        235         136               Front  \n",
       "1208             1.65        134          81               Front  \n",
       "1359             1.60        133          83                Rear  \n",
       "2168             1.55         62          40                Rear  \n",
       "2302             1.56        145          93                Rear  \n",
       "2600             1.64         64          39               Front  \n",
       "2672             1.53         95          62                Rear  \n",
       "2803             1.63         78          48                Rear  \n",
       "2905             1.56        145          93                Rear  \n",
       "2906             1.54         86          56               Front  \n",
       "3082             1.58         90          57               Front  \n",
       "3108             1.53        155         101                Rear  "
      ]
     },
     "execution_count": 174,
     "metadata": {},
     "output_type": "execute_result"
    }
   ],
   "source": [
    "train[train.SignAspectRatio>1.5].head(20)"
   ]
  },
  {
   "cell_type": "code",
   "execution_count": 175,
   "metadata": {
    "collapsed": false
   },
   "outputs": [
    {
     "data": {
      "text/html": [
       "<div>\n",
       "<table border=\"1\" class=\"dataframe\">\n",
       "  <thead>\n",
       "    <tr style=\"text-align: right;\">\n",
       "      <th></th>\n",
       "      <th>AngleOfSign</th>\n",
       "      <th>SignAspectRatio</th>\n",
       "      <th>SignWidth</th>\n",
       "      <th>SignHeight</th>\n",
       "    </tr>\n",
       "  </thead>\n",
       "  <tbody>\n",
       "    <tr>\n",
       "      <th>count</th>\n",
       "      <td>38485.000000</td>\n",
       "      <td>38485.000000</td>\n",
       "      <td>38485.000000</td>\n",
       "      <td>38485.000000</td>\n",
       "    </tr>\n",
       "    <tr>\n",
       "      <th>mean</th>\n",
       "      <td>132.930986</td>\n",
       "      <td>0.901241</td>\n",
       "      <td>92.922957</td>\n",
       "      <td>104.993140</td>\n",
       "    </tr>\n",
       "    <tr>\n",
       "      <th>std</th>\n",
       "      <td>98.042472</td>\n",
       "      <td>0.226068</td>\n",
       "      <td>52.399274</td>\n",
       "      <td>53.347424</td>\n",
       "    </tr>\n",
       "    <tr>\n",
       "      <th>min</th>\n",
       "      <td>1.000000</td>\n",
       "      <td>0.260000</td>\n",
       "      <td>19.000000</td>\n",
       "      <td>23.000000</td>\n",
       "    </tr>\n",
       "    <tr>\n",
       "      <th>25%</th>\n",
       "      <td>42.000000</td>\n",
       "      <td>0.770000</td>\n",
       "      <td>54.000000</td>\n",
       "      <td>65.000000</td>\n",
       "    </tr>\n",
       "    <tr>\n",
       "      <th>50%</th>\n",
       "      <td>80.000000</td>\n",
       "      <td>0.930000</td>\n",
       "      <td>80.000000</td>\n",
       "      <td>96.000000</td>\n",
       "    </tr>\n",
       "    <tr>\n",
       "      <th>75%</th>\n",
       "      <td>228.000000</td>\n",
       "      <td>1.040000</td>\n",
       "      <td>118.000000</td>\n",
       "      <td>132.000000</td>\n",
       "    </tr>\n",
       "    <tr>\n",
       "      <th>max</th>\n",
       "      <td>360.000000</td>\n",
       "      <td>2.790000</td>\n",
       "      <td>589.000000</td>\n",
       "      <td>513.000000</td>\n",
       "    </tr>\n",
       "  </tbody>\n",
       "</table>\n",
       "</div>"
      ],
      "text/plain": [
       "        AngleOfSign  SignAspectRatio     SignWidth    SignHeight\n",
       "count  38485.000000     38485.000000  38485.000000  38485.000000\n",
       "mean     132.930986         0.901241     92.922957    104.993140\n",
       "std       98.042472         0.226068     52.399274     53.347424\n",
       "min        1.000000         0.260000     19.000000     23.000000\n",
       "25%       42.000000         0.770000     54.000000     65.000000\n",
       "50%       80.000000         0.930000     80.000000     96.000000\n",
       "75%      228.000000         1.040000    118.000000    132.000000\n",
       "max      360.000000         2.790000    589.000000    513.000000"
      ]
     },
     "execution_count": 175,
     "metadata": {},
     "output_type": "execute_result"
    }
   ],
   "source": [
    "train.describe()"
   ]
  },
  {
   "cell_type": "code",
   "execution_count": 176,
   "metadata": {
    "collapsed": false,
    "scrolled": true
   },
   "outputs": [
    {
     "data": {
      "text/plain": [
       "Front    10910\n",
       "Right    10516\n",
       "Left      9298\n",
       "Rear      7761\n",
       "Name: DetectedCamera, dtype: int64"
      ]
     },
     "execution_count": 176,
     "metadata": {},
     "output_type": "execute_result"
    }
   ],
   "source": [
    "train['DetectedCamera'].value_counts()"
   ]
  },
  {
   "cell_type": "code",
   "execution_count": 177,
   "metadata": {
    "collapsed": true
   },
   "outputs": [],
   "source": [
    "#encode as integer\n",
    "mapping = {'Front':0, 'Left':1, 'Rear':2, 'Right':3}\n",
    "train = train.replace({'DetectedCamera':mapping})\n",
    "test = test.replace({'DetectedCamera':mapping})"
   ]
  },
  {
   "cell_type": "code",
   "execution_count": 178,
   "metadata": {
    "collapsed": true
   },
   "outputs": [],
   "source": [
    "#renaming column\n",
    "train.rename(columns = {'SignFacing (Target)': 'Target'}, inplace=True)"
   ]
  },
  {
   "cell_type": "code",
   "execution_count": 179,
   "metadata": {
    "collapsed": true
   },
   "outputs": [],
   "source": [
    "#encode Target Variable based on sample submission file\n",
    "mapping = {'Front':0, 'Left':1, 'Rear':2, 'Right':3}\n",
    "train = train.replace({'Target':mapping})"
   ]
  },
  {
   "cell_type": "code",
   "execution_count": 180,
   "metadata": {
    "collapsed": true
   },
   "outputs": [],
   "source": [
    "#target variable\n",
    "y_train = train['Target']\n",
    "test_id = test['Id']"
   ]
  },
  {
   "cell_type": "code",
   "execution_count": 181,
   "metadata": {
    "collapsed": false
   },
   "outputs": [
    {
     "data": {
      "text/plain": [
       "0    21327\n",
       "2    15662\n",
       "3      821\n",
       "1      675\n",
       "Name: Target, dtype: int64"
      ]
     },
     "execution_count": 181,
     "metadata": {},
     "output_type": "execute_result"
    }
   ],
   "source": [
    "y_train.value_counts()"
   ]
  },
  {
   "cell_type": "markdown",
   "metadata": {},
   "source": [
    "# EDA"
   ]
  },
  {
   "cell_type": "code",
   "execution_count": 182,
   "metadata": {
    "collapsed": false,
    "scrolled": true
   },
   "outputs": [
    {
     "data": {
      "text/plain": [
       "<matplotlib.collections.PathCollection at 0x7f96bdeb4278>"
      ]
     },
     "execution_count": 182,
     "metadata": {},
     "output_type": "execute_result"
    },
    {
     "data": {
      "image/png": "[encoded data removed]",
      "text/plain": [
       "<matplotlib.figure.Figure at 0x7f96be4ca400>"
      ]
     },
     "metadata": {},
     "output_type": "display_data"
    }
   ],
   "source": [
    "plt.scatter(train.AngleOfSign,y_train)"
   ]
  },
  {
   "cell_type": "code",
   "execution_count": 183,
   "metadata": {
    "collapsed": false,
    "scrolled": true
   },
   "outputs": [
    {
     "data": {
      "text/plain": [
       "<matplotlib.collections.PathCollection at 0x7f96be3b9780>"
      ]
     },
     "execution_count": 183,
     "metadata": {},
     "output_type": "execute_result"
    },
    {
     "data": {
      "image/png": "[encoded data removed]",
      "text/plain": [
       "<matplotlib.figure.Figure at 0x7f96bdeaa358>"
      ]
     },
     "metadata": {},
     "output_type": "display_data"
    }
   ],
   "source": [
    "plt.scatter(train.AngleOfSign,train.DetectedCamera)"
   ]
  },
  {
   "cell_type": "code",
   "execution_count": 184,
   "metadata": {
    "collapsed": false
   },
   "outputs": [
    {
     "data": {
      "text/plain": [
       "<matplotlib.collections.PathCollection at 0x7f96be3238d0>"
      ]
     },
     "execution_count": 184,
     "metadata": {},
     "output_type": "execute_result"
    },
    {
     "data": {
      "image/png": "[encoded data removed]",
      "text/plain": [
       "<matplotlib.figure.Figure at 0x7f96be3c18d0>"
      ]
     },
     "metadata": {},
     "output_type": "display_data"
    }
   ],
   "source": [
    "plt.scatter(train.AngleOfSign,train.SignAspectRatio)"
   ]
  },
  {
   "cell_type": "code",
   "execution_count": 185,
   "metadata": {
    "collapsed": false
   },
   "outputs": [
    {
     "data": {
      "text/plain": [
       "<matplotlib.collections.PathCollection at 0x7f96be0499e8>"
      ]
     },
     "execution_count": 185,
     "metadata": {},
     "output_type": "execute_result"
    },
    {
     "data": {
      "image/png": "[encoded data removed]",
      "text/plain": [
       "<matplotlib.figure.Figure at 0x7f96be339198>"
      ]
     },
     "metadata": {},
     "output_type": "display_data"
    }
   ],
   "source": [
    "plt.scatter(train.SignAspectRatio,y_train)"
   ]
  },
  {
   "cell_type": "markdown",
   "metadata": {},
   "source": [
    "# FE"
   ]
  },
  {
   "cell_type": "code",
   "execution_count": 186,
   "metadata": {
    "collapsed": true
   },
   "outputs": [],
   "source": [
    "# Accurate SignAspectRatio:\n",
    "\n",
    "#train[\"SignAspectRatio\"] = train[\"SignWidth\"] / train[\"SignHeight\"]"
   ]
  },
  {
   "cell_type": "code",
   "execution_count": 187,
   "metadata": {
    "collapsed": true
   },
   "outputs": [],
   "source": [
    "\n",
    "#train[\"AngByAsp\"] = train[\"AngleOfSign\"] / train[\"SignAspectRatio\"]"
   ]
  },
  {
   "cell_type": "code",
   "execution_count": 188,
   "metadata": {
    "collapsed": true
   },
   "outputs": [],
   "source": [
    "#train[\"AngByW\"] = train[\"AngleOfSign\"] / train[\"SignWidth\"]\n",
    "#train[\"AngByH\"] = train[\"AngleOfSign\"] / train[\"SignHeight\"]\n"
   ]
  },
  {
   "cell_type": "code",
   "execution_count": 189,
   "metadata": {
    "collapsed": true
   },
   "outputs": [],
   "source": [
    "#train[\"Diff\"] = train[\"SignWidth\"] - train[\"SignHeight\"]\n",
    "#test[\"Diff\"] = test[\"SignWidth\"] - test[\"SignHeight\"]"
   ]
  },
  {
   "cell_type": "code",
   "execution_count": 190,
   "metadata": {
    "collapsed": false
   },
   "outputs": [],
   "source": [
    "#train[\"expected\"] = train[\"DetectedCamera\"]\n",
    "\n",
    "#train.expected[train.SignAspectRatio<0.5] = train.expected[train.SignAspectRatio<0.5]-1\n",
    "#train.expected[train.SignAspectRatio>1.5] = train.expected[train.SignAspectRatio<0.5]-1\n"
   ]
  },
  {
   "cell_type": "code",
   "execution_count": 191,
   "metadata": {
    "collapsed": false,
    "scrolled": true
   },
   "outputs": [
    {
     "data": {
      "text/html": [
       "<div>\n",
       "<table border=\"1\" class=\"dataframe\">\n",
       "  <thead>\n",
       "    <tr style=\"text-align: right;\">\n",
       "      <th></th>\n",
       "      <th>Id</th>\n",
       "      <th>DetectedCamera</th>\n",
       "      <th>AngleOfSign</th>\n",
       "      <th>SignAspectRatio</th>\n",
       "      <th>SignWidth</th>\n",
       "      <th>SignHeight</th>\n",
       "      <th>Target</th>\n",
       "    </tr>\n",
       "  </thead>\n",
       "  <tbody>\n",
       "    <tr>\n",
       "      <th>14</th>\n",
       "      <td>2c9180975a056a64015a1e04ad9f6f8b</td>\n",
       "      <td>1</td>\n",
       "      <td>258</td>\n",
       "      <td>0.48</td>\n",
       "      <td>39</td>\n",
       "      <td>81</td>\n",
       "      <td>2</td>\n",
       "    </tr>\n",
       "    <tr>\n",
       "      <th>33</th>\n",
       "      <td>2c9180975a056a64015a1e13b6c7713e</td>\n",
       "      <td>1</td>\n",
       "      <td>253</td>\n",
       "      <td>0.43</td>\n",
       "      <td>37</td>\n",
       "      <td>87</td>\n",
       "      <td>2</td>\n",
       "    </tr>\n",
       "    <tr>\n",
       "      <th>45</th>\n",
       "      <td>2c9180975a056a64015a1e58c1407a8d</td>\n",
       "      <td>1</td>\n",
       "      <td>261</td>\n",
       "      <td>0.33</td>\n",
       "      <td>26</td>\n",
       "      <td>79</td>\n",
       "      <td>2</td>\n",
       "    </tr>\n",
       "    <tr>\n",
       "      <th>84</th>\n",
       "      <td>2c9180975a056a64015a1e6ed9d67c4c</td>\n",
       "      <td>3</td>\n",
       "      <td>78</td>\n",
       "      <td>0.44</td>\n",
       "      <td>58</td>\n",
       "      <td>132</td>\n",
       "      <td>0</td>\n",
       "    </tr>\n",
       "    <tr>\n",
       "      <th>129</th>\n",
       "      <td>2c9180975a056a64015a1e3f26a4771b</td>\n",
       "      <td>1</td>\n",
       "      <td>256</td>\n",
       "      <td>0.45</td>\n",
       "      <td>43</td>\n",
       "      <td>95</td>\n",
       "      <td>2</td>\n",
       "    </tr>\n",
       "  </tbody>\n",
       "</table>\n",
       "</div>"
      ],
      "text/plain": [
       "                                   Id  DetectedCamera  AngleOfSign  \\\n",
       "14   2c9180975a056a64015a1e04ad9f6f8b               1          258   \n",
       "33   2c9180975a056a64015a1e13b6c7713e               1          253   \n",
       "45   2c9180975a056a64015a1e58c1407a8d               1          261   \n",
       "84   2c9180975a056a64015a1e6ed9d67c4c               3           78   \n",
       "129  2c9180975a056a64015a1e3f26a4771b               1          256   \n",
       "\n",
       "     SignAspectRatio  SignWidth  SignHeight  Target  \n",
       "14              0.48         39          81       2  \n",
       "33              0.43         37          87       2  \n",
       "45              0.33         26          79       2  \n",
       "84              0.44         58         132       0  \n",
       "129             0.45         43          95       2  "
      ]
     },
     "execution_count": 191,
     "metadata": {},
     "output_type": "execute_result"
    }
   ],
   "source": [
    "train[train.SignAspectRatio<0.5].head()"
   ]
  },
  {
   "cell_type": "code",
   "execution_count": 192,
   "metadata": {
    "collapsed": false
   },
   "outputs": [
    {
     "ename": "NotFittedError",
     "evalue": "This LabelEncoder instance is not fitted yet. Call 'fit' with appropriate arguments before using this method.",
     "output_type": "error",
     "traceback": [
      "\u001b[0;31m---------------------------------------------------------------------------\u001b[0m",
      "\u001b[0;31mNotFittedError\u001b[0m                            Traceback (most recent call last)",
      "\u001b[0;32m<ipython-input-192-0a7f2e1430bd>\u001b[0m in \u001b[0;36m<module>\u001b[0;34m()\u001b[0m\n\u001b[1;32m      2\u001b[0m \u001b[0;32mfrom\u001b[0m \u001b[0msklearn\u001b[0m \u001b[0;32mimport\u001b[0m \u001b[0mpreprocessing\u001b[0m\u001b[0;34m\u001b[0m\u001b[0m\n\u001b[1;32m      3\u001b[0m \u001b[0mle\u001b[0m \u001b[0;34m=\u001b[0m \u001b[0mpreprocessing\u001b[0m\u001b[0;34m.\u001b[0m\u001b[0mLabelEncoder\u001b[0m\u001b[0;34m(\u001b[0m\u001b[0;34m)\u001b[0m\u001b[0;34m\u001b[0m\u001b[0m\n\u001b[0;32m----> 4\u001b[0;31m \u001b[0mle\u001b[0m\u001b[0;34m.\u001b[0m\u001b[0mtransform\u001b[0m\u001b[0;34m(\u001b[0m\u001b[0;34m[\u001b[0m\u001b[0;36m1\u001b[0m\u001b[0;34m,\u001b[0m \u001b[0;36m1\u001b[0m\u001b[0;34m,\u001b[0m \u001b[0;36m2\u001b[0m\u001b[0;34m,\u001b[0m \u001b[0;36m6\u001b[0m\u001b[0;34m]\u001b[0m\u001b[0;34m)\u001b[0m\u001b[0;34m\u001b[0m\u001b[0m\n\u001b[0m",
      "\u001b[0;32m/resources/common/.virtualenv/python3/lib/python3.4/site-packages/sklearn/preprocessing/label.py\u001b[0m in \u001b[0;36mtransform\u001b[0;34m(self, y)\u001b[0m\n\u001b[1;32m    144\u001b[0m         \u001b[0my\u001b[0m \u001b[0;34m:\u001b[0m \u001b[0marray\u001b[0m\u001b[0;34m-\u001b[0m\u001b[0mlike\u001b[0m \u001b[0mof\u001b[0m \u001b[0mshape\u001b[0m \u001b[0;34m[\u001b[0m\u001b[0mn_samples\u001b[0m\u001b[0;34m]\u001b[0m\u001b[0;34m\u001b[0m\u001b[0m\n\u001b[1;32m    145\u001b[0m         \"\"\"\n\u001b[0;32m--> 146\u001b[0;31m         \u001b[0mcheck_is_fitted\u001b[0m\u001b[0;34m(\u001b[0m\u001b[0mself\u001b[0m\u001b[0;34m,\u001b[0m \u001b[0;34m'classes_'\u001b[0m\u001b[0;34m)\u001b[0m\u001b[0;34m\u001b[0m\u001b[0m\n\u001b[0m\u001b[1;32m    147\u001b[0m         \u001b[0my\u001b[0m \u001b[0;34m=\u001b[0m \u001b[0mcolumn_or_1d\u001b[0m\u001b[0;34m(\u001b[0m\u001b[0my\u001b[0m\u001b[0;34m,\u001b[0m \u001b[0mwarn\u001b[0m\u001b[0;34m=\u001b[0m\u001b[0;32mTrue\u001b[0m\u001b[0;34m)\u001b[0m\u001b[0;34m\u001b[0m\u001b[0m\n\u001b[1;32m    148\u001b[0m \u001b[0;34m\u001b[0m\u001b[0m\n",
      "\u001b[0;32m/resources/common/.virtualenv/python3/lib/python3.4/site-packages/sklearn/utils/validation.py\u001b[0m in \u001b[0;36mcheck_is_fitted\u001b[0;34m(estimator, attributes, msg, all_or_any)\u001b[0m\n\u001b[1;32m    690\u001b[0m \u001b[0;34m\u001b[0m\u001b[0m\n\u001b[1;32m    691\u001b[0m     \u001b[0;32mif\u001b[0m \u001b[0;32mnot\u001b[0m \u001b[0mall_or_any\u001b[0m\u001b[0;34m(\u001b[0m\u001b[0;34m[\u001b[0m\u001b[0mhasattr\u001b[0m\u001b[0;34m(\u001b[0m\u001b[0mestimator\u001b[0m\u001b[0;34m,\u001b[0m \u001b[0mattr\u001b[0m\u001b[0;34m)\u001b[0m \u001b[0;32mfor\u001b[0m \u001b[0mattr\u001b[0m \u001b[0;32min\u001b[0m \u001b[0mattributes\u001b[0m\u001b[0;34m]\u001b[0m\u001b[0;34m)\u001b[0m\u001b[0;34m:\u001b[0m\u001b[0;34m\u001b[0m\u001b[0m\n\u001b[0;32m--> 692\u001b[0;31m         \u001b[0;32mraise\u001b[0m \u001b[0mNotFittedError\u001b[0m\u001b[0;34m(\u001b[0m\u001b[0mmsg\u001b[0m \u001b[0;34m%\u001b[0m \u001b[0;34m{\u001b[0m\u001b[0;34m'name'\u001b[0m\u001b[0;34m:\u001b[0m \u001b[0mtype\u001b[0m\u001b[0;34m(\u001b[0m\u001b[0mestimator\u001b[0m\u001b[0;34m)\u001b[0m\u001b[0;34m.\u001b[0m\u001b[0m__name__\u001b[0m\u001b[0;34m}\u001b[0m\u001b[0;34m)\u001b[0m\u001b[0;34m\u001b[0m\u001b[0m\n\u001b[0m\u001b[1;32m    693\u001b[0m \u001b[0;34m\u001b[0m\u001b[0m\n\u001b[1;32m    694\u001b[0m \u001b[0;34m\u001b[0m\u001b[0m\n",
      "\u001b[0;31mNotFittedError\u001b[0m: This LabelEncoder instance is not fitted yet. Call 'fit' with appropriate arguments before using this method."
     ]
    }
   ],
   "source": [
    "\n",
    "from sklearn import preprocessing\n",
    "le = preprocessing.LabelEncoder()\n",
    "le.transform([1, 1, 2, 6]) \n"
   ]
  },
  {
   "cell_type": "code",
   "execution_count": 193,
   "metadata": {
    "collapsed": false
   },
   "outputs": [],
   "source": [
    "#drop columns\n",
    "train.drop(['Target','Id'], inplace=True, axis=1)\n",
    "test.drop('Id',inplace=True,axis=1)\n",
    "\n",
    "train.drop('DetectedCamera', inplace=True, axis=1)\n",
    "test.drop('DetectedCamera',inplace=True,axis=1)\n",
    "\n",
    "\n",
    "#train.drop(['SignWidth', 'SignHeight'], inplace=True, axis=1)\n",
    "#test.drop(['SignWidth', 'SignHeight'],inplace=True,axis=1)\n"
   ]
  },
  {
   "cell_type": "code",
   "execution_count": 194,
   "metadata": {
    "collapsed": false
   },
   "outputs": [],
   "source": [
    "#train_X = xgb.Dma(train).tocsr()\n",
    "#test_X = test.tocsr()\n"
   ]
  },
  {
   "cell_type": "code",
   "execution_count": 168,
   "metadata": {
    "collapsed": true
   },
   "outputs": [],
   "source": [
    "def runXGB(train_X, train_y, test_X, test_y=None, feature_names=None, seed_val=321, num_rounds=100000):\n",
    "    param = {}\n",
    "    param['objective'] = 'multi:softprob'\n",
    "    param['eta'] = 0.01\n",
    "    param['max_depth'] = 4\n",
    "    param['silent'] = 1\n",
    "    param['num_class'] = 4\n",
    "    param['lambda'] = 1   \n",
    "    param['eval_metric'] = \"mlogloss\"\n",
    "    param['min_child_weight'] = 1\n",
    "    param['nthread'] = 16 \n",
    "    param['subsample'] = 0.7\n",
    "    param['colsample_bytree'] = 0.7\n",
    "    param['seed'] = seed_val\n",
    "    num_rounds = num_rounds\n",
    "\n",
    "    plst = list(param.items())\n",
    "    xgtrain = xgb.DMatrix(train_X, label=train_y)\n",
    "\n",
    "    if test_y is not None:\n",
    "        xgtest = xgb.DMatrix(test_X, label=test_y)\n",
    "        watchlist = [ (xgtrain,'train'), (xgtest, 'test') ]\n",
    "        model = xgb.train(plst, xgtrain, num_rounds, watchlist, early_stopping_rounds=50, verbose_eval = 100)\n",
    "    else:\n",
    "        xgtest = xgb.DMatrix(test_X)\n",
    "        model = xgb.train(plst, xgtrain, num_rounds)\n",
    "\n",
    "    pred_test_y = model.predict(xgtest)\n",
    "    return pred_test_y, model\n",
    "\n"
   ]
  },
  {
   "cell_type": "code",
   "execution_count": 169,
   "metadata": {
    "collapsed": false,
    "scrolled": true
   },
   "outputs": [
    {
     "name": "stdout",
     "output_type": "stream",
     "text": [
      "[0]\ttrain-mlogloss:1.36887\ttest-mlogloss:1.36897\n",
      "Multiple eval metrics have been passed: 'test-mlogloss' will be used for early stopping.\n",
      "\n",
      "Will train until test-mlogloss hasn't improved in 50 rounds.\n",
      "[100]\ttrain-mlogloss:0.515451\ttest-mlogloss:0.519781\n",
      "[200]\ttrain-mlogloss:0.255647\ttest-mlogloss:0.262061\n",
      "[300]\ttrain-mlogloss:0.161153\ttest-mlogloss:0.16951\n",
      "[400]\ttrain-mlogloss:0.124425\ttest-mlogloss:0.13499\n",
      "[500]\ttrain-mlogloss:0.108008\ttest-mlogloss:0.120624\n",
      "[600]\ttrain-mlogloss:0.099991\ttest-mlogloss:0.114349\n",
      "[700]\ttrain-mlogloss:0.095354\ttest-mlogloss:0.111414\n",
      "[800]\ttrain-mlogloss:0.092277\ttest-mlogloss:0.109862\n",
      "[900]\ttrain-mlogloss:0.089988\ttest-mlogloss:0.10912\n",
      "[1000]\ttrain-mlogloss:0.088075\ttest-mlogloss:0.108696\n",
      "[1100]\ttrain-mlogloss:0.086395\ttest-mlogloss:0.108495\n",
      "[1200]\ttrain-mlogloss:0.084868\ttest-mlogloss:0.108411\n",
      "[1300]\ttrain-mlogloss:0.083371\ttest-mlogloss:0.10844\n",
      "Stopping. Best iteration:\n",
      "[1262]\ttrain-mlogloss:0.083897\ttest-mlogloss:0.108387\n",
      "\n",
      "[0.10844751668119736]\n"
     ]
    }
   ],
   "source": [
    "from sklearn import model_selection, preprocessing, ensemble\n",
    "\n",
    "cv_scores = []\n",
    "kf = model_selection.KFold(n_splits=5, shuffle=True, random_state=2016)\n",
    "for dev_index, val_index in kf.split(range(train.shape[0])):\n",
    "        dev_X, val_X = train.loc[dev_index,:], train.loc[val_index,:]\n",
    "        dev_Y, val_Y = y_train[dev_index], y_train[val_index]\n",
    "        preds, model = runXGB(dev_X, dev_Y, val_X, val_Y)\n",
    "        cv_scores.append(log_loss(val_Y, preds))\n",
    "        print(cv_scores)\n",
    "        break"
   ]
  },
  {
   "cell_type": "code",
   "execution_count": 87,
   "metadata": {
    "collapsed": true
   },
   "outputs": [],
   "source": [
    "#[1095]\ttrain-mlogloss:0.086895\ttest-mlogloss:0.108355\n"
   ]
  },
  {
   "cell_type": "code",
   "execution_count": 88,
   "metadata": {
    "collapsed": false,
    "scrolled": true
   },
   "outputs": [],
   "source": [
    "preds, model = runXGB(train, y_train, test, num_rounds=1095)\n",
    "out_df = pd.DataFrame(preds)\n",
    "out_df.columns = [\"Front\",\"Left\",\"Rear\",\"Right\"]\n"
   ]
  },
  {
   "cell_type": "code",
   "execution_count": 91,
   "metadata": {
    "collapsed": false
   },
   "outputs": [
    {
     "data": {
      "text/plain": [
       "<matplotlib.axes._subplots.AxesSubplot at 0x7f96d017da58>"
      ]
     },
     "execution_count": 91,
     "metadata": {},
     "output_type": "execute_result"
    },
    {
     "data": {
      "image/png": "[encoded data removed]",
      "text/plain": [
       "<matplotlib.figure.Figure at 0x7f96d0189908>"
      ]
     },
     "metadata": {},
     "output_type": "display_data"
    }
   ],
   "source": [
    "fig, ax = plt.subplots(1, 1, figsize=(8, 10))\n",
    "xgb.plot_importance(model, height=0.5, ax=ax)"
   ]
  },
  {
   "cell_type": "code",
   "execution_count": null,
   "metadata": {
    "collapsed": false
   },
   "outputs": [],
   "source": [
    "out_df.describe()"
   ]
  },
  {
   "cell_type": "code",
   "execution_count": null,
   "metadata": {
    "collapsed": false,
    "scrolled": true
   },
   "outputs": [],
   "source": [
    "sample = pd.read_csv(\"India Hacks 2017/Road Sign/sample_submission.csv\")\n",
    "out_df[\"Id\"] = sample[\"Id\"]\n",
    "out_df = out_df[['Id','Front','Left','Rear','Right']]\n",
    "out_df.to_csv(\"Road_Sign_3.csv\", index=False, encoding = 'ascii')\n"
   ]
  },
  {
   "cell_type": "code",
   "execution_count": null,
   "metadata": {
    "collapsed": false
   },
   "outputs": [],
   "source": [
    "from IPython.display import FileLink, FileLinks\n",
    "FileLink('Road_Sign_3.csv')"
   ]
  },
  {
   "cell_type": "code",
   "execution_count": null,
   "metadata": {
    "collapsed": true
   },
   "outputs": [],
   "source": []
  },
  {
   "cell_type": "markdown",
   "metadata": {},
   "source": [
    "## Linaer model"
   ]
  },
  {
   "cell_type": "code",
   "execution_count": 202,
   "metadata": {
    "collapsed": false
   },
   "outputs": [],
   "source": [
    "from sklearn.linear_model import LogisticRegression\n"
   ]
  },
  {
   "cell_type": "code",
   "execution_count": 203,
   "metadata": {
    "collapsed": true
   },
   "outputs": [],
   "source": [
    "l_model = LogisticRegression()"
   ]
  },
  {
   "cell_type": "code",
   "execution_count": 204,
   "metadata": {
    "collapsed": false
   },
   "outputs": [
    {
     "data": {
      "text/plain": [
       "LogisticRegression(C=1.0, class_weight=None, dual=False, fit_intercept=True,\n",
       "          intercept_scaling=1, max_iter=100, multi_class='ovr', n_jobs=1,\n",
       "          penalty='l2', random_state=None, solver='liblinear', tol=0.0001,\n",
       "          verbose=0, warm_start=False)"
      ]
     },
     "execution_count": 204,
     "metadata": {},
     "output_type": "execute_result"
    }
   ],
   "source": [
    "l_model.fit(train, y_train)"
   ]
  },
  {
   "cell_type": "code",
   "execution_count": 208,
   "metadata": {
    "collapsed": true
   },
   "outputs": [],
   "source": [
    "l_pred = l_model.predict_proba(test)"
   ]
  },
  {
   "cell_type": "code",
   "execution_count": 210,
   "metadata": {
    "collapsed": false
   },
   "outputs": [
    {
     "data": {
      "text/plain": [
       "array([[  9.04742020e-01,   4.31645578e-05,   3.28340752e-02,\n",
       "          6.23807404e-02],\n",
       "       [  9.68180632e-01,   1.31706314e-06,   3.14570708e-02,\n",
       "          3.60980143e-04],\n",
       "       [  9.41368951e-01,   1.87209689e-05,   5.20316233e-02,\n",
       "          6.58070482e-03],\n",
       "       [  9.51038672e-01,   1.56009919e-05,   3.33430823e-02,\n",
       "          1.56026451e-02],\n",
       "       [  6.83804874e-01,   2.23137426e-04,   3.12424778e-01,\n",
       "          3.54721105e-03],\n",
       "       [  9.15537238e-01,   4.01143752e-05,   3.32247197e-02,\n",
       "          5.11979276e-02],\n",
       "       [  9.41373612e-01,   1.15225564e-05,   5.20074686e-02,\n",
       "          6.60739644e-03],\n",
       "       [  9.58754186e-02,   2.77640888e-02,   8.31531312e-01,\n",
       "          4.48291807e-02],\n",
       "       [  1.36770374e-01,   8.62067672e-03,   8.46164964e-01,\n",
       "          8.44398521e-03]])"
      ]
     },
     "execution_count": 210,
     "metadata": {},
     "output_type": "execute_result"
    }
   ],
   "source": [
    "l_pred[1:10,:]"
   ]
  },
  {
   "cell_type": "code",
   "execution_count": 212,
   "metadata": {
    "collapsed": false
   },
   "outputs": [],
   "source": [
    "out_df_l = pd.DataFrame(l_pred)\n",
    "out_df_l.columns = [\"Front\",\"Left\",\"Rear\",\"Right\"]\n",
    "\n",
    "\n",
    "sample = pd.read_csv(\"India Hacks 2017/Road Sign/sample_submission.csv\")\n",
    "out_df_l[\"Id\"] = sample[\"Id\"]\n",
    "out_df_l = out_df_l[['Id','Front','Left','Rear','Right']]\n",
    "#out_df_l.to_csv(\"Road_Sign_3_l.csv\", index=False, encoding = 'ascii')\n",
    "\n"
   ]
  },
  {
   "cell_type": "code",
   "execution_count": 213,
   "metadata": {
    "collapsed": false,
    "scrolled": false
   },
   "outputs": [
    {
     "data": {
      "text/html": [
       "<div>\n",
       "<table border=\"1\" class=\"dataframe\">\n",
       "  <thead>\n",
       "    <tr style=\"text-align: right;\">\n",
       "      <th></th>\n",
       "      <th>Id</th>\n",
       "      <th>Front</th>\n",
       "      <th>Left</th>\n",
       "      <th>Rear</th>\n",
       "      <th>Right</th>\n",
       "    </tr>\n",
       "  </thead>\n",
       "  <tbody>\n",
       "    <tr>\n",
       "      <th>0</th>\n",
       "      <td>2c9180975a056a64015a1e10d3f270fe</td>\n",
       "      <td>0.979888</td>\n",
       "      <td>4.355050e-07</td>\n",
       "      <td>0.019485</td>\n",
       "      <td>0.000627</td>\n",
       "    </tr>\n",
       "    <tr>\n",
       "      <th>1</th>\n",
       "      <td>2c9180975a056a64015a1de4deb16bdc</td>\n",
       "      <td>0.904742</td>\n",
       "      <td>4.316456e-05</td>\n",
       "      <td>0.032834</td>\n",
       "      <td>0.062381</td>\n",
       "    </tr>\n",
       "    <tr>\n",
       "      <th>2</th>\n",
       "      <td>2c9180975a056a64015a1e0e70ea70ce</td>\n",
       "      <td>0.968181</td>\n",
       "      <td>1.317063e-06</td>\n",
       "      <td>0.031457</td>\n",
       "      <td>0.000361</td>\n",
       "    </tr>\n",
       "    <tr>\n",
       "      <th>3</th>\n",
       "      <td>2c9180975a056a64015a1dfed0c46ec6</td>\n",
       "      <td>0.941369</td>\n",
       "      <td>1.872097e-05</td>\n",
       "      <td>0.052032</td>\n",
       "      <td>0.006581</td>\n",
       "    </tr>\n",
       "    <tr>\n",
       "      <th>4</th>\n",
       "      <td>2c9180975a056a64015a1dfed0c46ec7</td>\n",
       "      <td>0.951039</td>\n",
       "      <td>1.560099e-05</td>\n",
       "      <td>0.033343</td>\n",
       "      <td>0.015603</td>\n",
       "    </tr>\n",
       "  </tbody>\n",
       "</table>\n",
       "</div>"
      ],
      "text/plain": [
       "                                 Id     Front          Left      Rear  \\\n",
       "0  2c9180975a056a64015a1e10d3f270fe  0.979888  4.355050e-07  0.019485   \n",
       "1  2c9180975a056a64015a1de4deb16bdc  0.904742  4.316456e-05  0.032834   \n",
       "2  2c9180975a056a64015a1e0e70ea70ce  0.968181  1.317063e-06  0.031457   \n",
       "3  2c9180975a056a64015a1dfed0c46ec6  0.941369  1.872097e-05  0.052032   \n",
       "4  2c9180975a056a64015a1dfed0c46ec7  0.951039  1.560099e-05  0.033343   \n",
       "\n",
       "      Right  \n",
       "0  0.000627  \n",
       "1  0.062381  \n",
       "2  0.000361  \n",
       "3  0.006581  \n",
       "4  0.015603  "
      ]
     },
     "execution_count": 213,
     "metadata": {},
     "output_type": "execute_result"
    }
   ],
   "source": [
    "out_df_l.head()"
   ]
  },
  {
   "cell_type": "code",
   "execution_count": 215,
   "metadata": {
    "collapsed": false
   },
   "outputs": [
    {
     "data": {
      "text/html": [
       "<div>\n",
       "<table border=\"1\" class=\"dataframe\">\n",
       "  <thead>\n",
       "    <tr style=\"text-align: right;\">\n",
       "      <th></th>\n",
       "      <th>Id</th>\n",
       "      <th>Front</th>\n",
       "      <th>Left</th>\n",
       "      <th>Rear</th>\n",
       "      <th>Right</th>\n",
       "    </tr>\n",
       "  </thead>\n",
       "  <tbody>\n",
       "    <tr>\n",
       "      <th>0</th>\n",
       "      <td>2c9180975a056a64015a1e10d3f270fe</td>\n",
       "      <td>0.995460</td>\n",
       "      <td>0.000247</td>\n",
       "      <td>0.001784</td>\n",
       "      <td>0.002508</td>\n",
       "    </tr>\n",
       "    <tr>\n",
       "      <th>1</th>\n",
       "      <td>2c9180975a056a64015a1de4deb16bdc</td>\n",
       "      <td>0.997857</td>\n",
       "      <td>0.000840</td>\n",
       "      <td>0.000235</td>\n",
       "      <td>0.001068</td>\n",
       "    </tr>\n",
       "    <tr>\n",
       "      <th>2</th>\n",
       "      <td>2c9180975a056a64015a1e0e70ea70ce</td>\n",
       "      <td>0.997707</td>\n",
       "      <td>0.000165</td>\n",
       "      <td>0.000687</td>\n",
       "      <td>0.001440</td>\n",
       "    </tr>\n",
       "    <tr>\n",
       "      <th>3</th>\n",
       "      <td>2c9180975a056a64015a1dfed0c46ec6</td>\n",
       "      <td>0.996606</td>\n",
       "      <td>0.000272</td>\n",
       "      <td>0.000966</td>\n",
       "      <td>0.002157</td>\n",
       "    </tr>\n",
       "    <tr>\n",
       "      <th>4</th>\n",
       "      <td>2c9180975a056a64015a1dfed0c46ec7</td>\n",
       "      <td>0.998129</td>\n",
       "      <td>0.000501</td>\n",
       "      <td>0.000172</td>\n",
       "      <td>0.001197</td>\n",
       "    </tr>\n",
       "  </tbody>\n",
       "</table>\n",
       "</div>"
      ],
      "text/plain": [
       "                                 Id     Front      Left      Rear     Right\n",
       "0  2c9180975a056a64015a1e10d3f270fe  0.995460  0.000247  0.001784  0.002508\n",
       "1  2c9180975a056a64015a1de4deb16bdc  0.997857  0.000840  0.000235  0.001068\n",
       "2  2c9180975a056a64015a1e0e70ea70ce  0.997707  0.000165  0.000687  0.001440\n",
       "3  2c9180975a056a64015a1dfed0c46ec6  0.996606  0.000272  0.000966  0.002157\n",
       "4  2c9180975a056a64015a1dfed0c46ec7  0.998129  0.000501  0.000172  0.001197"
      ]
     },
     "execution_count": 215,
     "metadata": {},
     "output_type": "execute_result"
    }
   ],
   "source": [
    "out_df = pd.read_csv(\"Road_Sign_3.csv\")\n",
    "out_df.head()"
   ]
  },
  {
   "cell_type": "code",
   "execution_count": 216,
   "metadata": {
    "collapsed": true
   },
   "outputs": [],
   "source": [
    "out_avg = out_df\n",
    "out_avg.Front = out_df.Front * 0.8 + out_df_l.Front * 0.2\n",
    "out_avg.Left = out_df.Left * 0.8 + out_df_l.Left * 0.2\n",
    "out_avg.Rear = out_df.Rear * 0.8 + out_df_l.Rear * 0.2\n",
    "out_avg.Right = out_df.Right * 0.8 + out_df_l.Right * 0.2"
   ]
  },
  {
   "cell_type": "code",
   "execution_count": 217,
   "metadata": {
    "collapsed": false
   },
   "outputs": [
    {
     "data": {
      "text/html": [
       "<a href='Road_Sign_3_avg_0.8xgb_0.2l.csv' target='_blank'>Road_Sign_3_avg_0.8xgb_0.2l.csv</a><br>"
      ],
      "text/plain": [
       "/resources/Road_Sign_3_avg_0.8xgb_0.2l.csv"
      ]
     },
     "execution_count": 217,
     "metadata": {},
     "output_type": "execute_result"
    }
   ],
   "source": [
    "out_avg.to_csv(\"Road_Sign_3_avg_0.8xgb_0.2l.csv\", index=False, encoding = 'ascii')\n",
    "\n",
    "from IPython.display import FileLink, FileLinks\n",
    "FileLink('Road_Sign_3_avg_0.8xgb_0.2l.csv')"
   ]
  },
  {
   "cell_type": "code",
   "execution_count": null,
   "metadata": {
    "collapsed": true
   },
   "outputs": [],
   "source": []
  }
 ],
 "metadata": {
  "kernelspec": {
   "display_name": "Python 3",
   "language": "python",
   "name": "python3"
  },
  "language_info": {
   "codemirror_mode": {
    "name": "ipython",
    "version": 3
   },
   "file_extension": ".py",
   "mimetype": "text/x-python",
   "name": "python",
   "nbconvert_exporter": "python",
   "pygments_lexer": "ipython3",
   "version": "3.4.3"
  },
  "widgets": {
   "state": {},
   "version": "1.1.2"
  }
 },
 "nbformat": 4,
 "nbformat_minor": 0
}
