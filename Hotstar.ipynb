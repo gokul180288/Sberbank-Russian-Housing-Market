{
 "cells": [
  {
   "cell_type": "code",
   "execution_count": 156,
   "metadata": {
    "collapsed": false
   },
   "outputs": [],
   "source": [
    "\n",
    "import numpy as np\n",
    "import pandas as pd\n",
    "import re\n",
    "import xgboost as xgb\n",
    "import matplotlib.pyplot as plt\n",
    "\n",
    "import seaborn as sns\n",
    "color = sns.color_palette()\n",
    "\n",
    "\n",
    "\n",
    "%matplotlib inline"
   ]
  },
  {
   "cell_type": "code",
   "execution_count": 157,
   "metadata": {
    "collapsed": false,
    "scrolled": true
   },
   "outputs": [],
   "source": [
    "train_data = pd.read_json('India Hacks 2017/Hotstar/train_data.json',orient=\"index\")\n",
    "test_data = pd.read_json('India Hacks 2017/Hotstar/test_data.json',orient='index')\n"
   ]
  },
  {
   "cell_type": "code",
   "execution_count": 158,
   "metadata": {
    "collapsed": true
   },
   "outputs": [],
   "source": [
    "#set index\n",
    "train_data.reset_index(level = 0, inplace = True)\n",
    "train_data.rename(columns={'index':'ID'}, inplace=True)\n",
    "\n",
    "test_data.reset_index(level = 0, inplace = True)\n",
    "test_data.rename(columns={'index':'ID'}, inplace=True)"
   ]
  },
  {
   "cell_type": "code",
   "execution_count": 159,
   "metadata": {
    "collapsed": false
   },
   "outputs": [
    {
     "name": "stdout",
     "output_type": "stream",
     "text": [
      "Train data has 200000 rows and 7 columns\n",
      "test_data data has 100000 rows and 6 columns\n"
     ]
    }
   ],
   "source": [
    "print ('Train data has {} rows and {} columns'.format(train_data.shape[0],train_data.shape[1]))\n",
    "print ('test_data data has {} rows and {} columns'.format(test_data.shape[0],test_data.shape[1]))"
   ]
  },
  {
   "cell_type": "code",
   "execution_count": 160,
   "metadata": {
    "collapsed": false
   },
   "outputs": [
    {
     "data": {
      "text/html": [
       "<div>\n",
       "<table border=\"1\" class=\"dataframe\">\n",
       "  <thead>\n",
       "    <tr style=\"text-align: right;\">\n",
       "      <th></th>\n",
       "      <th>ID</th>\n",
       "      <th>cities</th>\n",
       "      <th>dow</th>\n",
       "      <th>genres</th>\n",
       "      <th>segment</th>\n",
       "      <th>titles</th>\n",
       "      <th>tod</th>\n",
       "    </tr>\n",
       "  </thead>\n",
       "  <tbody>\n",
       "    <tr>\n",
       "      <th>12</th>\n",
       "      <td>train-100007</td>\n",
       "      <td>gurgaon:3703,bangalore:6283,mumbai:132815</td>\n",
       "      <td>1:27096,3:29521,2:19751,5:32613,4:14633,7:20,6...</td>\n",
       "      <td>Drama:47986,Romance:21147,TalkShow:54,Family:7...</td>\n",
       "      <td>pos</td>\n",
       "      <td>Naamkarann:697,Chandra Nandni:1099,Pardes Mein...</td>\n",
       "      <td>11:15355,10:90,13:20469,12:26603,15:20863,14:1...</td>\n",
       "    </tr>\n",
       "    <tr>\n",
       "      <th>28</th>\n",
       "      <td>train-100021</td>\n",
       "      <td>navi mumbai:3902</td>\n",
       "      <td>4:3902</td>\n",
       "      <td>Action:3902</td>\n",
       "      <td>pos</td>\n",
       "      <td>D - Underworld Badshah:3902</td>\n",
       "      <td>3:2283,4:1619</td>\n",
       "    </tr>\n",
       "    <tr>\n",
       "      <th>35</th>\n",
       "      <td>train-100028</td>\n",
       "      <td>delhi:6445</td>\n",
       "      <td>1:759,3:84,7:3710,6:1891</td>\n",
       "      <td>Drama:3165,Romance:25,Family:3254</td>\n",
       "      <td>pos</td>\n",
       "      <td>Ye Hai Mohabbatein:25,MS Dhoni: The Untold Sto...</td>\n",
       "      <td>0:843,12:306,17:1585,22:47,23:3663</td>\n",
       "    </tr>\n",
       "    <tr>\n",
       "      <th>45</th>\n",
       "      <td>train-100037</td>\n",
       "      <td>delhi:8,tirupati:12693</td>\n",
       "      <td>1:4115,3:6253,2:322,6:2010</td>\n",
       "      <td>Drama:5,TalkShow:12677,Comedy:8,Reality:10</td>\n",
       "      <td>pos</td>\n",
       "      <td>On Air With AIB:8,Star Screen Awards:10,Koffee...</td>\n",
       "      <td>15:280,17:1918,16:2798,18:1095,23:322,1:2713,0...</td>\n",
       "    </tr>\n",
       "    <tr>\n",
       "      <th>47</th>\n",
       "      <td>train-100039</td>\n",
       "      <td>bangalore:25714</td>\n",
       "      <td>1:7368,3:5125,2:3961,5:88,4:4129,6:5040</td>\n",
       "      <td>Drama:3809,Cricket:542,TalkShow:16455,Romance:...</td>\n",
       "      <td>pos</td>\n",
       "      <td>Diana's deadly curse:133,Andaz Apna Apna:3870,...</td>\n",
       "      <td>11:4407,10:5121,13:345,12:2918,15:139,14:5,17:...</td>\n",
       "    </tr>\n",
       "    <tr>\n",
       "      <th>48</th>\n",
       "      <td>train-10004</td>\n",
       "      <td>navi mumbai:19155</td>\n",
       "      <td>1:2437,3:3099,2:2290,5:4078,4:7246</td>\n",
       "      <td>Drama:16254,Romance:2900</td>\n",
       "      <td>pos</td>\n",
       "      <td>Naamkarann:1182,Yeh Rishta Kya Kehlata Hai:402...</td>\n",
       "      <td>11:1885,10:1259,12:1352,15:5,14:2598,17:3418,1...</td>\n",
       "    </tr>\n",
       "    <tr>\n",
       "      <th>91</th>\n",
       "      <td>train-100079</td>\n",
       "      <td>paris:188</td>\n",
       "      <td>1:188</td>\n",
       "      <td>TalkShow:188</td>\n",
       "      <td>pos</td>\n",
       "      <td>Koffee With Karan:188</td>\n",
       "      <td>12:188</td>\n",
       "    </tr>\n",
       "    <tr>\n",
       "      <th>93</th>\n",
       "      <td>train-100080</td>\n",
       "      <td>bangalore:6133</td>\n",
       "      <td>3:6133</td>\n",
       "      <td>Romance:2420,Family:3713</td>\n",
       "      <td>pos</td>\n",
       "      <td>Pardes Mein Hai Mera Dil:2420,Ishqbaaaz:3713</td>\n",
       "      <td>19:2401,20:1312,21:1039,22:1381</td>\n",
       "    </tr>\n",
       "    <tr>\n",
       "      <th>104</th>\n",
       "      <td>train-100090</td>\n",
       "      <td>navi mumbai:273</td>\n",
       "      <td>6:272</td>\n",
       "      <td>Drama:129,Awards:143</td>\n",
       "      <td>pos</td>\n",
       "      <td>Neeli:129,Filmfare Awards South-Kannada:143</td>\n",
       "      <td>11:272</td>\n",
       "    </tr>\n",
       "    <tr>\n",
       "      <th>113</th>\n",
       "      <td>train-100099</td>\n",
       "      <td>Unknown:39359,mumbai:53408</td>\n",
       "      <td>1:22488,2:65,5:13822,4:11503,7:21355,6:23527</td>\n",
       "      <td>Drama:73894,Family:11683,TalkShow:346,Romance:...</td>\n",
       "      <td>pos</td>\n",
       "      <td>Naamkarann:5118,The Space Between Us:11,Chandr...</td>\n",
       "      <td>13:5121,12:5,15:6031,17:16092,22:694,23:5775,1...</td>\n",
       "    </tr>\n",
       "    <tr>\n",
       "      <th>135</th>\n",
       "      <td>train-100118</td>\n",
       "      <td>chennai:37,nagar:1974</td>\n",
       "      <td>1:1855,3:86,5:37,7:32</td>\n",
       "      <td>Drama:2,Reality:32,Family:1940,Crime:37</td>\n",
       "      <td>pos</td>\n",
       "      <td>Introducing Amazon Prime Video:32,Savdhaan Ind...</td>\n",
       "      <td>13:37,14:118,23:1855</td>\n",
       "    </tr>\n",
       "    <tr>\n",
       "      <th>149</th>\n",
       "      <td>train-100130</td>\n",
       "      <td>hyderabad:18390</td>\n",
       "      <td>1:2241,3:1810,2:2587,5:4422,4:4583,7:171,6:2573</td>\n",
       "      <td>Romance:2737,Drama:15653</td>\n",
       "      <td>pos</td>\n",
       "      <td>Yeh Rishta Kya Kehlata Hai:175,Chandra Nandni:...</td>\n",
       "      <td>11:5,10:802,13:3521,20:599,21:2980,22:4374,23:...</td>\n",
       "    </tr>\n",
       "    <tr>\n",
       "      <th>160</th>\n",
       "      <td>train-100140</td>\n",
       "      <td>surat:5</td>\n",
       "      <td>1:5</td>\n",
       "      <td>Reality:5</td>\n",
       "      <td>pos</td>\n",
       "      <td>Adhu Idhu Yedhu:5</td>\n",
       "      <td>21:5</td>\n",
       "    </tr>\n",
       "    <tr>\n",
       "      <th>162</th>\n",
       "      <td>train-100142</td>\n",
       "      <td>Unknown:592</td>\n",
       "      <td>7:592</td>\n",
       "      <td>Drama:592</td>\n",
       "      <td>pos</td>\n",
       "      <td>Punyi Pukur:592</td>\n",
       "      <td>21:592</td>\n",
       "    </tr>\n",
       "    <tr>\n",
       "      <th>165</th>\n",
       "      <td>train-100145</td>\n",
       "      <td>new delhi:567,delhi:10444</td>\n",
       "      <td>1:321,3:1104,5:8851,4:731</td>\n",
       "      <td>Drama:34,Family:1150,TalkShow:143,Horror:1190,...</td>\n",
       "      <td>pos</td>\n",
       "      <td>1920:504,Exists:337,Son Of Sardaar:354,Souten:...</td>\n",
       "      <td>13:213,15:3078,14:2777,17:1027,16:3558,18:354</td>\n",
       "    </tr>\n",
       "    <tr>\n",
       "      <th>168</th>\n",
       "      <td>train-100148</td>\n",
       "      <td>mumbai:553</td>\n",
       "      <td>6:552</td>\n",
       "      <td>Romance:499,Cricket:0,Family:53</td>\n",
       "      <td>pos</td>\n",
       "      <td>Lynn Inspires Heat to an Easy Win:0,Pardes Mei...</td>\n",
       "      <td>19:552</td>\n",
       "    </tr>\n",
       "    <tr>\n",
       "      <th>175</th>\n",
       "      <td>train-100154</td>\n",
       "      <td>mumbai:8876</td>\n",
       "      <td>1:2825,3:2920,5:631,7:86,6:2413</td>\n",
       "      <td>Romance:6031,Drama:2833,Kids:10</td>\n",
       "      <td>pos</td>\n",
       "      <td>Ichche Nodee:66,Punyi Pukur:5,Khoka Babu:5965,...</td>\n",
       "      <td>11:3505,10:1138,13:1320,12:2255,15:656</td>\n",
       "    </tr>\n",
       "    <tr>\n",
       "      <th>186</th>\n",
       "      <td>train-100164</td>\n",
       "      <td>Unknown:6822,bangalore:33432,chennai:3651,new ...</td>\n",
       "      <td>1:8857,3:4989,2:3838,5:4158,4:26751,7:309,6:3936</td>\n",
       "      <td>Romance:30441,Drama:17820,Comedy:3065,Thriller...</td>\n",
       "      <td>pos</td>\n",
       "      <td>Kali:12582,Pranayam:17859,Chandanamazha:17820,...</td>\n",
       "      <td>11:1098,10:1279,13:1563,20:6798,14:2877,22:441...</td>\n",
       "    </tr>\n",
       "    <tr>\n",
       "      <th>187</th>\n",
       "      <td>train-100165</td>\n",
       "      <td>delhi:6032</td>\n",
       "      <td>2:6032</td>\n",
       "      <td>Action:6032</td>\n",
       "      <td>pos</td>\n",
       "      <td>Baby:6032</td>\n",
       "      <td>19:2556,18:775,20:2548,21:153</td>\n",
       "    </tr>\n",
       "    <tr>\n",
       "      <th>198</th>\n",
       "      <td>train-100175</td>\n",
       "      <td>bangalore:122,mumbai:1800</td>\n",
       "      <td>2:1922</td>\n",
       "      <td>TalkShow:1922</td>\n",
       "      <td>pos</td>\n",
       "      <td>Koffee With Karan:1922</td>\n",
       "      <td>8:122,10:1800</td>\n",
       "    </tr>\n",
       "  </tbody>\n",
       "</table>\n",
       "</div>"
      ],
      "text/plain": [
       "               ID                                             cities  \\\n",
       "12   train-100007          gurgaon:3703,bangalore:6283,mumbai:132815   \n",
       "28   train-100021                                   navi mumbai:3902   \n",
       "35   train-100028                                         delhi:6445   \n",
       "45   train-100037                             delhi:8,tirupati:12693   \n",
       "47   train-100039                                    bangalore:25714   \n",
       "48    train-10004                                  navi mumbai:19155   \n",
       "91   train-100079                                          paris:188   \n",
       "93   train-100080                                     bangalore:6133   \n",
       "104  train-100090                                    navi mumbai:273   \n",
       "113  train-100099                         Unknown:39359,mumbai:53408   \n",
       "135  train-100118                              chennai:37,nagar:1974   \n",
       "149  train-100130                                    hyderabad:18390   \n",
       "160  train-100140                                            surat:5   \n",
       "162  train-100142                                        Unknown:592   \n",
       "165  train-100145                          new delhi:567,delhi:10444   \n",
       "168  train-100148                                         mumbai:553   \n",
       "175  train-100154                                        mumbai:8876   \n",
       "186  train-100164  Unknown:6822,bangalore:33432,chennai:3651,new ...   \n",
       "187  train-100165                                         delhi:6032   \n",
       "198  train-100175                          bangalore:122,mumbai:1800   \n",
       "\n",
       "                                                   dow  \\\n",
       "12   1:27096,3:29521,2:19751,5:32613,4:14633,7:20,6...   \n",
       "28                                              4:3902   \n",
       "35                            1:759,3:84,7:3710,6:1891   \n",
       "45                          1:4115,3:6253,2:322,6:2010   \n",
       "47             1:7368,3:5125,2:3961,5:88,4:4129,6:5040   \n",
       "48                  1:2437,3:3099,2:2290,5:4078,4:7246   \n",
       "91                                               1:188   \n",
       "93                                              3:6133   \n",
       "104                                              6:272   \n",
       "113       1:22488,2:65,5:13822,4:11503,7:21355,6:23527   \n",
       "135                              1:1855,3:86,5:37,7:32   \n",
       "149    1:2241,3:1810,2:2587,5:4422,4:4583,7:171,6:2573   \n",
       "160                                                1:5   \n",
       "162                                              7:592   \n",
       "165                          1:321,3:1104,5:8851,4:731   \n",
       "168                                              6:552   \n",
       "175                    1:2825,3:2920,5:631,7:86,6:2413   \n",
       "186   1:8857,3:4989,2:3838,5:4158,4:26751,7:309,6:3936   \n",
       "187                                             2:6032   \n",
       "198                                             2:1922   \n",
       "\n",
       "                                                genres segment  \\\n",
       "12   Drama:47986,Romance:21147,TalkShow:54,Family:7...     pos   \n",
       "28                                         Action:3902     pos   \n",
       "35                   Drama:3165,Romance:25,Family:3254     pos   \n",
       "45          Drama:5,TalkShow:12677,Comedy:8,Reality:10     pos   \n",
       "47   Drama:3809,Cricket:542,TalkShow:16455,Romance:...     pos   \n",
       "48                            Drama:16254,Romance:2900     pos   \n",
       "91                                        TalkShow:188     pos   \n",
       "93                            Romance:2420,Family:3713     pos   \n",
       "104                               Drama:129,Awards:143     pos   \n",
       "113  Drama:73894,Family:11683,TalkShow:346,Romance:...     pos   \n",
       "135            Drama:2,Reality:32,Family:1940,Crime:37     pos   \n",
       "149                           Romance:2737,Drama:15653     pos   \n",
       "160                                          Reality:5     pos   \n",
       "162                                          Drama:592     pos   \n",
       "165  Drama:34,Family:1150,TalkShow:143,Horror:1190,...     pos   \n",
       "168                    Romance:499,Cricket:0,Family:53     pos   \n",
       "175                    Romance:6031,Drama:2833,Kids:10     pos   \n",
       "186  Romance:30441,Drama:17820,Comedy:3065,Thriller...     pos   \n",
       "187                                        Action:6032     pos   \n",
       "198                                      TalkShow:1922     pos   \n",
       "\n",
       "                                                titles  \\\n",
       "12   Naamkarann:697,Chandra Nandni:1099,Pardes Mein...   \n",
       "28                         D - Underworld Badshah:3902   \n",
       "35   Ye Hai Mohabbatein:25,MS Dhoni: The Untold Sto...   \n",
       "45   On Air With AIB:8,Star Screen Awards:10,Koffee...   \n",
       "47   Diana's deadly curse:133,Andaz Apna Apna:3870,...   \n",
       "48   Naamkarann:1182,Yeh Rishta Kya Kehlata Hai:402...   \n",
       "91                               Koffee With Karan:188   \n",
       "93        Pardes Mein Hai Mera Dil:2420,Ishqbaaaz:3713   \n",
       "104        Neeli:129,Filmfare Awards South-Kannada:143   \n",
       "113  Naamkarann:5118,The Space Between Us:11,Chandr...   \n",
       "135  Introducing Amazon Prime Video:32,Savdhaan Ind...   \n",
       "149  Yeh Rishta Kya Kehlata Hai:175,Chandra Nandni:...   \n",
       "160                                  Adhu Idhu Yedhu:5   \n",
       "162                                    Punyi Pukur:592   \n",
       "165  1920:504,Exists:337,Son Of Sardaar:354,Souten:...   \n",
       "168  Lynn Inspires Heat to an Easy Win:0,Pardes Mei...   \n",
       "175  Ichche Nodee:66,Punyi Pukur:5,Khoka Babu:5965,...   \n",
       "186  Kali:12582,Pranayam:17859,Chandanamazha:17820,...   \n",
       "187                                          Baby:6032   \n",
       "198                             Koffee With Karan:1922   \n",
       "\n",
       "                                                   tod  \n",
       "12   11:15355,10:90,13:20469,12:26603,15:20863,14:1...  \n",
       "28                                       3:2283,4:1619  \n",
       "35                  0:843,12:306,17:1585,22:47,23:3663  \n",
       "45   15:280,17:1918,16:2798,18:1095,23:322,1:2713,0...  \n",
       "47   11:4407,10:5121,13:345,12:2918,15:139,14:5,17:...  \n",
       "48   11:1885,10:1259,12:1352,15:5,14:2598,17:3418,1...  \n",
       "91                                              12:188  \n",
       "93                     19:2401,20:1312,21:1039,22:1381  \n",
       "104                                             11:272  \n",
       "113  13:5121,12:5,15:6031,17:16092,22:694,23:5775,1...  \n",
       "135                               13:37,14:118,23:1855  \n",
       "149  11:5,10:802,13:3521,20:599,21:2980,22:4374,23:...  \n",
       "160                                               21:5  \n",
       "162                                             21:592  \n",
       "165      13:213,15:3078,14:2777,17:1027,16:3558,18:354  \n",
       "168                                             19:552  \n",
       "175             11:3505,10:1138,13:1320,12:2255,15:656  \n",
       "186  11:1098,10:1279,13:1563,20:6798,14:2877,22:441...  \n",
       "187                      19:2556,18:775,20:2548,21:153  \n",
       "198                                      8:122,10:1800  "
      ]
     },
     "execution_count": 160,
     "metadata": {},
     "output_type": "execute_result"
    }
   ],
   "source": [
    "train_data[train_data.segment==\"pos\"].head(20)"
   ]
  },
  {
   "cell_type": "code",
   "execution_count": 161,
   "metadata": {
    "collapsed": false,
    "scrolled": true
   },
   "outputs": [
    {
     "data": {
      "text/html": [
       "<div>\n",
       "<table border=\"1\" class=\"dataframe\">\n",
       "  <thead>\n",
       "    <tr style=\"text-align: right;\">\n",
       "      <th></th>\n",
       "      <th>ID</th>\n",
       "      <th>cities</th>\n",
       "      <th>dow</th>\n",
       "      <th>genres</th>\n",
       "      <th>segment</th>\n",
       "      <th>titles</th>\n",
       "      <th>tod</th>\n",
       "    </tr>\n",
       "  </thead>\n",
       "  <tbody>\n",
       "    <tr>\n",
       "      <th>0</th>\n",
       "      <td>train-1</td>\n",
       "      <td>gurgaon:55494,delhi:31892</td>\n",
       "      <td>1:3412,3:15878,2:1737,5:10975,4:20974,7:17820,...</td>\n",
       "      <td>Cricket:82379,Kabaddi:255,Reality:4751</td>\n",
       "      <td>neg</td>\n",
       "      <td>Top Raids: Haryana vs Services SCB:103,Day 4: ...</td>\n",
       "      <td>10:26,13:331,12:323,20:21864,21:16233,17:7953,...</td>\n",
       "    </tr>\n",
       "    <tr>\n",
       "      <th>1</th>\n",
       "      <td>train-10</td>\n",
       "      <td>delhi:5862,nagar:8916,mumbai:1593</td>\n",
       "      <td>1:5745,3:3025,2:3346,5:123,4:3007,7:1108,6:10</td>\n",
       "      <td>Cricket:15640,Wildlife:730</td>\n",
       "      <td>neg</td>\n",
       "      <td>Dhoni Quits Captaincy:148,Day 4: India Move in...</td>\n",
       "      <td>11:1661,10:384,20:401,21:798,22:221,16:525,19:...</td>\n",
       "    </tr>\n",
       "    <tr>\n",
       "      <th>2</th>\n",
       "      <td>train-100</td>\n",
       "      <td>navi mumbai:4142</td>\n",
       "      <td>3:4142</td>\n",
       "      <td>LiveTV:13,Football:4129</td>\n",
       "      <td>neg</td>\n",
       "      <td>Star Sports 4:13,Manchester United vs Everton:...</td>\n",
       "      <td>1:1207,0:2406,2:529</td>\n",
       "    </tr>\n",
       "    <tr>\n",
       "      <th>3</th>\n",
       "      <td>train-1000</td>\n",
       "      <td>new delhi:4131,chennai:2878,navi mumbai:1339</td>\n",
       "      <td>1:658,3:5867,5:413,4:1339,7:71</td>\n",
       "      <td>TalkShow:658,Cricket:7690</td>\n",
       "      <td>neg</td>\n",
       "      <td>SRH vs RCB:701,KKR vs KXIP:1042,MI vs SRH:2288...</td>\n",
       "      <td>11:71,20:2417,21:1042,23:2288,19:1872,8:658</td>\n",
       "    </tr>\n",
       "    <tr>\n",
       "      <th>4</th>\n",
       "      <td>train-10000</td>\n",
       "      <td>gurgaon:6077,chennai:4055</td>\n",
       "      <td>1:1641,2:480,4:1445,7:1663,6:4900</td>\n",
       "      <td>Drama:5503,Cricket:3283,Reality:1345</td>\n",
       "      <td>neg</td>\n",
       "      <td>MI vs KKR:304,Yeh Rishta Kya Kehlata Hai:5449,...</td>\n",
       "      <td>20:158,22:4139,17:67,23:1510,19:288,18:56,0:23...</td>\n",
       "    </tr>\n",
       "    <tr>\n",
       "      <th>5</th>\n",
       "      <td>train-100000</td>\n",
       "      <td>hyderabad:998,bangalore:2748,gulbarga:43317,be...</td>\n",
       "      <td>1:6707,3:1948,2:3574,5:8525,4:18938,7:8295,6:7344</td>\n",
       "      <td>Action:998,Drama:8795,Cricket:45541</td>\n",
       "      <td>neg</td>\n",
       "      <td>India vs Australia 2nd Test English:2836,SRH v...</td>\n",
       "      <td>11:3450,10:1243,13:4420,12:4210,20:7050,21:770...</td>\n",
       "    </tr>\n",
       "    <tr>\n",
       "      <th>6</th>\n",
       "      <td>train-100001</td>\n",
       "      <td>navi mumbai:10155</td>\n",
       "      <td>1:1575,3:5330,2:1242,4:2007</td>\n",
       "      <td>Action:963,TalkShow:18,Romance:1357,Mythology:...</td>\n",
       "      <td>neg</td>\n",
       "      <td>Jodi:7222,Maapillai:1357,Mahabharatham:594,Ban...</td>\n",
       "      <td>11:20,12:574,21:1357,22:1066,23:2290,0:4847</td>\n",
       "    </tr>\n",
       "    <tr>\n",
       "      <th>7</th>\n",
       "      <td>train-100002</td>\n",
       "      <td>delhi:1571,navi mumbai:12729</td>\n",
       "      <td>1:333,2:2233,5:739,4:268,7:10727</td>\n",
       "      <td>Drama:4344,Cricket:9956</td>\n",
       "      <td>neg</td>\n",
       "      <td>Chandra Nandni:4344,India vs England 2nd T20I ...</td>\n",
       "      <td>11:242,15:419,14:1877,22:309,19:3063,18:64,1:2...</td>\n",
       "    </tr>\n",
       "    <tr>\n",
       "      <th>8</th>\n",
       "      <td>train-100003</td>\n",
       "      <td>delhi:1318</td>\n",
       "      <td>2:34,5:1074,7:210</td>\n",
       "      <td>Cricket:1248,Comedy:70</td>\n",
       "      <td>neg</td>\n",
       "      <td>India vs Bangladesh Day 2 English:1066,Fielder...</td>\n",
       "      <td>10:844,20:65,17:69,23:78,19:40,9:222</td>\n",
       "    </tr>\n",
       "    <tr>\n",
       "      <th>9</th>\n",
       "      <td>train-100004</td>\n",
       "      <td>chandigarh:2214,delhi:3829,mumbai:9465</td>\n",
       "      <td>5:14,4:14292,7:1201</td>\n",
       "      <td>Action:86,Drama:4826,Cricket:10557,Kids:24,Tal...</td>\n",
       "      <td>neg</td>\n",
       "      <td>The Jungle Book:24,Jolly LLB:4826,Escape Plan:...</td>\n",
       "      <td>11:1,13:1610,12:2626,20:2325,21:2985,17:1252,1...</td>\n",
       "    </tr>\n",
       "    <tr>\n",
       "      <th>10</th>\n",
       "      <td>train-100005</td>\n",
       "      <td>delhi:5597</td>\n",
       "      <td>7:5597</td>\n",
       "      <td>Drama:5597</td>\n",
       "      <td>neg</td>\n",
       "      <td>Lone Survivor:5597</td>\n",
       "      <td>18:402,15:1678,14:137,17:3380</td>\n",
       "    </tr>\n",
       "    <tr>\n",
       "      <th>11</th>\n",
       "      <td>train-100006</td>\n",
       "      <td>dhaka:21</td>\n",
       "      <td>2:21</td>\n",
       "      <td>Mythology:9,Crime:12</td>\n",
       "      <td>neg</td>\n",
       "      <td>Devon Ke Dev___ Mahadev:9,Har Yug Mein Aaega E...</td>\n",
       "      <td>17:21</td>\n",
       "    </tr>\n",
       "    <tr>\n",
       "      <th>13</th>\n",
       "      <td>train-100008</td>\n",
       "      <td>jakarta:9428</td>\n",
       "      <td>3:187,2:3999,7:5242</td>\n",
       "      <td>Romance:5242,Family:4186</td>\n",
       "      <td>neg</td>\n",
       "      <td>Geet Hui Sabse Parayi:5242,Saath Nibhaana Saat...</td>\n",
       "      <td>15:2590,14:1164,22:473,23:3526,16:1488,0:187</td>\n",
       "    </tr>\n",
       "    <tr>\n",
       "      <th>14</th>\n",
       "      <td>train-100009</td>\n",
       "      <td>navi mumbai:53</td>\n",
       "      <td>3:53</td>\n",
       "      <td>LiveTV:53</td>\n",
       "      <td>neg</td>\n",
       "      <td>Jalsa Movies:53</td>\n",
       "      <td>21:53</td>\n",
       "    </tr>\n",
       "    <tr>\n",
       "      <th>15</th>\n",
       "      <td>train-10001</td>\n",
       "      <td>gurgaon:4076,delhi:0,nagari:23</td>\n",
       "      <td>1:3582,3:78,2:363,7:74</td>\n",
       "      <td>Romance:64,Cricket:108,Sport:23,LiveTV:3903</td>\n",
       "      <td>neg</td>\n",
       "      <td>Vivah:49,Movies OK:354,Life Ok:69,Star Gold:6,...</td>\n",
       "      <td>10:700,13:0,15:0,23:52,19:74,16:1268,9:1982,8:20</td>\n",
       "    </tr>\n",
       "    <tr>\n",
       "      <th>16</th>\n",
       "      <td>train-100010</td>\n",
       "      <td>dhaka:4613,gazipur:317</td>\n",
       "      <td>1:971,3:448,2:905,5:1109,4:1159,7:25,6:312</td>\n",
       "      <td>Drama:4930</td>\n",
       "      <td>neg</td>\n",
       "      <td>Chandra Nandni:4927,Mere Angne Mein:2</td>\n",
       "      <td>21:317,17:971,19:897,18:267,9:45,8:2432</td>\n",
       "    </tr>\n",
       "    <tr>\n",
       "      <th>17</th>\n",
       "      <td>train-100011</td>\n",
       "      <td>gurgaon:20</td>\n",
       "      <td>2:20</td>\n",
       "      <td>Family:20</td>\n",
       "      <td>neg</td>\n",
       "      <td>Tulli:20</td>\n",
       "      <td>22:20</td>\n",
       "    </tr>\n",
       "    <tr>\n",
       "      <th>18</th>\n",
       "      <td>train-100012</td>\n",
       "      <td>jaipur:3616,bangalore:24234,delhi:5848,mumbai:692</td>\n",
       "      <td>1:775,3:5408,2:4313,5:7915,4:10619,7:3528,6:1825</td>\n",
       "      <td>Drama:13179,Romance:11738,Action:9,Family:9369...</td>\n",
       "      <td>neg</td>\n",
       "      <td>Jolly LLB:2846,Chandra Nandni:10331,Ek Hazaaro...</td>\n",
       "      <td>11:17,10:788,13:3826,12:4887,20:2043,22:2116,1...</td>\n",
       "    </tr>\n",
       "    <tr>\n",
       "      <th>19</th>\n",
       "      <td>train-100013</td>\n",
       "      <td>chennai:24064,delhi:3419</td>\n",
       "      <td>1:20295,3:144,2:4055,5:1359,7:1629</td>\n",
       "      <td>Comedy:23703,Reality:3779</td>\n",
       "      <td>neg</td>\n",
       "      <td>Sirippu Da:29,Jodi:1330,Adhu Idhu Yedhu:138,Sa...</td>\n",
       "      <td>11:2581,10:991,13:3557,12:3484,15:1626,14:2301...</td>\n",
       "    </tr>\n",
       "    <tr>\n",
       "      <th>20</th>\n",
       "      <td>train-100014</td>\n",
       "      <td>navi mumbai:18320</td>\n",
       "      <td>1:3187,3:1294,2:3711,5:6913,4:2119,6:1096</td>\n",
       "      <td>Drama:17014,Romance:11,Comedy:1295</td>\n",
       "      <td>neg</td>\n",
       "      <td>Naamkarann:16,Nagarjun Ek Yoddha:1085,Tanhaiya...</td>\n",
       "      <td>20:3727,21:5342,22:9251</td>\n",
       "    </tr>\n",
       "    <tr>\n",
       "      <th>21</th>\n",
       "      <td>train-100015</td>\n",
       "      <td>gurgaon:6264,chennai:53769,mumbai:18429</td>\n",
       "      <td>1:32082,3:4034,2:26096,5:1738,4:5976,7:3639,6:...</td>\n",
       "      <td>Teen:4431,Drama:102,TalkShow:19131,Reality:479...</td>\n",
       "      <td>neg</td>\n",
       "      <td>Kabali:2927,Life Ok:74,Dance  :4,Dance +:15454...</td>\n",
       "      <td>12:227,15:5272,21:9333,17:6284,23:5898,19:2332...</td>\n",
       "    </tr>\n",
       "    <tr>\n",
       "      <th>22</th>\n",
       "      <td>train-100016</td>\n",
       "      <td>bhopal:1188</td>\n",
       "      <td>1:285,4:710,7:192</td>\n",
       "      <td>TalkShow:205,Cricket:983</td>\n",
       "      <td>neg</td>\n",
       "      <td>3rd T20I: Raina's 63 Steadies India:151,Jadhav...</td>\n",
       "      <td>13:5,12:205,20:187,17:220,16:285,0:285</td>\n",
       "    </tr>\n",
       "    <tr>\n",
       "      <th>23</th>\n",
       "      <td>train-100017</td>\n",
       "      <td>delhi:2745</td>\n",
       "      <td>5:2054,4:689</td>\n",
       "      <td>Action:26,Cricket:609,Comedy:2100,Sport:8</td>\n",
       "      <td>neg</td>\n",
       "      <td>Guru:26,India vs England | 2nd ODI | English:4...</td>\n",
       "      <td>9:2111,10:139,15:5,17:474,16:14</td>\n",
       "    </tr>\n",
       "    <tr>\n",
       "      <th>24</th>\n",
       "      <td>train-100018</td>\n",
       "      <td>delhi:28</td>\n",
       "      <td>2:28</td>\n",
       "      <td>Family:28</td>\n",
       "      <td>neg</td>\n",
       "      <td>Hum Aapke Hain Kaun:8,Saath Nibhaana Saathiya:20</td>\n",
       "      <td>16:28</td>\n",
       "    </tr>\n",
       "    <tr>\n",
       "      <th>25</th>\n",
       "      <td>train-100019</td>\n",
       "      <td>bangalore:10618</td>\n",
       "      <td>1:4101,7:6022,6:495</td>\n",
       "      <td>TalkShow:10618</td>\n",
       "      <td>neg</td>\n",
       "      <td>Koffee With Karan:10618</td>\n",
       "      <td>13:2384,15:13,14:1363,17:3205,19:1790,18:1368,...</td>\n",
       "    </tr>\n",
       "    <tr>\n",
       "      <th>26</th>\n",
       "      <td>train-10002</td>\n",
       "      <td>navi mumbai:3263</td>\n",
       "      <td>1:2,7:3261</td>\n",
       "      <td>Romance:1104,Drama:74,Cricket:2,Awards:94,Fami...</td>\n",
       "      <td>neg</td>\n",
       "      <td>Star Parivaar Awards 2016:94,Ye Hai Mohabbatei...</td>\n",
       "      <td>10:1104,15:2,21:405,22:1064,19:520,20:168</td>\n",
       "    </tr>\n",
       "    <tr>\n",
       "      <th>27</th>\n",
       "      <td>train-100020</td>\n",
       "      <td>gurgaon:1560,chennai:7887,noida:1352,mumbai:15...</td>\n",
       "      <td>1:2456,3:3289,2:7700,5:8436,4:11843,7:13631,6:...</td>\n",
       "      <td>Drama:43694,Action:5006,Family:2919</td>\n",
       "      <td>neg</td>\n",
       "      <td>Bharya:12928,Chandanamazha:12373,Chinthavishta...</td>\n",
       "      <td>11:3623,13:1307,12:755,15:3115,14:221,22:2920,...</td>\n",
       "    </tr>\n",
       "    <tr>\n",
       "      <th>29</th>\n",
       "      <td>train-100022</td>\n",
       "      <td>delhi:641</td>\n",
       "      <td>6:641</td>\n",
       "      <td>Drama:641</td>\n",
       "      <td>neg</td>\n",
       "      <td>Yeh Rishta Kya Kehlata Hai:641</td>\n",
       "      <td>21:566,22:75</td>\n",
       "    </tr>\n",
       "    <tr>\n",
       "      <th>30</th>\n",
       "      <td>train-100023</td>\n",
       "      <td>navi mumbai:54994</td>\n",
       "      <td>1:2965,3:8188,2:5397,5:7471,4:16387,7:7344,6:7233</td>\n",
       "      <td>Cricket:33595,TalkShow:677,Crime:19824,Romance...</td>\n",
       "      <td>neg</td>\n",
       "      <td>Dhoni Quits Captaincy:74,India vs England | 2n...</td>\n",
       "      <td>11:963,10:910,13:5364,12:2649,20:2833,14:1267,...</td>\n",
       "    </tr>\n",
       "    <tr>\n",
       "      <th>31</th>\n",
       "      <td>train-100024</td>\n",
       "      <td>gurgaon:27424,chennai:41797,navi mumbai:103,mu...</td>\n",
       "      <td>1:31837,3:19184,2:12507,5:35614,4:40603,7:6311...</td>\n",
       "      <td>Drama:31878,Cricket:180224,Family:770,TalkShow...</td>\n",
       "      <td>neg</td>\n",
       "      <td>MI vs KKR:1233,3rd T20I: Dominant India Win Se...</td>\n",
       "      <td>11:20071,10:10937,13:7020,12:13085,15:24696,14...</td>\n",
       "    </tr>\n",
       "    <tr>\n",
       "      <th>32</th>\n",
       "      <td>train-100025</td>\n",
       "      <td>navi mumbai:3539</td>\n",
       "      <td>7:3538</td>\n",
       "      <td>Drama:1282,Romance:682,Cricket:1574</td>\n",
       "      <td>neg</td>\n",
       "      <td>Naamkarann:0,India vs England 3rd ODI English:...</td>\n",
       "      <td>9:557,8:1407,20:79,21:91,16:1404</td>\n",
       "    </tr>\n",
       "    <tr>\n",
       "      <th>33</th>\n",
       "      <td>train-100026</td>\n",
       "      <td>navi mumbai:1973</td>\n",
       "      <td>7:1924,6:46</td>\n",
       "      <td>Romance:18,Cricket:965,TalkShow:187,Horror:647...</td>\n",
       "      <td>neg</td>\n",
       "      <td>Sholay:19,Exists:41,India vs England 2nd T20I ...</td>\n",
       "      <td>11:28,12:102,20:18,14:567,15:290,21:965</td>\n",
       "    </tr>\n",
       "    <tr>\n",
       "      <th>34</th>\n",
       "      <td>train-100027</td>\n",
       "      <td>gandhinagar:30051,delhi:2119,navi mumbai:6912</td>\n",
       "      <td>1:8150,3:3233,2:1515,5:8761,4:1453,7:14300,6:1668</td>\n",
       "      <td>Drama:7518,Romance:607,Family:13614,Reality:17341</td>\n",
       "      <td>neg</td>\n",
       "      <td>Kyunki Saas Bhi Kabhi Bahu Thi:0,Zindagi Abhi ...</td>\n",
       "      <td>11:3020,13:677,12:4328,14:2557,23:1617,3:1352,...</td>\n",
       "    </tr>\n",
       "    <tr>\n",
       "      <th>36</th>\n",
       "      <td>train-100029</td>\n",
       "      <td>mumbai:110325</td>\n",
       "      <td>1:6297,3:12189,2:14784,5:18343,4:21287,7:10675...</td>\n",
       "      <td>Drama:69609,TalkShow:678,Family:40027</td>\n",
       "      <td>neg</td>\n",
       "      <td>Hathim Veeragadha:20,Parasparam:39918,Badai Bu...</td>\n",
       "      <td>11:6689,10:3072,13:1989,12:6949,20:17153,21:45...</td>\n",
       "    </tr>\n",
       "    <tr>\n",
       "      <th>37</th>\n",
       "      <td>train-10003</td>\n",
       "      <td>gurgaon:5703</td>\n",
       "      <td>5:5013,6:689</td>\n",
       "      <td>Drama:4915,Cricket:98,Comedy:689</td>\n",
       "      <td>neg</td>\n",
       "      <td>GL vs RPS Hindi:11,Sarabhai Vs Sarabhai:689,MS...</td>\n",
       "      <td>10:689,21:34,22:2126,23:2853</td>\n",
       "    </tr>\n",
       "    <tr>\n",
       "      <th>38</th>\n",
       "      <td>train-100030</td>\n",
       "      <td>bangalore:463</td>\n",
       "      <td>4:463</td>\n",
       "      <td>TalkShow:463</td>\n",
       "      <td>neg</td>\n",
       "      <td>Koffee With Karan:463</td>\n",
       "      <td>15:461,16:2</td>\n",
       "    </tr>\n",
       "    <tr>\n",
       "      <th>39</th>\n",
       "      <td>train-100031</td>\n",
       "      <td>kolkata:6086,navi mumbai:2823,mumbai:5778</td>\n",
       "      <td>1:886,2:3359,5:4309,4:77,7:1674,6:4377</td>\n",
       "      <td>Cricket:13902,Travel:512,Football:9,Wildlife:9...</td>\n",
       "      <td>neg</td>\n",
       "      <td>Tamil Nadu vs Kerala:101,India vs Australia 1s...</td>\n",
       "      <td>11:88,10:273,13:454,12:3616,15:697,21:657,17:5...</td>\n",
       "    </tr>\n",
       "    <tr>\n",
       "      <th>40</th>\n",
       "      <td>train-100032</td>\n",
       "      <td>bangalore:12438,mumbai:760</td>\n",
       "      <td>3:2713,2:5092,5:2494,4:2010,7:506,6:382</td>\n",
       "      <td>Drama:10227,Romance:14,Cricket:382,Family:1690...</td>\n",
       "      <td>neg</td>\n",
       "      <td>Dil Hai Hindustani:884,2 States:14,Life Is Bea...</td>\n",
       "      <td>20:293,21:8638,22:1507,23:1786,19:89,18:378,1:506</td>\n",
       "    </tr>\n",
       "    <tr>\n",
       "      <th>41</th>\n",
       "      <td>train-100033</td>\n",
       "      <td>delhi:1104,chennai:83</td>\n",
       "      <td>1:496,3:27,2:0,5:83,6:579</td>\n",
       "      <td>Drama:27,Cricket:1160,Awards:0</td>\n",
       "      <td>neg</td>\n",
       "      <td>Local Boy Jadhav Shines with 120:290,Kohli Lea...</td>\n",
       "      <td>19:0,12:579,20:27,17:579</td>\n",
       "    </tr>\n",
       "    <tr>\n",
       "      <th>42</th>\n",
       "      <td>train-100034</td>\n",
       "      <td>bangalore:16711,gurgaon:1872</td>\n",
       "      <td>3:239,2:612,5:1137,4:99,7:16382,6:110</td>\n",
       "      <td>Drama:10155,TalkShow:5,Cricket:7960,Badminton:460</td>\n",
       "      <td>neg</td>\n",
       "      <td>India vs England | 2nd ODI | English:80,SRH vs...</td>\n",
       "      <td>20:4262,21:4651,17:314,23:475,19:4326,18:2176,...</td>\n",
       "    </tr>\n",
       "  </tbody>\n",
       "</table>\n",
       "</div>"
      ],
      "text/plain": [
       "              ID                                             cities  \\\n",
       "0        train-1                          gurgaon:55494,delhi:31892   \n",
       "1       train-10                  delhi:5862,nagar:8916,mumbai:1593   \n",
       "2      train-100                                   navi mumbai:4142   \n",
       "3     train-1000       new delhi:4131,chennai:2878,navi mumbai:1339   \n",
       "4    train-10000                          gurgaon:6077,chennai:4055   \n",
       "5   train-100000  hyderabad:998,bangalore:2748,gulbarga:43317,be...   \n",
       "6   train-100001                                  navi mumbai:10155   \n",
       "7   train-100002                       delhi:1571,navi mumbai:12729   \n",
       "8   train-100003                                         delhi:1318   \n",
       "9   train-100004             chandigarh:2214,delhi:3829,mumbai:9465   \n",
       "10  train-100005                                         delhi:5597   \n",
       "11  train-100006                                           dhaka:21   \n",
       "13  train-100008                                       jakarta:9428   \n",
       "14  train-100009                                     navi mumbai:53   \n",
       "15   train-10001                     gurgaon:4076,delhi:0,nagari:23   \n",
       "16  train-100010                             dhaka:4613,gazipur:317   \n",
       "17  train-100011                                         gurgaon:20   \n",
       "18  train-100012  jaipur:3616,bangalore:24234,delhi:5848,mumbai:692   \n",
       "19  train-100013                           chennai:24064,delhi:3419   \n",
       "20  train-100014                                  navi mumbai:18320   \n",
       "21  train-100015            gurgaon:6264,chennai:53769,mumbai:18429   \n",
       "22  train-100016                                        bhopal:1188   \n",
       "23  train-100017                                         delhi:2745   \n",
       "24  train-100018                                           delhi:28   \n",
       "25  train-100019                                    bangalore:10618   \n",
       "26   train-10002                                   navi mumbai:3263   \n",
       "27  train-100020  gurgaon:1560,chennai:7887,noida:1352,mumbai:15...   \n",
       "29  train-100022                                          delhi:641   \n",
       "30  train-100023                                  navi mumbai:54994   \n",
       "31  train-100024  gurgaon:27424,chennai:41797,navi mumbai:103,mu...   \n",
       "32  train-100025                                   navi mumbai:3539   \n",
       "33  train-100026                                   navi mumbai:1973   \n",
       "34  train-100027      gandhinagar:30051,delhi:2119,navi mumbai:6912   \n",
       "36  train-100029                                      mumbai:110325   \n",
       "37   train-10003                                       gurgaon:5703   \n",
       "38  train-100030                                      bangalore:463   \n",
       "39  train-100031          kolkata:6086,navi mumbai:2823,mumbai:5778   \n",
       "40  train-100032                         bangalore:12438,mumbai:760   \n",
       "41  train-100033                              delhi:1104,chennai:83   \n",
       "42  train-100034                       bangalore:16711,gurgaon:1872   \n",
       "\n",
       "                                                  dow  \\\n",
       "0   1:3412,3:15878,2:1737,5:10975,4:20974,7:17820,...   \n",
       "1       1:5745,3:3025,2:3346,5:123,4:3007,7:1108,6:10   \n",
       "2                                              3:4142   \n",
       "3                      1:658,3:5867,5:413,4:1339,7:71   \n",
       "4                   1:1641,2:480,4:1445,7:1663,6:4900   \n",
       "5   1:6707,3:1948,2:3574,5:8525,4:18938,7:8295,6:7344   \n",
       "6                         1:1575,3:5330,2:1242,4:2007   \n",
       "7                    1:333,2:2233,5:739,4:268,7:10727   \n",
       "8                                   2:34,5:1074,7:210   \n",
       "9                                 5:14,4:14292,7:1201   \n",
       "10                                             7:5597   \n",
       "11                                               2:21   \n",
       "13                                3:187,2:3999,7:5242   \n",
       "14                                               3:53   \n",
       "15                             1:3582,3:78,2:363,7:74   \n",
       "16         1:971,3:448,2:905,5:1109,4:1159,7:25,6:312   \n",
       "17                                               2:20   \n",
       "18   1:775,3:5408,2:4313,5:7915,4:10619,7:3528,6:1825   \n",
       "19                 1:20295,3:144,2:4055,5:1359,7:1629   \n",
       "20          1:3187,3:1294,2:3711,5:6913,4:2119,6:1096   \n",
       "21  1:32082,3:4034,2:26096,5:1738,4:5976,7:3639,6:...   \n",
       "22                                  1:285,4:710,7:192   \n",
       "23                                       5:2054,4:689   \n",
       "24                                               2:28   \n",
       "25                                1:4101,7:6022,6:495   \n",
       "26                                         1:2,7:3261   \n",
       "27  1:2456,3:3289,2:7700,5:8436,4:11843,7:13631,6:...   \n",
       "29                                              6:641   \n",
       "30  1:2965,3:8188,2:5397,5:7471,4:16387,7:7344,6:7233   \n",
       "31  1:31837,3:19184,2:12507,5:35614,4:40603,7:6311...   \n",
       "32                                             7:3538   \n",
       "33                                        7:1924,6:46   \n",
       "34  1:8150,3:3233,2:1515,5:8761,4:1453,7:14300,6:1668   \n",
       "36  1:6297,3:12189,2:14784,5:18343,4:21287,7:10675...   \n",
       "37                                       5:5013,6:689   \n",
       "38                                              4:463   \n",
       "39             1:886,2:3359,5:4309,4:77,7:1674,6:4377   \n",
       "40            3:2713,2:5092,5:2494,4:2010,7:506,6:382   \n",
       "41                          1:496,3:27,2:0,5:83,6:579   \n",
       "42              3:239,2:612,5:1137,4:99,7:16382,6:110   \n",
       "\n",
       "                                               genres segment  \\\n",
       "0              Cricket:82379,Kabaddi:255,Reality:4751     neg   \n",
       "1                          Cricket:15640,Wildlife:730     neg   \n",
       "2                             LiveTV:13,Football:4129     neg   \n",
       "3                           TalkShow:658,Cricket:7690     neg   \n",
       "4                Drama:5503,Cricket:3283,Reality:1345     neg   \n",
       "5                 Action:998,Drama:8795,Cricket:45541     neg   \n",
       "6   Action:963,TalkShow:18,Romance:1357,Mythology:...     neg   \n",
       "7                             Drama:4344,Cricket:9956     neg   \n",
       "8                              Cricket:1248,Comedy:70     neg   \n",
       "9   Action:86,Drama:4826,Cricket:10557,Kids:24,Tal...     neg   \n",
       "10                                         Drama:5597     neg   \n",
       "11                               Mythology:9,Crime:12     neg   \n",
       "13                           Romance:5242,Family:4186     neg   \n",
       "14                                          LiveTV:53     neg   \n",
       "15        Romance:64,Cricket:108,Sport:23,LiveTV:3903     neg   \n",
       "16                                         Drama:4930     neg   \n",
       "17                                          Family:20     neg   \n",
       "18  Drama:13179,Romance:11738,Action:9,Family:9369...     neg   \n",
       "19                          Comedy:23703,Reality:3779     neg   \n",
       "20                 Drama:17014,Romance:11,Comedy:1295     neg   \n",
       "21  Teen:4431,Drama:102,TalkShow:19131,Reality:479...     neg   \n",
       "22                           TalkShow:205,Cricket:983     neg   \n",
       "23          Action:26,Cricket:609,Comedy:2100,Sport:8     neg   \n",
       "24                                          Family:28     neg   \n",
       "25                                     TalkShow:10618     neg   \n",
       "26  Romance:1104,Drama:74,Cricket:2,Awards:94,Fami...     neg   \n",
       "27                Drama:43694,Action:5006,Family:2919     neg   \n",
       "29                                          Drama:641     neg   \n",
       "30  Cricket:33595,TalkShow:677,Crime:19824,Romance...     neg   \n",
       "31  Drama:31878,Cricket:180224,Family:770,TalkShow...     neg   \n",
       "32                Drama:1282,Romance:682,Cricket:1574     neg   \n",
       "33  Romance:18,Cricket:965,TalkShow:187,Horror:647...     neg   \n",
       "34  Drama:7518,Romance:607,Family:13614,Reality:17341     neg   \n",
       "36              Drama:69609,TalkShow:678,Family:40027     neg   \n",
       "37                   Drama:4915,Cricket:98,Comedy:689     neg   \n",
       "38                                       TalkShow:463     neg   \n",
       "39  Cricket:13902,Travel:512,Football:9,Wildlife:9...     neg   \n",
       "40  Drama:10227,Romance:14,Cricket:382,Family:1690...     neg   \n",
       "41                     Drama:27,Cricket:1160,Awards:0     neg   \n",
       "42  Drama:10155,TalkShow:5,Cricket:7960,Badminton:460     neg   \n",
       "\n",
       "                                               titles  \\\n",
       "0   Top Raids: Haryana vs Services SCB:103,Day 4: ...   \n",
       "1   Dhoni Quits Captaincy:148,Day 4: India Move in...   \n",
       "2   Star Sports 4:13,Manchester United vs Everton:...   \n",
       "3   SRH vs RCB:701,KKR vs KXIP:1042,MI vs SRH:2288...   \n",
       "4   MI vs KKR:304,Yeh Rishta Kya Kehlata Hai:5449,...   \n",
       "5   India vs Australia 2nd Test English:2836,SRH v...   \n",
       "6   Jodi:7222,Maapillai:1357,Mahabharatham:594,Ban...   \n",
       "7   Chandra Nandni:4344,India vs England 2nd T20I ...   \n",
       "8   India vs Bangladesh Day 2 English:1066,Fielder...   \n",
       "9   The Jungle Book:24,Jolly LLB:4826,Escape Plan:...   \n",
       "10                                 Lone Survivor:5597   \n",
       "11  Devon Ke Dev___ Mahadev:9,Har Yug Mein Aaega E...   \n",
       "13  Geet Hui Sabse Parayi:5242,Saath Nibhaana Saat...   \n",
       "14                                    Jalsa Movies:53   \n",
       "15  Vivah:49,Movies OK:354,Life Ok:69,Star Gold:6,...   \n",
       "16              Chandra Nandni:4927,Mere Angne Mein:2   \n",
       "17                                           Tulli:20   \n",
       "18  Jolly LLB:2846,Chandra Nandni:10331,Ek Hazaaro...   \n",
       "19  Sirippu Da:29,Jodi:1330,Adhu Idhu Yedhu:138,Sa...   \n",
       "20  Naamkarann:16,Nagarjun Ek Yoddha:1085,Tanhaiya...   \n",
       "21  Kabali:2927,Life Ok:74,Dance  :4,Dance +:15454...   \n",
       "22  3rd T20I: Raina's 63 Steadies India:151,Jadhav...   \n",
       "23  Guru:26,India vs England | 2nd ODI | English:4...   \n",
       "24   Hum Aapke Hain Kaun:8,Saath Nibhaana Saathiya:20   \n",
       "25                            Koffee With Karan:10618   \n",
       "26  Star Parivaar Awards 2016:94,Ye Hai Mohabbatei...   \n",
       "27  Bharya:12928,Chandanamazha:12373,Chinthavishta...   \n",
       "29                     Yeh Rishta Kya Kehlata Hai:641   \n",
       "30  Dhoni Quits Captaincy:74,India vs England | 2n...   \n",
       "31  MI vs KKR:1233,3rd T20I: Dominant India Win Se...   \n",
       "32  Naamkarann:0,India vs England 3rd ODI English:...   \n",
       "33  Sholay:19,Exists:41,India vs England 2nd T20I ...   \n",
       "34  Kyunki Saas Bhi Kabhi Bahu Thi:0,Zindagi Abhi ...   \n",
       "36  Hathim Veeragadha:20,Parasparam:39918,Badai Bu...   \n",
       "37  GL vs RPS Hindi:11,Sarabhai Vs Sarabhai:689,MS...   \n",
       "38                              Koffee With Karan:463   \n",
       "39  Tamil Nadu vs Kerala:101,India vs Australia 1s...   \n",
       "40  Dil Hai Hindustani:884,2 States:14,Life Is Bea...   \n",
       "41  Local Boy Jadhav Shines with 120:290,Kohli Lea...   \n",
       "42  India vs England | 2nd ODI | English:80,SRH vs...   \n",
       "\n",
       "                                                  tod  \n",
       "0   10:26,13:331,12:323,20:21864,21:16233,17:7953,...  \n",
       "1   11:1661,10:384,20:401,21:798,22:221,16:525,19:...  \n",
       "2                                 1:1207,0:2406,2:529  \n",
       "3         11:71,20:2417,21:1042,23:2288,19:1872,8:658  \n",
       "4   20:158,22:4139,17:67,23:1510,19:288,18:56,0:23...  \n",
       "5   11:3450,10:1243,13:4420,12:4210,20:7050,21:770...  \n",
       "6         11:20,12:574,21:1357,22:1066,23:2290,0:4847  \n",
       "7   11:242,15:419,14:1877,22:309,19:3063,18:64,1:2...  \n",
       "8                10:844,20:65,17:69,23:78,19:40,9:222  \n",
       "9   11:1,13:1610,12:2626,20:2325,21:2985,17:1252,1...  \n",
       "10                      18:402,15:1678,14:137,17:3380  \n",
       "11                                              17:21  \n",
       "13       15:2590,14:1164,22:473,23:3526,16:1488,0:187  \n",
       "14                                              21:53  \n",
       "15   10:700,13:0,15:0,23:52,19:74,16:1268,9:1982,8:20  \n",
       "16            21:317,17:971,19:897,18:267,9:45,8:2432  \n",
       "17                                              22:20  \n",
       "18  11:17,10:788,13:3826,12:4887,20:2043,22:2116,1...  \n",
       "19  11:2581,10:991,13:3557,12:3484,15:1626,14:2301...  \n",
       "20                            20:3727,21:5342,22:9251  \n",
       "21  12:227,15:5272,21:9333,17:6284,23:5898,19:2332...  \n",
       "22             13:5,12:205,20:187,17:220,16:285,0:285  \n",
       "23                    9:2111,10:139,15:5,17:474,16:14  \n",
       "24                                              16:28  \n",
       "25  13:2384,15:13,14:1363,17:3205,19:1790,18:1368,...  \n",
       "26          10:1104,15:2,21:405,22:1064,19:520,20:168  \n",
       "27  11:3623,13:1307,12:755,15:3115,14:221,22:2920,...  \n",
       "29                                       21:566,22:75  \n",
       "30  11:963,10:910,13:5364,12:2649,20:2833,14:1267,...  \n",
       "31  11:20071,10:10937,13:7020,12:13085,15:24696,14...  \n",
       "32                   9:557,8:1407,20:79,21:91,16:1404  \n",
       "33            11:28,12:102,20:18,14:567,15:290,21:965  \n",
       "34  11:3020,13:677,12:4328,14:2557,23:1617,3:1352,...  \n",
       "36  11:6689,10:3072,13:1989,12:6949,20:17153,21:45...  \n",
       "37                       10:689,21:34,22:2126,23:2853  \n",
       "38                                        15:461,16:2  \n",
       "39  11:88,10:273,13:454,12:3616,15:697,21:657,17:5...  \n",
       "40  20:293,21:8638,22:1507,23:1786,19:89,18:378,1:506  \n",
       "41                           19:0,12:579,20:27,17:579  \n",
       "42  20:4262,21:4651,17:314,23:475,19:4326,18:2176,...  "
      ]
     },
     "execution_count": 161,
     "metadata": {},
     "output_type": "execute_result"
    }
   ],
   "source": [
    "train_data[train_data.segment==\"neg\"].head(40)"
   ]
  },
  {
   "cell_type": "code",
   "execution_count": 162,
   "metadata": {
    "collapsed": false,
    "scrolled": true
   },
   "outputs": [
    {
     "data": {
      "text/html": [
       "<div>\n",
       "<table border=\"1\" class=\"dataframe\">\n",
       "  <thead>\n",
       "    <tr style=\"text-align: right;\">\n",
       "      <th></th>\n",
       "      <th>ID</th>\n",
       "      <th>cities</th>\n",
       "      <th>dow</th>\n",
       "      <th>genres</th>\n",
       "      <th>titles</th>\n",
       "      <th>tod</th>\n",
       "    </tr>\n",
       "  </thead>\n",
       "  <tbody>\n",
       "    <tr>\n",
       "      <th>0</th>\n",
       "      <td>test-1</td>\n",
       "      <td>delhi:182,mumbai:702</td>\n",
       "      <td>2:182,4:701</td>\n",
       "      <td>Romance:182,Cricket:702</td>\n",
       "      <td>Axar's 21-ball 40 amidst KXIP ruins:72,Virat K...</td>\n",
       "      <td>13:182,15:701</td>\n",
       "    </tr>\n",
       "    <tr>\n",
       "      <th>1</th>\n",
       "      <td>test-10</td>\n",
       "      <td>pune:16,delhi:1100,navi mumbai:22736</td>\n",
       "      <td>1:4830,3:3078,2:8359,5:2946,4:4185,7:451</td>\n",
       "      <td>Romance:50,Action:3501,Mythology:20300</td>\n",
       "      <td>Besh Korechi Prem Korechi:0,Power:122,Siya Ke ...</td>\n",
       "      <td>20:6909,21:1520,22:662,23:3160,19:5711,1:121,0...</td>\n",
       "    </tr>\n",
       "    <tr>\n",
       "      <th>2</th>\n",
       "      <td>test-100</td>\n",
       "      <td>chennai:8652,delhi:751,mumbai:4470</td>\n",
       "      <td>1:5409,2:740,4:1162,7:2755,6:3807</td>\n",
       "      <td>TalkShow:2247,Mythology:11626</td>\n",
       "      <td>Mahabharat:11626,Koffee With Karan:2247</td>\n",
       "      <td>11:23,10:499,13:1804,12:1467,15:751,14:14,22:3...</td>\n",
       "    </tr>\n",
       "    <tr>\n",
       "      <th>3</th>\n",
       "      <td>test-1000</td>\n",
       "      <td>pune:15,delhi:4872,mumbai:1849</td>\n",
       "      <td>1:3227,3:2043,7:1464</td>\n",
       "      <td>Drama:6459,Reality:276</td>\n",
       "      <td>Dance +:276,Dance  :0,Chandanamazha:6458,Karut...</td>\n",
       "      <td>14:15,17:1758,16:4185,19:128,23:468,6:180</td>\n",
       "    </tr>\n",
       "    <tr>\n",
       "      <th>4</th>\n",
       "      <td>test-10000</td>\n",
       "      <td>mumbai:1204</td>\n",
       "      <td>1:1204</td>\n",
       "      <td>Drama:1204</td>\n",
       "      <td>Yeh Rishta Kya Kehlata Hai:1204</td>\n",
       "      <td>19:1204</td>\n",
       "    </tr>\n",
       "  </tbody>\n",
       "</table>\n",
       "</div>"
      ],
      "text/plain": [
       "           ID                                cities  \\\n",
       "0      test-1                  delhi:182,mumbai:702   \n",
       "1     test-10  pune:16,delhi:1100,navi mumbai:22736   \n",
       "2    test-100    chennai:8652,delhi:751,mumbai:4470   \n",
       "3   test-1000        pune:15,delhi:4872,mumbai:1849   \n",
       "4  test-10000                           mumbai:1204   \n",
       "\n",
       "                                        dow  \\\n",
       "0                               2:182,4:701   \n",
       "1  1:4830,3:3078,2:8359,5:2946,4:4185,7:451   \n",
       "2         1:5409,2:740,4:1162,7:2755,6:3807   \n",
       "3                      1:3227,3:2043,7:1464   \n",
       "4                                    1:1204   \n",
       "\n",
       "                                   genres  \\\n",
       "0                 Romance:182,Cricket:702   \n",
       "1  Romance:50,Action:3501,Mythology:20300   \n",
       "2           TalkShow:2247,Mythology:11626   \n",
       "3                  Drama:6459,Reality:276   \n",
       "4                              Drama:1204   \n",
       "\n",
       "                                              titles  \\\n",
       "0  Axar's 21-ball 40 amidst KXIP ruins:72,Virat K...   \n",
       "1  Besh Korechi Prem Korechi:0,Power:122,Siya Ke ...   \n",
       "2            Mahabharat:11626,Koffee With Karan:2247   \n",
       "3  Dance +:276,Dance  :0,Chandanamazha:6458,Karut...   \n",
       "4                    Yeh Rishta Kya Kehlata Hai:1204   \n",
       "\n",
       "                                                 tod  \n",
       "0                                      13:182,15:701  \n",
       "1  20:6909,21:1520,22:662,23:3160,19:5711,1:121,0...  \n",
       "2  11:23,10:499,13:1804,12:1467,15:751,14:14,22:3...  \n",
       "3          14:15,17:1758,16:4185,19:128,23:468,6:180  \n",
       "4                                            19:1204  "
      ]
     },
     "execution_count": 162,
     "metadata": {},
     "output_type": "execute_result"
    }
   ],
   "source": [
    "test_data.head()"
   ]
  },
  {
   "cell_type": "code",
   "execution_count": 163,
   "metadata": {
    "collapsed": true
   },
   "outputs": [],
   "source": [
    "#Encode Target Variable\n",
    "train_data = train_data.replace({'segment':{'pos':1,'neg':0}})\n"
   ]
  },
  {
   "cell_type": "code",
   "execution_count": 164,
   "metadata": {
    "collapsed": false
   },
   "outputs": [
    {
     "data": {
      "text/plain": [
       "0    0.923725\n",
       "1    0.076275\n",
       "Name: segment, dtype: float64"
      ]
     },
     "execution_count": 164,
     "metadata": {},
     "output_type": "execute_result"
    }
   ],
   "source": [
    "\n",
    "\n",
    "\n",
    "\n",
    "\n",
    "\n",
    "\n",
    "#check target variable count\n",
    "train_data['segment'].value_counts()/train_data.shape[0]"
   ]
  },
  {
   "cell_type": "code",
   "execution_count": 165,
   "metadata": {
    "collapsed": false
   },
   "outputs": [
    {
     "data": {
      "text/plain": [
       "0    184745\n",
       "1     15255\n",
       "Name: segment, dtype: int64"
      ]
     },
     "execution_count": 165,
     "metadata": {},
     "output_type": "execute_result"
    }
   ],
   "source": [
    "n = train_data.shape\n",
    "target = train_data['segment']\n",
    "train_data.drop('segment',axis=1, inplace=True)\n",
    "\n",
    "\n",
    "target.value_counts()"
   ]
  },
  {
   "cell_type": "code",
   "execution_count": 166,
   "metadata": {
    "collapsed": true
   },
   "outputs": [],
   "source": [
    "data = train_data\n",
    "\n",
    "train_data = data.append(test_data).reset_index(drop=True)"
   ]
  },
  {
   "cell_type": "code",
   "execution_count": 167,
   "metadata": {
    "collapsed": false
   },
   "outputs": [
    {
     "data": {
      "text/plain": [
       "(300000, 6)"
      ]
     },
     "execution_count": 167,
     "metadata": {},
     "output_type": "execute_result"
    }
   ],
   "source": [
    "train_data.shape"
   ]
  },
  {
   "cell_type": "markdown",
   "metadata": {},
   "source": [
    "## Creating separate columns for genres and dow variables\n"
   ]
  },
  {
   "cell_type": "markdown",
   "metadata": {},
   "source": [
    "### train data"
   ]
  },
  {
   "cell_type": "code",
   "execution_count": 168,
   "metadata": {
    "collapsed": true
   },
   "outputs": [],
   "source": [
    "train_data['g1'] = [re.sub(pattern='\\:\\d+',repl='',string=x) for x in train_data['genres']]\n",
    "train_data['g1'] = train_data['g1'].apply(lambda x: x.split(','))\n",
    "\n",
    "train_data['g2'] = [re.sub(pattern='\\:\\d+', repl='', string = x) for x in train_data['dow']]\n",
    "train_data['g2'] = train_data['g2'].apply(lambda x: x.split(','))\n",
    "\n",
    "train_data['g3'] = [re.sub(pattern='\\:\\d+', repl='', string = x) for x in train_data['tod']]\n",
    "train_data['g3'] = train_data['g3'].apply(lambda x: x.split(','))\n",
    "\n",
    "train_data['g4'] = [re.sub(pattern='\\:\\d+', repl='', string = x) for x in train_data['cities']]\n",
    "train_data['g4'] = train_data['g4'].apply(lambda x: x.split(','))\n",
    "\n",
    "t1 = pd.Series(train_data['g1']).apply(frozenset).to_frame(name='t_genre')\n",
    "t2 = pd.Series(train_data['g2']).apply(frozenset).to_frame(name='t_dow')\n",
    "t3 = pd.Series(train_data['g3']).apply(frozenset).to_frame(name='t_tod')\n",
    "t4 = pd.Series(train_data['g4']).apply(frozenset).to_frame(name='t_cities')\n"
   ]
  },
  {
   "cell_type": "code",
   "execution_count": 169,
   "metadata": {
    "collapsed": false
   },
   "outputs": [
    {
     "data": {
      "text/html": [
       "<div>\n",
       "<table border=\"1\" class=\"dataframe\">\n",
       "  <thead>\n",
       "    <tr style=\"text-align: right;\">\n",
       "      <th></th>\n",
       "      <th>t_cities</th>\n",
       "    </tr>\n",
       "  </thead>\n",
       "  <tbody>\n",
       "    <tr>\n",
       "      <th>0</th>\n",
       "      <td>(gurgaon, delhi)</td>\n",
       "    </tr>\n",
       "    <tr>\n",
       "      <th>1</th>\n",
       "      <td>(mumbai, delhi, nagar)</td>\n",
       "    </tr>\n",
       "    <tr>\n",
       "      <th>2</th>\n",
       "      <td>(navi mumbai)</td>\n",
       "    </tr>\n",
       "    <tr>\n",
       "      <th>3</th>\n",
       "      <td>(new delhi, chennai, navi mumbai)</td>\n",
       "    </tr>\n",
       "    <tr>\n",
       "      <th>4</th>\n",
       "      <td>(gurgaon, chennai)</td>\n",
       "    </tr>\n",
       "  </tbody>\n",
       "</table>\n",
       "</div>"
      ],
      "text/plain": [
       "                            t_cities\n",
       "0                   (gurgaon, delhi)\n",
       "1             (mumbai, delhi, nagar)\n",
       "2                      (navi mumbai)\n",
       "3  (new delhi, chennai, navi mumbai)\n",
       "4                 (gurgaon, chennai)"
      ]
     },
     "execution_count": 169,
     "metadata": {},
     "output_type": "execute_result"
    }
   ],
   "source": [
    "t4.head()"
   ]
  },
  {
   "cell_type": "code",
   "execution_count": 170,
   "metadata": {
    "collapsed": false
   },
   "outputs": [],
   "source": [
    "# using frozenset trick - might take few minutes to process\n",
    "for t_genre in frozenset.union(*t1.t_genre):\n",
    "    t1[t_genre] = t1.apply(lambda _: int(t_genre in _.t_genre), axis=1)\n"
   ]
  },
  {
   "cell_type": "code",
   "execution_count": 171,
   "metadata": {
    "collapsed": true
   },
   "outputs": [],
   "source": [
    "for t_dow in frozenset.union(*t2.t_dow):\n",
    "    t2[t_dow] = t2.apply(lambda _: int(t_dow in _.t_dow), axis = 1)\n"
   ]
  },
  {
   "cell_type": "code",
   "execution_count": 172,
   "metadata": {
    "collapsed": true
   },
   "outputs": [],
   "source": [
    "for t_tod in frozenset.union(*t3.t_tod):\n",
    "    t3[t_tod] = t3.apply(lambda _: int(t_tod in _.t_tod), axis = 1)\n"
   ]
  },
  {
   "cell_type": "code",
   "execution_count": 173,
   "metadata": {
    "collapsed": false
   },
   "outputs": [
    {
     "data": {
      "text/plain": [
       "0                               (gurgaon, delhi)\n",
       "1                         (mumbai, delhi, nagar)\n",
       "2                                  (navi mumbai)\n",
       "3              (new delhi, chennai, navi mumbai)\n",
       "4                             (gurgaon, chennai)\n",
       "5    (bangalore, gulbarga, bengaluru, hyderabad)\n",
       "6                                  (navi mumbai)\n",
       "7                           (navi mumbai, delhi)\n",
       "8                                        (delhi)\n",
       "9                    (mumbai, delhi, chandigarh)\n",
       "Name: t_cities, dtype: object"
      ]
     },
     "execution_count": 173,
     "metadata": {},
     "output_type": "execute_result"
    }
   ],
   "source": [
    "t4.t_cities[0:10]"
   ]
  },
  {
   "cell_type": "code",
   "execution_count": 174,
   "metadata": {
    "collapsed": false
   },
   "outputs": [],
   "source": [
    "for t_cities in frozenset.union(*t4.t_cities[1:2000]):\n",
    "    t4[t_cities] = t4.apply(lambda _: int(t_cities in _.t_cities), axis = 1)\n"
   ]
  },
  {
   "cell_type": "code",
   "execution_count": 175,
   "metadata": {
    "collapsed": false
   },
   "outputs": [],
   "source": [
    "\n",
    "train_data = pd.concat([train_data.reset_index(drop=True), t1], axis=1)\n",
    "train_data = pd.concat([train_data.reset_index(drop=True), t2], axis=1)\n",
    "train_data[\"week_1\"] = train_data[\"1\"]\n",
    "train_data[\"week_2\"] = train_data[\"2\"]\n",
    "train_data[\"week_3\"] = train_data[\"3\"]\n",
    "train_data[\"week_4\"] = train_data[\"4\"]\n",
    "train_data[\"week_5\"] = train_data[\"5\"]\n",
    "train_data[\"week_6\"] = train_data[\"6\"]\n",
    "train_data[\"week_7\"] = train_data[\"7\"]\n",
    "\n",
    "train_data.drop([\"1\",\"2\",\"3\",\"4\",\"5\",\"6\",\"7\"],axis = 1,inplace=True)\n",
    "\n",
    "train_data = pd.concat([train_data.reset_index(drop=True), t3], axis=1)\n",
    "train_data = pd.concat([train_data.reset_index(drop=True), t4], axis=1)\n",
    "\n"
   ]
  },
  {
   "cell_type": "code",
   "execution_count": 176,
   "metadata": {
    "collapsed": false,
    "scrolled": false
   },
   "outputs": [
    {
     "data": {
      "text/html": [
       "<div>\n",
       "<table border=\"1\" class=\"dataframe\">\n",
       "  <thead>\n",
       "    <tr style=\"text-align: right;\">\n",
       "      <th></th>\n",
       "      <th>Kabaddi</th>\n",
       "      <th>Reality</th>\n",
       "      <th>Romance</th>\n",
       "      <th>Family</th>\n",
       "      <th>Horror</th>\n",
       "      <th>Kids</th>\n",
       "      <th>Boxing</th>\n",
       "      <th>Teen</th>\n",
       "      <th>Mythology</th>\n",
       "      <th>Table Tennis</th>\n",
       "      <th>...</th>\n",
       "      <th>udupi</th>\n",
       "      <th>guwahati</th>\n",
       "      <th>domlur</th>\n",
       "      <th>savona</th>\n",
       "      <th>mumbai</th>\n",
       "      <th>khammam</th>\n",
       "      <th>ar riya</th>\n",
       "      <th>naihati</th>\n",
       "      <th>thane</th>\n",
       "      <th>srinagar</th>\n",
       "    </tr>\n",
       "  </thead>\n",
       "  <tbody>\n",
       "    <tr>\n",
       "      <th>count</th>\n",
       "      <td>300000.000000</td>\n",
       "      <td>300000.000000</td>\n",
       "      <td>300000.000000</td>\n",
       "      <td>300000.000000</td>\n",
       "      <td>300000.000000</td>\n",
       "      <td>300000.000000</td>\n",
       "      <td>300000.000000</td>\n",
       "      <td>300000.000000</td>\n",
       "      <td>300000.000000</td>\n",
       "      <td>300000.000000</td>\n",
       "      <td>...</td>\n",
       "      <td>300000.000000</td>\n",
       "      <td>300000.000000</td>\n",
       "      <td>300000.000000</td>\n",
       "      <td>300000.000000</td>\n",
       "      <td>300000.000000</td>\n",
       "      <td>300000.000000</td>\n",
       "      <td>300000.000000</td>\n",
       "      <td>300000.000000</td>\n",
       "      <td>300000.000000</td>\n",
       "      <td>300000.000000</td>\n",
       "    </tr>\n",
       "    <tr>\n",
       "      <th>mean</th>\n",
       "      <td>0.004527</td>\n",
       "      <td>0.287853</td>\n",
       "      <td>0.355293</td>\n",
       "      <td>0.221563</td>\n",
       "      <td>0.033283</td>\n",
       "      <td>0.024547</td>\n",
       "      <td>0.000137</td>\n",
       "      <td>0.010457</td>\n",
       "      <td>0.063033</td>\n",
       "      <td>0.001077</td>\n",
       "      <td>...</td>\n",
       "      <td>0.000020</td>\n",
       "      <td>0.000247</td>\n",
       "      <td>0.000357</td>\n",
       "      <td>0.000010</td>\n",
       "      <td>0.292390</td>\n",
       "      <td>0.000027</td>\n",
       "      <td>0.002283</td>\n",
       "      <td>0.001123</td>\n",
       "      <td>0.002817</td>\n",
       "      <td>0.003030</td>\n",
       "    </tr>\n",
       "    <tr>\n",
       "      <th>std</th>\n",
       "      <td>0.067128</td>\n",
       "      <td>0.452763</td>\n",
       "      <td>0.478603</td>\n",
       "      <td>0.415299</td>\n",
       "      <td>0.179376</td>\n",
       "      <td>0.154739</td>\n",
       "      <td>0.011690</td>\n",
       "      <td>0.101722</td>\n",
       "      <td>0.243023</td>\n",
       "      <td>0.032795</td>\n",
       "      <td>...</td>\n",
       "      <td>0.004472</td>\n",
       "      <td>0.015704</td>\n",
       "      <td>0.018882</td>\n",
       "      <td>0.003162</td>\n",
       "      <td>0.454861</td>\n",
       "      <td>0.005164</td>\n",
       "      <td>0.047730</td>\n",
       "      <td>0.033497</td>\n",
       "      <td>0.052998</td>\n",
       "      <td>0.054962</td>\n",
       "    </tr>\n",
       "    <tr>\n",
       "      <th>min</th>\n",
       "      <td>0.000000</td>\n",
       "      <td>0.000000</td>\n",
       "      <td>0.000000</td>\n",
       "      <td>0.000000</td>\n",
       "      <td>0.000000</td>\n",
       "      <td>0.000000</td>\n",
       "      <td>0.000000</td>\n",
       "      <td>0.000000</td>\n",
       "      <td>0.000000</td>\n",
       "      <td>0.000000</td>\n",
       "      <td>...</td>\n",
       "      <td>0.000000</td>\n",
       "      <td>0.000000</td>\n",
       "      <td>0.000000</td>\n",
       "      <td>0.000000</td>\n",
       "      <td>0.000000</td>\n",
       "      <td>0.000000</td>\n",
       "      <td>0.000000</td>\n",
       "      <td>0.000000</td>\n",
       "      <td>0.000000</td>\n",
       "      <td>0.000000</td>\n",
       "    </tr>\n",
       "    <tr>\n",
       "      <th>25%</th>\n",
       "      <td>0.000000</td>\n",
       "      <td>0.000000</td>\n",
       "      <td>0.000000</td>\n",
       "      <td>0.000000</td>\n",
       "      <td>0.000000</td>\n",
       "      <td>0.000000</td>\n",
       "      <td>0.000000</td>\n",
       "      <td>0.000000</td>\n",
       "      <td>0.000000</td>\n",
       "      <td>0.000000</td>\n",
       "      <td>...</td>\n",
       "      <td>0.000000</td>\n",
       "      <td>0.000000</td>\n",
       "      <td>0.000000</td>\n",
       "      <td>0.000000</td>\n",
       "      <td>0.000000</td>\n",
       "      <td>0.000000</td>\n",
       "      <td>0.000000</td>\n",
       "      <td>0.000000</td>\n",
       "      <td>0.000000</td>\n",
       "      <td>0.000000</td>\n",
       "    </tr>\n",
       "    <tr>\n",
       "      <th>50%</th>\n",
       "      <td>0.000000</td>\n",
       "      <td>0.000000</td>\n",
       "      <td>0.000000</td>\n",
       "      <td>0.000000</td>\n",
       "      <td>0.000000</td>\n",
       "      <td>0.000000</td>\n",
       "      <td>0.000000</td>\n",
       "      <td>0.000000</td>\n",
       "      <td>0.000000</td>\n",
       "      <td>0.000000</td>\n",
       "      <td>...</td>\n",
       "      <td>0.000000</td>\n",
       "      <td>0.000000</td>\n",
       "      <td>0.000000</td>\n",
       "      <td>0.000000</td>\n",
       "      <td>0.000000</td>\n",
       "      <td>0.000000</td>\n",
       "      <td>0.000000</td>\n",
       "      <td>0.000000</td>\n",
       "      <td>0.000000</td>\n",
       "      <td>0.000000</td>\n",
       "    </tr>\n",
       "    <tr>\n",
       "      <th>75%</th>\n",
       "      <td>0.000000</td>\n",
       "      <td>1.000000</td>\n",
       "      <td>1.000000</td>\n",
       "      <td>0.000000</td>\n",
       "      <td>0.000000</td>\n",
       "      <td>0.000000</td>\n",
       "      <td>0.000000</td>\n",
       "      <td>0.000000</td>\n",
       "      <td>0.000000</td>\n",
       "      <td>0.000000</td>\n",
       "      <td>...</td>\n",
       "      <td>0.000000</td>\n",
       "      <td>0.000000</td>\n",
       "      <td>0.000000</td>\n",
       "      <td>0.000000</td>\n",
       "      <td>1.000000</td>\n",
       "      <td>0.000000</td>\n",
       "      <td>0.000000</td>\n",
       "      <td>0.000000</td>\n",
       "      <td>0.000000</td>\n",
       "      <td>0.000000</td>\n",
       "    </tr>\n",
       "    <tr>\n",
       "      <th>max</th>\n",
       "      <td>1.000000</td>\n",
       "      <td>1.000000</td>\n",
       "      <td>1.000000</td>\n",
       "      <td>1.000000</td>\n",
       "      <td>1.000000</td>\n",
       "      <td>1.000000</td>\n",
       "      <td>1.000000</td>\n",
       "      <td>1.000000</td>\n",
       "      <td>1.000000</td>\n",
       "      <td>1.000000</td>\n",
       "      <td>...</td>\n",
       "      <td>1.000000</td>\n",
       "      <td>1.000000</td>\n",
       "      <td>1.000000</td>\n",
       "      <td>1.000000</td>\n",
       "      <td>1.000000</td>\n",
       "      <td>1.000000</td>\n",
       "      <td>1.000000</td>\n",
       "      <td>1.000000</td>\n",
       "      <td>1.000000</td>\n",
       "      <td>1.000000</td>\n",
       "    </tr>\n",
       "  </tbody>\n",
       "</table>\n",
       "<p>8 rows × 206 columns</p>\n",
       "</div>"
      ],
      "text/plain": [
       "             Kabaddi        Reality        Romance         Family  \\\n",
       "count  300000.000000  300000.000000  300000.000000  300000.000000   \n",
       "mean        0.004527       0.287853       0.355293       0.221563   \n",
       "std         0.067128       0.452763       0.478603       0.415299   \n",
       "min         0.000000       0.000000       0.000000       0.000000   \n",
       "25%         0.000000       0.000000       0.000000       0.000000   \n",
       "50%         0.000000       0.000000       0.000000       0.000000   \n",
       "75%         0.000000       1.000000       1.000000       0.000000   \n",
       "max         1.000000       1.000000       1.000000       1.000000   \n",
       "\n",
       "              Horror           Kids         Boxing           Teen  \\\n",
       "count  300000.000000  300000.000000  300000.000000  300000.000000   \n",
       "mean        0.033283       0.024547       0.000137       0.010457   \n",
       "std         0.179376       0.154739       0.011690       0.101722   \n",
       "min         0.000000       0.000000       0.000000       0.000000   \n",
       "25%         0.000000       0.000000       0.000000       0.000000   \n",
       "50%         0.000000       0.000000       0.000000       0.000000   \n",
       "75%         0.000000       0.000000       0.000000       0.000000   \n",
       "max         1.000000       1.000000       1.000000       1.000000   \n",
       "\n",
       "           Mythology   Table Tennis      ...                udupi  \\\n",
       "count  300000.000000  300000.000000      ...        300000.000000   \n",
       "mean        0.063033       0.001077      ...             0.000020   \n",
       "std         0.243023       0.032795      ...             0.004472   \n",
       "min         0.000000       0.000000      ...             0.000000   \n",
       "25%         0.000000       0.000000      ...             0.000000   \n",
       "50%         0.000000       0.000000      ...             0.000000   \n",
       "75%         0.000000       0.000000      ...             0.000000   \n",
       "max         1.000000       1.000000      ...             1.000000   \n",
       "\n",
       "            guwahati         domlur         savona         mumbai  \\\n",
       "count  300000.000000  300000.000000  300000.000000  300000.000000   \n",
       "mean        0.000247       0.000357       0.000010       0.292390   \n",
       "std         0.015704       0.018882       0.003162       0.454861   \n",
       "min         0.000000       0.000000       0.000000       0.000000   \n",
       "25%         0.000000       0.000000       0.000000       0.000000   \n",
       "50%         0.000000       0.000000       0.000000       0.000000   \n",
       "75%         0.000000       0.000000       0.000000       1.000000   \n",
       "max         1.000000       1.000000       1.000000       1.000000   \n",
       "\n",
       "             khammam        ar riya        naihati          thane  \\\n",
       "count  300000.000000  300000.000000  300000.000000  300000.000000   \n",
       "mean        0.000027       0.002283       0.001123       0.002817   \n",
       "std         0.005164       0.047730       0.033497       0.052998   \n",
       "min         0.000000       0.000000       0.000000       0.000000   \n",
       "25%         0.000000       0.000000       0.000000       0.000000   \n",
       "50%         0.000000       0.000000       0.000000       0.000000   \n",
       "75%         0.000000       0.000000       0.000000       0.000000   \n",
       "max         1.000000       1.000000       1.000000       1.000000   \n",
       "\n",
       "            srinagar  \n",
       "count  300000.000000  \n",
       "mean        0.003030  \n",
       "std         0.054962  \n",
       "min         0.000000  \n",
       "25%         0.000000  \n",
       "50%         0.000000  \n",
       "75%         0.000000  \n",
       "max         1.000000  \n",
       "\n",
       "[8 rows x 206 columns]"
      ]
     },
     "execution_count": 176,
     "metadata": {},
     "output_type": "execute_result"
    }
   ],
   "source": [
    "train_data.describe()\n"
   ]
  },
  {
   "cell_type": "code",
   "execution_count": 177,
   "metadata": {
    "collapsed": false
   },
   "outputs": [
    {
     "data": {
      "text/plain": [
       "(300000, 220)"
      ]
     },
     "execution_count": 177,
     "metadata": {},
     "output_type": "execute_result"
    }
   ],
   "source": [
    "train_data.shape"
   ]
  },
  {
   "cell_type": "code",
   "execution_count": 178,
   "metadata": {
    "collapsed": true
   },
   "outputs": [],
   "source": [
    "train_data.to_csv(\"data_2000_cities.csv\")"
   ]
  },
  {
   "cell_type": "markdown",
   "metadata": {},
   "source": [
    "# sum of watch time from titles"
   ]
  },
  {
   "cell_type": "code",
   "execution_count": 179,
   "metadata": {
    "collapsed": true
   },
   "outputs": [],
   "source": [
    "\n",
    "#the rows aren't list exactly. They are object, so we convert them to list and extract the watch time\n",
    "w1 = train_data['titles']\n",
    "w1 = w1.str.split(',')\n",
    "\n"
   ]
  },
  {
   "cell_type": "code",
   "execution_count": 180,
   "metadata": {
    "collapsed": false
   },
   "outputs": [],
   "source": [
    "#create a nested list of numbers\n",
    "main = []\n",
    "for i in np.arange(train_data.shape[0]):\n",
    "    d1 = w1[i]\n",
    "    nest = []\n",
    "    nest = [re.sub(pattern = '.*\\:', repl=' ', string= d1[k]) for k in list(np.arange(len(d1)))]\n",
    "    main.append(nest)\n"
   ]
  },
  {
   "cell_type": "markdown",
   "metadata": {},
   "source": [
    "## Turns out, there are blank values in the list, we need to fix them before we could add\n",
    "## Fixing blanks in the list now\n"
   ]
  },
  {
   "cell_type": "code",
   "execution_count": 181,
   "metadata": {
    "collapsed": false
   },
   "outputs": [],
   "source": [
    "blanks = []\n",
    "for i in np.arange(len(main)):\n",
    "    if '' in main[i]:\n",
    "        blanks.append(i)\n",
    "        \n",
    "#replacing blanks with 0\n",
    "for i in blanks:\n",
    "    main[i] = [x.replace('','0') for x in main[i]]\n",
    "    \n",
    "#converting string to integers\n",
    "main = [[int(y) for y in x] for x in main]\n",
    "\n",
    "#adding the watch time\n",
    "tosum = []\n",
    "for i in np.arange(len(main)):\n",
    "    s = sum(main[i])\n",
    "    tosum.append(s)"
   ]
  },
  {
   "cell_type": "code",
   "execution_count": 182,
   "metadata": {
    "collapsed": false
   },
   "outputs": [],
   "source": [
    "train_data['title_sum'] = tosum\n"
   ]
  },
  {
   "cell_type": "code",
   "execution_count": 183,
   "metadata": {
    "collapsed": true
   },
   "outputs": [],
   "source": [
    "#making changes in test data\n",
    "w1_te = test_data['titles']\n",
    "w1_te = w1_te.str.split(',')\n"
   ]
  },
  {
   "cell_type": "code",
   "execution_count": 184,
   "metadata": {
    "collapsed": true
   },
   "outputs": [],
   "source": [
    "main_te = []\n",
    "for i in np.arange(test_data.shape[0]):\n",
    "    d1 = w1_te[i]\n",
    "    nest = []\n",
    "    nest = [re.sub(pattern = '.*\\:', repl=' ', string= d1[k]) for k in list(np.arange(len(d1)))]\n",
    "    main_te.append(nest)\n"
   ]
  },
  {
   "cell_type": "code",
   "execution_count": 185,
   "metadata": {
    "collapsed": false
   },
   "outputs": [],
   "source": [
    "blanks_te = []\n",
    "for i in np.arange(len(main_te)):\n",
    "    if '' in main_te[i]:\n",
    "        blanks_te.append(i)\n",
    "        \n",
    "#replacing blanks with 0\n",
    "for i in blanks_te:\n",
    "    main_te[i] = [x.replace('','0') for x in main_te[i]]\n",
    "    \n",
    "#converting string to integers\n",
    "main_te = [[int(y) for y in x] for x in main_te]\n",
    "\n",
    "#adding the watch time\n",
    "tosum_te = []\n",
    "for i in np.arange(len(main_te)):\n",
    "    s = sum(main_te[i])\n",
    "    tosum_te.append(s)"
   ]
  },
  {
   "cell_type": "code",
   "execution_count": 186,
   "metadata": {
    "collapsed": true
   },
   "outputs": [],
   "source": [
    "test_data['title_sum'] = tosum_te\n"
   ]
  },
  {
   "cell_type": "markdown",
   "metadata": {},
   "source": [
    "## create count variables\n"
   ]
  },
  {
   "cell_type": "code",
   "execution_count": 187,
   "metadata": {
    "collapsed": false
   },
   "outputs": [],
   "source": [
    "#count variables\n",
    "def wcount(p):\n",
    "    return p.count(',')+1\n"
   ]
  },
  {
   "cell_type": "code",
   "execution_count": 188,
   "metadata": {
    "collapsed": false
   },
   "outputs": [],
   "source": [
    "train_data['title_count'] = train_data['titles'].map(wcount)\n",
    "train_data['genres_count'] = train_data['genres'].map(wcount)\n",
    "train_data['cities_count'] = train_data['cities'].map(wcount)\n",
    "train_data['tod_count'] = train_data['tod'].map(wcount)\n",
    "train_data['dow_count'] = train_data['dow'].map(wcount)\n",
    "train_data['cities_count'] = train_data['cities'].map(wcount)\n",
    "\n",
    "\n",
    "test_data['title_count'] = test_data['titles'].map(wcount)\n",
    "test_data['genres_count'] = test_data['genres'].map(wcount)\n",
    "test_data['cities_count'] = test_data['cities'].map(wcount)\n",
    "test_data['tod_count'] = test_data['tod'].map(wcount)\n",
    "test_data['dow_count'] = test_data['dow'].map(wcount)\n",
    "test_data['cities_count'] = test_data['cities'].map(wcount)\n"
   ]
  },
  {
   "cell_type": "markdown",
   "metadata": {},
   "source": [
    "## Let's see"
   ]
  },
  {
   "cell_type": "code",
   "execution_count": 189,
   "metadata": {
    "collapsed": false,
    "scrolled": true
   },
   "outputs": [
    {
     "data": {
      "text/html": [
       "<div>\n",
       "<table border=\"1\" class=\"dataframe\">\n",
       "  <thead>\n",
       "    <tr style=\"text-align: right;\">\n",
       "      <th></th>\n",
       "      <th>ID</th>\n",
       "      <th>cities</th>\n",
       "      <th>dow</th>\n",
       "      <th>genres</th>\n",
       "      <th>titles</th>\n",
       "      <th>tod</th>\n",
       "      <th>g1</th>\n",
       "      <th>g2</th>\n",
       "      <th>g3</th>\n",
       "      <th>g4</th>\n",
       "      <th>...</th>\n",
       "      <th>ar riya</th>\n",
       "      <th>naihati</th>\n",
       "      <th>thane</th>\n",
       "      <th>srinagar</th>\n",
       "      <th>title_sum</th>\n",
       "      <th>title_count</th>\n",
       "      <th>genres_count</th>\n",
       "      <th>cities_count</th>\n",
       "      <th>tod_count</th>\n",
       "      <th>dow_count</th>\n",
       "    </tr>\n",
       "  </thead>\n",
       "  <tbody>\n",
       "    <tr>\n",
       "      <th>0</th>\n",
       "      <td>train-1</td>\n",
       "      <td>gurgaon:55494,delhi:31892</td>\n",
       "      <td>1:3412,3:15878,2:1737,5:10975,4:20974,7:17820,...</td>\n",
       "      <td>Cricket:82379,Kabaddi:255,Reality:4751</td>\n",
       "      <td>Top Raids: Haryana vs Services SCB:103,Day 4: ...</td>\n",
       "      <td>10:26,13:331,12:323,20:21864,21:16233,17:7953,...</td>\n",
       "      <td>[Cricket, Kabaddi, Reality]</td>\n",
       "      <td>[1, 3, 2, 5, 4, 7, 6]</td>\n",
       "      <td>[10, 13, 12, 20, 21, 17, 16, 19, 18, 22, 2, 14...</td>\n",
       "      <td>[gurgaon, delhi]</td>\n",
       "      <td>...</td>\n",
       "      <td>0</td>\n",
       "      <td>0</td>\n",
       "      <td>0</td>\n",
       "      <td>0</td>\n",
       "      <td>87363</td>\n",
       "      <td>60</td>\n",
       "      <td>3</td>\n",
       "      <td>2</td>\n",
       "      <td>14</td>\n",
       "      <td>7</td>\n",
       "    </tr>\n",
       "    <tr>\n",
       "      <th>1</th>\n",
       "      <td>train-10</td>\n",
       "      <td>delhi:5862,nagar:8916,mumbai:1593</td>\n",
       "      <td>1:5745,3:3025,2:3346,5:123,4:3007,7:1108,6:10</td>\n",
       "      <td>Cricket:15640,Wildlife:730</td>\n",
       "      <td>Dhoni Quits Captaincy:148,Day 4: India Move in...</td>\n",
       "      <td>11:1661,10:384,20:401,21:798,22:221,16:525,19:...</td>\n",
       "      <td>[Cricket, Wildlife]</td>\n",
       "      <td>[1, 3, 2, 5, 4, 7, 6]</td>\n",
       "      <td>[11, 10, 20, 21, 22, 16, 19, 18, 23, 1, 3, 2, ...</td>\n",
       "      <td>[delhi, nagar, mumbai]</td>\n",
       "      <td>...</td>\n",
       "      <td>0</td>\n",
       "      <td>0</td>\n",
       "      <td>0</td>\n",
       "      <td>0</td>\n",
       "      <td>16356</td>\n",
       "      <td>70</td>\n",
       "      <td>2</td>\n",
       "      <td>3</td>\n",
       "      <td>16</td>\n",
       "      <td>7</td>\n",
       "    </tr>\n",
       "    <tr>\n",
       "      <th>2</th>\n",
       "      <td>train-100</td>\n",
       "      <td>navi mumbai:4142</td>\n",
       "      <td>3:4142</td>\n",
       "      <td>LiveTV:13,Football:4129</td>\n",
       "      <td>Star Sports 4:13,Manchester United vs Everton:...</td>\n",
       "      <td>1:1207,0:2406,2:529</td>\n",
       "      <td>[LiveTV, Football]</td>\n",
       "      <td>[3]</td>\n",
       "      <td>[1, 0, 2]</td>\n",
       "      <td>[navi mumbai]</td>\n",
       "      <td>...</td>\n",
       "      <td>0</td>\n",
       "      <td>0</td>\n",
       "      <td>0</td>\n",
       "      <td>0</td>\n",
       "      <td>4142</td>\n",
       "      <td>2</td>\n",
       "      <td>2</td>\n",
       "      <td>1</td>\n",
       "      <td>3</td>\n",
       "      <td>1</td>\n",
       "    </tr>\n",
       "    <tr>\n",
       "      <th>3</th>\n",
       "      <td>train-1000</td>\n",
       "      <td>new delhi:4131,chennai:2878,navi mumbai:1339</td>\n",
       "      <td>1:658,3:5867,5:413,4:1339,7:71</td>\n",
       "      <td>TalkShow:658,Cricket:7690</td>\n",
       "      <td>SRH vs RCB:701,KKR vs KXIP:1042,MI vs SRH:2288...</td>\n",
       "      <td>11:71,20:2417,21:1042,23:2288,19:1872,8:658</td>\n",
       "      <td>[TalkShow, Cricket]</td>\n",
       "      <td>[1, 3, 5, 4, 7]</td>\n",
       "      <td>[11, 20, 21, 23, 19, 8]</td>\n",
       "      <td>[new delhi, chennai, navi mumbai]</td>\n",
       "      <td>...</td>\n",
       "      <td>0</td>\n",
       "      <td>0</td>\n",
       "      <td>0</td>\n",
       "      <td>0</td>\n",
       "      <td>8348</td>\n",
       "      <td>8</td>\n",
       "      <td>2</td>\n",
       "      <td>3</td>\n",
       "      <td>6</td>\n",
       "      <td>5</td>\n",
       "    </tr>\n",
       "    <tr>\n",
       "      <th>4</th>\n",
       "      <td>train-10000</td>\n",
       "      <td>gurgaon:6077,chennai:4055</td>\n",
       "      <td>1:1641,2:480,4:1445,7:1663,6:4900</td>\n",
       "      <td>Drama:5503,Cricket:3283,Reality:1345</td>\n",
       "      <td>MI vs KKR:304,Yeh Rishta Kya Kehlata Hai:5449,...</td>\n",
       "      <td>20:158,22:4139,17:67,23:1510,19:288,18:56,0:23...</td>\n",
       "      <td>[Drama, Cricket, Reality]</td>\n",
       "      <td>[1, 2, 4, 7, 6]</td>\n",
       "      <td>[20, 22, 17, 23, 19, 18, 0, 15, 21]</td>\n",
       "      <td>[gurgaon, chennai]</td>\n",
       "      <td>...</td>\n",
       "      <td>0</td>\n",
       "      <td>0</td>\n",
       "      <td>0</td>\n",
       "      <td>0</td>\n",
       "      <td>10129</td>\n",
       "      <td>11</td>\n",
       "      <td>3</td>\n",
       "      <td>2</td>\n",
       "      <td>9</td>\n",
       "      <td>5</td>\n",
       "    </tr>\n",
       "    <tr>\n",
       "      <th>5</th>\n",
       "      <td>train-100000</td>\n",
       "      <td>hyderabad:998,bangalore:2748,gulbarga:43317,be...</td>\n",
       "      <td>1:6707,3:1948,2:3574,5:8525,4:18938,7:8295,6:7344</td>\n",
       "      <td>Action:998,Drama:8795,Cricket:45541</td>\n",
       "      <td>India vs Australia 2nd Test English:2836,SRH v...</td>\n",
       "      <td>11:3450,10:1243,13:4420,12:4210,20:7050,21:770...</td>\n",
       "      <td>[Action, Drama, Cricket]</td>\n",
       "      <td>[1, 3, 2, 5, 4, 7, 6]</td>\n",
       "      <td>[11, 10, 13, 12, 20, 21, 22, 23, 19, 18, 16, 1...</td>\n",
       "      <td>[hyderabad, bangalore, gulbarga, bengaluru]</td>\n",
       "      <td>...</td>\n",
       "      <td>0</td>\n",
       "      <td>0</td>\n",
       "      <td>0</td>\n",
       "      <td>0</td>\n",
       "      <td>55324</td>\n",
       "      <td>39</td>\n",
       "      <td>3</td>\n",
       "      <td>4</td>\n",
       "      <td>17</td>\n",
       "      <td>7</td>\n",
       "    </tr>\n",
       "    <tr>\n",
       "      <th>6</th>\n",
       "      <td>train-100001</td>\n",
       "      <td>navi mumbai:10155</td>\n",
       "      <td>1:1575,3:5330,2:1242,4:2007</td>\n",
       "      <td>Action:963,TalkShow:18,Romance:1357,Mythology:...</td>\n",
       "      <td>Jodi:7222,Maapillai:1357,Mahabharatham:594,Ban...</td>\n",
       "      <td>11:20,12:574,21:1357,22:1066,23:2290,0:4847</td>\n",
       "      <td>[Action, TalkShow, Romance, Mythology, Reality]</td>\n",
       "      <td>[1, 3, 2, 4]</td>\n",
       "      <td>[11, 12, 21, 22, 23, 0]</td>\n",
       "      <td>[navi mumbai]</td>\n",
       "      <td>...</td>\n",
       "      <td>0</td>\n",
       "      <td>0</td>\n",
       "      <td>0</td>\n",
       "      <td>0</td>\n",
       "      <td>10154</td>\n",
       "      <td>5</td>\n",
       "      <td>5</td>\n",
       "      <td>1</td>\n",
       "      <td>6</td>\n",
       "      <td>4</td>\n",
       "    </tr>\n",
       "    <tr>\n",
       "      <th>7</th>\n",
       "      <td>train-100002</td>\n",
       "      <td>delhi:1571,navi mumbai:12729</td>\n",
       "      <td>1:333,2:2233,5:739,4:268,7:10727</td>\n",
       "      <td>Drama:4344,Cricket:9956</td>\n",
       "      <td>Chandra Nandni:4344,India vs England 2nd T20I ...</td>\n",
       "      <td>11:242,15:419,14:1877,22:309,19:3063,18:64,1:2...</td>\n",
       "      <td>[Drama, Cricket]</td>\n",
       "      <td>[1, 2, 5, 4, 7]</td>\n",
       "      <td>[11, 15, 14, 22, 19, 18, 1, 0, 20, 21]</td>\n",
       "      <td>[delhi, navi mumbai]</td>\n",
       "      <td>...</td>\n",
       "      <td>0</td>\n",
       "      <td>0</td>\n",
       "      <td>0</td>\n",
       "      <td>0</td>\n",
       "      <td>14300</td>\n",
       "      <td>7</td>\n",
       "      <td>2</td>\n",
       "      <td>2</td>\n",
       "      <td>10</td>\n",
       "      <td>5</td>\n",
       "    </tr>\n",
       "    <tr>\n",
       "      <th>8</th>\n",
       "      <td>train-100003</td>\n",
       "      <td>delhi:1318</td>\n",
       "      <td>2:34,5:1074,7:210</td>\n",
       "      <td>Cricket:1248,Comedy:70</td>\n",
       "      <td>India vs Bangladesh Day 2 English:1066,Fielder...</td>\n",
       "      <td>10:844,20:65,17:69,23:78,19:40,9:222</td>\n",
       "      <td>[Cricket, Comedy]</td>\n",
       "      <td>[2, 5, 7]</td>\n",
       "      <td>[10, 20, 17, 23, 19, 9]</td>\n",
       "      <td>[delhi]</td>\n",
       "      <td>...</td>\n",
       "      <td>0</td>\n",
       "      <td>0</td>\n",
       "      <td>0</td>\n",
       "      <td>0</td>\n",
       "      <td>1318</td>\n",
       "      <td>6</td>\n",
       "      <td>2</td>\n",
       "      <td>1</td>\n",
       "      <td>6</td>\n",
       "      <td>3</td>\n",
       "    </tr>\n",
       "    <tr>\n",
       "      <th>9</th>\n",
       "      <td>train-100004</td>\n",
       "      <td>chandigarh:2214,delhi:3829,mumbai:9465</td>\n",
       "      <td>5:14,4:14292,7:1201</td>\n",
       "      <td>Action:86,Drama:4826,Cricket:10557,Kids:24,Tal...</td>\n",
       "      <td>The Jungle Book:24,Jolly LLB:4826,Escape Plan:...</td>\n",
       "      <td>11:1,13:1610,12:2626,20:2325,21:2985,17:1252,1...</td>\n",
       "      <td>[Action, Drama, Cricket, Kids, TalkShow]</td>\n",
       "      <td>[5, 4, 7]</td>\n",
       "      <td>[11, 13, 12, 20, 21, 17, 16, 19, 18, 23, 14]</td>\n",
       "      <td>[chandigarh, delhi, mumbai]</td>\n",
       "      <td>...</td>\n",
       "      <td>0</td>\n",
       "      <td>0</td>\n",
       "      <td>0</td>\n",
       "      <td>0</td>\n",
       "      <td>15507</td>\n",
       "      <td>7</td>\n",
       "      <td>5</td>\n",
       "      <td>3</td>\n",
       "      <td>11</td>\n",
       "      <td>3</td>\n",
       "    </tr>\n",
       "  </tbody>\n",
       "</table>\n",
       "<p>10 rows × 226 columns</p>\n",
       "</div>"
      ],
      "text/plain": [
       "             ID                                             cities  \\\n",
       "0       train-1                          gurgaon:55494,delhi:31892   \n",
       "1      train-10                  delhi:5862,nagar:8916,mumbai:1593   \n",
       "2     train-100                                   navi mumbai:4142   \n",
       "3    train-1000       new delhi:4131,chennai:2878,navi mumbai:1339   \n",
       "4   train-10000                          gurgaon:6077,chennai:4055   \n",
       "5  train-100000  hyderabad:998,bangalore:2748,gulbarga:43317,be...   \n",
       "6  train-100001                                  navi mumbai:10155   \n",
       "7  train-100002                       delhi:1571,navi mumbai:12729   \n",
       "8  train-100003                                         delhi:1318   \n",
       "9  train-100004             chandigarh:2214,delhi:3829,mumbai:9465   \n",
       "\n",
       "                                                 dow  \\\n",
       "0  1:3412,3:15878,2:1737,5:10975,4:20974,7:17820,...   \n",
       "1      1:5745,3:3025,2:3346,5:123,4:3007,7:1108,6:10   \n",
       "2                                             3:4142   \n",
       "3                     1:658,3:5867,5:413,4:1339,7:71   \n",
       "4                  1:1641,2:480,4:1445,7:1663,6:4900   \n",
       "5  1:6707,3:1948,2:3574,5:8525,4:18938,7:8295,6:7344   \n",
       "6                        1:1575,3:5330,2:1242,4:2007   \n",
       "7                   1:333,2:2233,5:739,4:268,7:10727   \n",
       "8                                  2:34,5:1074,7:210   \n",
       "9                                5:14,4:14292,7:1201   \n",
       "\n",
       "                                              genres  \\\n",
       "0             Cricket:82379,Kabaddi:255,Reality:4751   \n",
       "1                         Cricket:15640,Wildlife:730   \n",
       "2                            LiveTV:13,Football:4129   \n",
       "3                          TalkShow:658,Cricket:7690   \n",
       "4               Drama:5503,Cricket:3283,Reality:1345   \n",
       "5                Action:998,Drama:8795,Cricket:45541   \n",
       "6  Action:963,TalkShow:18,Romance:1357,Mythology:...   \n",
       "7                            Drama:4344,Cricket:9956   \n",
       "8                             Cricket:1248,Comedy:70   \n",
       "9  Action:86,Drama:4826,Cricket:10557,Kids:24,Tal...   \n",
       "\n",
       "                                              titles  \\\n",
       "0  Top Raids: Haryana vs Services SCB:103,Day 4: ...   \n",
       "1  Dhoni Quits Captaincy:148,Day 4: India Move in...   \n",
       "2  Star Sports 4:13,Manchester United vs Everton:...   \n",
       "3  SRH vs RCB:701,KKR vs KXIP:1042,MI vs SRH:2288...   \n",
       "4  MI vs KKR:304,Yeh Rishta Kya Kehlata Hai:5449,...   \n",
       "5  India vs Australia 2nd Test English:2836,SRH v...   \n",
       "6  Jodi:7222,Maapillai:1357,Mahabharatham:594,Ban...   \n",
       "7  Chandra Nandni:4344,India vs England 2nd T20I ...   \n",
       "8  India vs Bangladesh Day 2 English:1066,Fielder...   \n",
       "9  The Jungle Book:24,Jolly LLB:4826,Escape Plan:...   \n",
       "\n",
       "                                                 tod  \\\n",
       "0  10:26,13:331,12:323,20:21864,21:16233,17:7953,...   \n",
       "1  11:1661,10:384,20:401,21:798,22:221,16:525,19:...   \n",
       "2                                1:1207,0:2406,2:529   \n",
       "3        11:71,20:2417,21:1042,23:2288,19:1872,8:658   \n",
       "4  20:158,22:4139,17:67,23:1510,19:288,18:56,0:23...   \n",
       "5  11:3450,10:1243,13:4420,12:4210,20:7050,21:770...   \n",
       "6        11:20,12:574,21:1357,22:1066,23:2290,0:4847   \n",
       "7  11:242,15:419,14:1877,22:309,19:3063,18:64,1:2...   \n",
       "8               10:844,20:65,17:69,23:78,19:40,9:222   \n",
       "9  11:1,13:1610,12:2626,20:2325,21:2985,17:1252,1...   \n",
       "\n",
       "                                                g1                     g2  \\\n",
       "0                      [Cricket, Kabaddi, Reality]  [1, 3, 2, 5, 4, 7, 6]   \n",
       "1                              [Cricket, Wildlife]  [1, 3, 2, 5, 4, 7, 6]   \n",
       "2                               [LiveTV, Football]                    [3]   \n",
       "3                              [TalkShow, Cricket]        [1, 3, 5, 4, 7]   \n",
       "4                        [Drama, Cricket, Reality]        [1, 2, 4, 7, 6]   \n",
       "5                         [Action, Drama, Cricket]  [1, 3, 2, 5, 4, 7, 6]   \n",
       "6  [Action, TalkShow, Romance, Mythology, Reality]           [1, 3, 2, 4]   \n",
       "7                                 [Drama, Cricket]        [1, 2, 5, 4, 7]   \n",
       "8                                [Cricket, Comedy]              [2, 5, 7]   \n",
       "9         [Action, Drama, Cricket, Kids, TalkShow]              [5, 4, 7]   \n",
       "\n",
       "                                                  g3  \\\n",
       "0  [10, 13, 12, 20, 21, 17, 16, 19, 18, 22, 2, 14...   \n",
       "1  [11, 10, 20, 21, 22, 16, 19, 18, 23, 1, 3, 2, ...   \n",
       "2                                          [1, 0, 2]   \n",
       "3                            [11, 20, 21, 23, 19, 8]   \n",
       "4                [20, 22, 17, 23, 19, 18, 0, 15, 21]   \n",
       "5  [11, 10, 13, 12, 20, 21, 22, 23, 19, 18, 16, 1...   \n",
       "6                            [11, 12, 21, 22, 23, 0]   \n",
       "7             [11, 15, 14, 22, 19, 18, 1, 0, 20, 21]   \n",
       "8                            [10, 20, 17, 23, 19, 9]   \n",
       "9       [11, 13, 12, 20, 21, 17, 16, 19, 18, 23, 14]   \n",
       "\n",
       "                                            g4    ...     ar riya  naihati  \\\n",
       "0                             [gurgaon, delhi]    ...           0        0   \n",
       "1                       [delhi, nagar, mumbai]    ...           0        0   \n",
       "2                                [navi mumbai]    ...           0        0   \n",
       "3            [new delhi, chennai, navi mumbai]    ...           0        0   \n",
       "4                           [gurgaon, chennai]    ...           0        0   \n",
       "5  [hyderabad, bangalore, gulbarga, bengaluru]    ...           0        0   \n",
       "6                                [navi mumbai]    ...           0        0   \n",
       "7                         [delhi, navi mumbai]    ...           0        0   \n",
       "8                                      [delhi]    ...           0        0   \n",
       "9                  [chandigarh, delhi, mumbai]    ...           0        0   \n",
       "\n",
       "   thane  srinagar  title_sum  title_count  genres_count  cities_count  \\\n",
       "0      0         0      87363           60             3             2   \n",
       "1      0         0      16356           70             2             3   \n",
       "2      0         0       4142            2             2             1   \n",
       "3      0         0       8348            8             2             3   \n",
       "4      0         0      10129           11             3             2   \n",
       "5      0         0      55324           39             3             4   \n",
       "6      0         0      10154            5             5             1   \n",
       "7      0         0      14300            7             2             2   \n",
       "8      0         0       1318            6             2             1   \n",
       "9      0         0      15507            7             5             3   \n",
       "\n",
       "   tod_count  dow_count  \n",
       "0         14          7  \n",
       "1         16          7  \n",
       "2          3          1  \n",
       "3          6          5  \n",
       "4          9          5  \n",
       "5         17          7  \n",
       "6          6          4  \n",
       "7         10          5  \n",
       "8          6          3  \n",
       "9         11          3  \n",
       "\n",
       "[10 rows x 226 columns]"
      ]
     },
     "execution_count": 189,
     "metadata": {},
     "output_type": "execute_result"
    }
   ],
   "source": [
    "train_data.head(10)"
   ]
  },
  {
   "cell_type": "code",
   "execution_count": 190,
   "metadata": {
    "collapsed": false,
    "scrolled": true
   },
   "outputs": [
    {
     "data": {
      "text/plain": [
       "Index(['ID', 'cities', 'dow', 'genres', 'titles', 'tod', 'g1', 'g2', 'g3',\n",
       "       'g4',\n",
       "       ...\n",
       "       'ar riya', 'naihati', 'thane', 'srinagar', 'title_sum', 'title_count',\n",
       "       'genres_count', 'cities_count', 'tod_count', 'dow_count'],\n",
       "      dtype='object', length=226)"
      ]
     },
     "execution_count": 190,
     "metadata": {},
     "output_type": "execute_result"
    }
   ],
   "source": [
    "train_data.columns"
   ]
  },
  {
   "cell_type": "markdown",
   "metadata": {},
   "source": [
    "## EDA"
   ]
  },
  {
   "cell_type": "code",
   "execution_count": 191,
   "metadata": {
    "collapsed": false
   },
   "outputs": [
    {
     "data": {
      "text/plain": [
       "0    14\n",
       "1    16\n",
       "2     3\n",
       "3     6\n",
       "4     9\n",
       "Name: tod_count, dtype: int64"
      ]
     },
     "execution_count": 191,
     "metadata": {},
     "output_type": "execute_result"
    }
   ],
   "source": [
    "train_data.tod_count.head()"
   ]
  },
  {
   "cell_type": "code",
   "execution_count": 192,
   "metadata": {
    "collapsed": false
   },
   "outputs": [
    {
     "ename": "AttributeError",
     "evalue": "'DataFrame' object has no attribute 'segment'",
     "output_type": "error",
     "traceback": [
      "\u001b[0;31m---------------------------------------------------------------------------\u001b[0m",
      "\u001b[0;31mAttributeError\u001b[0m                            Traceback (most recent call last)",
      "\u001b[0;32m<ipython-input-192-ad785161d30c>\u001b[0m in \u001b[0;36m<module>\u001b[0;34m()\u001b[0m\n\u001b[0;32m----> 1\u001b[0;31m \u001b[0mtrain_data\u001b[0m\u001b[0;34m[\u001b[0m\u001b[0mtrain_data\u001b[0m\u001b[0;34m.\u001b[0m\u001b[0msegment\u001b[0m\u001b[0;34m==\u001b[0m\u001b[0;36m1\u001b[0m\u001b[0;34m]\u001b[0m\u001b[0;34m.\u001b[0m\u001b[0mcities_count\u001b[0m\u001b[0;34m.\u001b[0m\u001b[0mhist\u001b[0m\u001b[0;34m(\u001b[0m\u001b[0;34m)\u001b[0m\u001b[0;34m\u001b[0m\u001b[0m\n\u001b[0m",
      "\u001b[0;32m/usr/local/lib/python3.4/dist-packages/pandas/core/generic.py\u001b[0m in \u001b[0;36m__getattr__\u001b[0;34m(self, name)\u001b[0m\n\u001b[1;32m   2670\u001b[0m             \u001b[0;32mif\u001b[0m \u001b[0mname\u001b[0m \u001b[0;32min\u001b[0m \u001b[0mself\u001b[0m\u001b[0;34m.\u001b[0m\u001b[0m_info_axis\u001b[0m\u001b[0;34m:\u001b[0m\u001b[0;34m\u001b[0m\u001b[0m\n\u001b[1;32m   2671\u001b[0m                 \u001b[0;32mreturn\u001b[0m \u001b[0mself\u001b[0m\u001b[0;34m[\u001b[0m\u001b[0mname\u001b[0m\u001b[0;34m]\u001b[0m\u001b[0;34m\u001b[0m\u001b[0m\n\u001b[0;32m-> 2672\u001b[0;31m             \u001b[0;32mreturn\u001b[0m \u001b[0mobject\u001b[0m\u001b[0;34m.\u001b[0m\u001b[0m__getattribute__\u001b[0m\u001b[0;34m(\u001b[0m\u001b[0mself\u001b[0m\u001b[0;34m,\u001b[0m \u001b[0mname\u001b[0m\u001b[0;34m)\u001b[0m\u001b[0;34m\u001b[0m\u001b[0m\n\u001b[0m\u001b[1;32m   2673\u001b[0m \u001b[0;34m\u001b[0m\u001b[0m\n\u001b[1;32m   2674\u001b[0m     \u001b[0;32mdef\u001b[0m \u001b[0m__setattr__\u001b[0m\u001b[0;34m(\u001b[0m\u001b[0mself\u001b[0m\u001b[0;34m,\u001b[0m \u001b[0mname\u001b[0m\u001b[0;34m,\u001b[0m \u001b[0mvalue\u001b[0m\u001b[0;34m)\u001b[0m\u001b[0;34m:\u001b[0m\u001b[0;34m\u001b[0m\u001b[0m\n",
      "\u001b[0;31mAttributeError\u001b[0m: 'DataFrame' object has no attribute 'segment'"
     ]
    }
   ],
   "source": [
    "train_data[train_data.segment==1].cities_count.hist()\n"
   ]
  },
  {
   "cell_type": "code",
   "execution_count": null,
   "metadata": {
    "collapsed": false
   },
   "outputs": [],
   "source": [
    "train_data[train_data.segment==0].cities_count.hist()\n"
   ]
  },
  {
   "cell_type": "code",
   "execution_count": 193,
   "metadata": {
    "collapsed": false
   },
   "outputs": [
    {
     "data": {
      "text/plain": [
       "<matplotlib.axes._subplots.AxesSubplot at 0x7fbeb28c5668>"
      ]
     },
     "execution_count": 193,
     "metadata": {},
     "output_type": "execute_result"
    },
    {
     "data": {
      "image/png": "[encoded data removed]",
      "text/plain": [
       "<matplotlib.figure.Figure at 0x7fbefec9cb38>"
      ]
     },
     "metadata": {},
     "output_type": "display_data"
    }
   ],
   "source": [
    "train_data['1'].hist()\n"
   ]
  },
  {
   "cell_type": "markdown",
   "metadata": {},
   "source": [
    "## Word occourences"
   ]
  },
  {
   "cell_type": "code",
   "execution_count": 194,
   "metadata": {
    "collapsed": false,
    "scrolled": true
   },
   "outputs": [],
   "source": [
    "#train_data[\"vs\"] = train_data.titles.apply(lambda x: x.contains(r'vs').sum())\n",
    "#test_data[\"vs\"] = test_data.titles.apply(lambda x: x.contains(r'vs').sum())\n",
    "\n",
    "train_data[\"vs\"] = train_data.titles.apply(lambda x: str.count(x, 'vs'))\n",
    "test_data[\"vs\"] = test_data.titles.apply(lambda x: str.count(x, 'vs'))\n",
    "\n",
    "#train_data[\"s\"] = train_data.titles.apply(lambda x: str.count(x, \"'s\"))\n",
    "#test_data[\"s\"] = test_data.titles.apply(lambda x: str.count(x, \"'s\"))\n",
    "\n",
    "train_data[\"ipl\"] = train_data.titles.apply(lambda x: str.count(x, \"IPL\"))\n",
    "test_data[\"ipl\"] = test_data.titles.apply(lambda x: str.count(x, \"IPL\"))\n",
    "\n",
    "#train_data[\"Win\"] = train_data.titles.apply(lambda x: str.count(x, \"Win\"))\n",
    "#test_data[\"Win\"] = test_data.titles.apply(lambda x: str.count(x, \"Win\"))\n"
   ]
  },
  {
   "cell_type": "code",
   "execution_count": 195,
   "metadata": {
    "collapsed": false
   },
   "outputs": [
    {
     "data": {
      "text/plain": [
       "0    28\n",
       "1     3\n",
       "2     1\n",
       "3     5\n",
       "4     6\n",
       "5    18\n",
       "6     0\n",
       "7     3\n",
       "8     3\n",
       "9     2\n",
       "Name: vs, dtype: int64"
      ]
     },
     "execution_count": 195,
     "metadata": {},
     "output_type": "execute_result"
    }
   ],
   "source": [
    "train_data[\"vs\"].head(10)"
   ]
  },
  {
   "cell_type": "code",
   "execution_count": 237,
   "metadata": {
    "collapsed": false
   },
   "outputs": [
    {
     "data": {
      "text/plain": [
       "<matplotlib.axes._subplots.AxesSubplot at 0x7fbeb2630f28>"
      ]
     },
     "execution_count": 237,
     "metadata": {},
     "output_type": "execute_result"
    },
    {
     "data": {
      "image/png": "[encoded data removed]",
      "text/plain": [
       "<matplotlib.figure.Figure at 0x7fbeb2540fd0>"
      ]
     },
     "metadata": {},
     "output_type": "display_data"
    }
   ],
   "source": [
    "np.log(train_data[\"ipl\"]+1).hist(bins=100)"
   ]
  },
  {
   "cell_type": "code",
   "execution_count": 197,
   "metadata": {
    "collapsed": false
   },
   "outputs": [],
   "source": [
    "#train_data[\"Win\"].hist(bins=100)"
   ]
  },
  {
   "cell_type": "code",
   "execution_count": 198,
   "metadata": {
    "collapsed": false
   },
   "outputs": [
    {
     "data": {
      "text/plain": [
       "count    300000.000000\n",
       "mean          0.126247\n",
       "std           0.545566\n",
       "min           0.000000\n",
       "25%           0.000000\n",
       "50%           0.000000\n",
       "75%           0.000000\n",
       "max          34.000000\n",
       "Name: ipl, dtype: float64"
      ]
     },
     "execution_count": 198,
     "metadata": {},
     "output_type": "execute_result"
    }
   ],
   "source": [
    "train_data[\"ipl\"].describe()"
   ]
  },
  {
   "cell_type": "code",
   "execution_count": 199,
   "metadata": {
    "collapsed": false
   },
   "outputs": [
    {
     "data": {
      "text/plain": [
       "'Koffee With Karan:10'"
      ]
     },
     "execution_count": 199,
     "metadata": {},
     "output_type": "execute_result"
    }
   ],
   "source": [
    "train_data.titles[50]"
   ]
  },
  {
   "cell_type": "code",
   "execution_count": 200,
   "metadata": {
    "collapsed": false
   },
   "outputs": [
    {
     "ename": "AttributeError",
     "evalue": "'DataFrame' object has no attribute 'segment'",
     "output_type": "error",
     "traceback": [
      "\u001b[0;31m---------------------------------------------------------------------------\u001b[0m",
      "\u001b[0;31mAttributeError\u001b[0m                            Traceback (most recent call last)",
      "\u001b[0;32m<ipython-input-200-f56cae269463>\u001b[0m in \u001b[0;36m<module>\u001b[0;34m()\u001b[0m\n\u001b[0;32m----> 1\u001b[0;31m \u001b[0mplt\u001b[0m\u001b[0;34m.\u001b[0m\u001b[0mscatter\u001b[0m\u001b[0;34m(\u001b[0m\u001b[0mtrain_data\u001b[0m\u001b[0;34m.\u001b[0m\u001b[0mvs\u001b[0m\u001b[0;34m,\u001b[0m\u001b[0mtrain_data\u001b[0m\u001b[0;34m.\u001b[0m\u001b[0msegment\u001b[0m\u001b[0;34m)\u001b[0m\u001b[0;34m\u001b[0m\u001b[0m\n\u001b[0m",
      "\u001b[0;32m/usr/local/lib/python3.4/dist-packages/pandas/core/generic.py\u001b[0m in \u001b[0;36m__getattr__\u001b[0;34m(self, name)\u001b[0m\n\u001b[1;32m   2670\u001b[0m             \u001b[0;32mif\u001b[0m \u001b[0mname\u001b[0m \u001b[0;32min\u001b[0m \u001b[0mself\u001b[0m\u001b[0;34m.\u001b[0m\u001b[0m_info_axis\u001b[0m\u001b[0;34m:\u001b[0m\u001b[0;34m\u001b[0m\u001b[0m\n\u001b[1;32m   2671\u001b[0m                 \u001b[0;32mreturn\u001b[0m \u001b[0mself\u001b[0m\u001b[0;34m[\u001b[0m\u001b[0mname\u001b[0m\u001b[0;34m]\u001b[0m\u001b[0;34m\u001b[0m\u001b[0m\n\u001b[0;32m-> 2672\u001b[0;31m             \u001b[0;32mreturn\u001b[0m \u001b[0mobject\u001b[0m\u001b[0;34m.\u001b[0m\u001b[0m__getattribute__\u001b[0m\u001b[0;34m(\u001b[0m\u001b[0mself\u001b[0m\u001b[0;34m,\u001b[0m \u001b[0mname\u001b[0m\u001b[0;34m)\u001b[0m\u001b[0;34m\u001b[0m\u001b[0m\n\u001b[0m\u001b[1;32m   2673\u001b[0m \u001b[0;34m\u001b[0m\u001b[0m\n\u001b[1;32m   2674\u001b[0m     \u001b[0;32mdef\u001b[0m \u001b[0m__setattr__\u001b[0m\u001b[0;34m(\u001b[0m\u001b[0mself\u001b[0m\u001b[0;34m,\u001b[0m \u001b[0mname\u001b[0m\u001b[0;34m,\u001b[0m \u001b[0mvalue\u001b[0m\u001b[0;34m)\u001b[0m\u001b[0;34m:\u001b[0m\u001b[0;34m\u001b[0m\u001b[0m\n",
      "\u001b[0;31mAttributeError\u001b[0m: 'DataFrame' object has no attribute 'segment'"
     ]
    }
   ],
   "source": [
    "plt.scatter(train_data.vs,train_data.segment)"
   ]
  },
  {
   "cell_type": "code",
   "execution_count": 201,
   "metadata": {
    "collapsed": false
   },
   "outputs": [
    {
     "ename": "AttributeError",
     "evalue": "'DataFrame' object has no attribute 'segment'",
     "output_type": "error",
     "traceback": [
      "\u001b[0;31m---------------------------------------------------------------------------\u001b[0m",
      "\u001b[0;31mAttributeError\u001b[0m                            Traceback (most recent call last)",
      "\u001b[0;32m<ipython-input-201-9a3b041dd77c>\u001b[0m in \u001b[0;36m<module>\u001b[0;34m()\u001b[0m\n\u001b[0;32m----> 1\u001b[0;31m \u001b[0mplt\u001b[0m\u001b[0;34m.\u001b[0m\u001b[0mscatter\u001b[0m\u001b[0;34m(\u001b[0m\u001b[0mtrain_data\u001b[0m\u001b[0;34m.\u001b[0m\u001b[0mipl\u001b[0m\u001b[0;34m,\u001b[0m\u001b[0mtrain_data\u001b[0m\u001b[0;34m.\u001b[0m\u001b[0msegment\u001b[0m\u001b[0;34m)\u001b[0m\u001b[0;34m\u001b[0m\u001b[0m\n\u001b[0m",
      "\u001b[0;32m/usr/local/lib/python3.4/dist-packages/pandas/core/generic.py\u001b[0m in \u001b[0;36m__getattr__\u001b[0;34m(self, name)\u001b[0m\n\u001b[1;32m   2670\u001b[0m             \u001b[0;32mif\u001b[0m \u001b[0mname\u001b[0m \u001b[0;32min\u001b[0m \u001b[0mself\u001b[0m\u001b[0;34m.\u001b[0m\u001b[0m_info_axis\u001b[0m\u001b[0;34m:\u001b[0m\u001b[0;34m\u001b[0m\u001b[0m\n\u001b[1;32m   2671\u001b[0m                 \u001b[0;32mreturn\u001b[0m \u001b[0mself\u001b[0m\u001b[0;34m[\u001b[0m\u001b[0mname\u001b[0m\u001b[0;34m]\u001b[0m\u001b[0;34m\u001b[0m\u001b[0m\n\u001b[0;32m-> 2672\u001b[0;31m             \u001b[0;32mreturn\u001b[0m \u001b[0mobject\u001b[0m\u001b[0;34m.\u001b[0m\u001b[0m__getattribute__\u001b[0m\u001b[0;34m(\u001b[0m\u001b[0mself\u001b[0m\u001b[0;34m,\u001b[0m \u001b[0mname\u001b[0m\u001b[0;34m)\u001b[0m\u001b[0;34m\u001b[0m\u001b[0m\n\u001b[0m\u001b[1;32m   2673\u001b[0m \u001b[0;34m\u001b[0m\u001b[0m\n\u001b[1;32m   2674\u001b[0m     \u001b[0;32mdef\u001b[0m \u001b[0m__setattr__\u001b[0m\u001b[0;34m(\u001b[0m\u001b[0mself\u001b[0m\u001b[0;34m,\u001b[0m \u001b[0mname\u001b[0m\u001b[0;34m,\u001b[0m \u001b[0mvalue\u001b[0m\u001b[0;34m)\u001b[0m\u001b[0;34m:\u001b[0m\u001b[0;34m\u001b[0m\u001b[0m\n",
      "\u001b[0;31mAttributeError\u001b[0m: 'DataFrame' object has no attribute 'segment'"
     ]
    }
   ],
   "source": [
    "plt.scatter(train_data.ipl,train_data.segment)"
   ]
  },
  {
   "cell_type": "code",
   "execution_count": 238,
   "metadata": {
    "collapsed": false
   },
   "outputs": [
    {
     "data": {
      "text/plain": [
       "<matplotlib.axes._subplots.AxesSubplot at 0x7fbdfcdd47b8>"
      ]
     },
     "execution_count": 238,
     "metadata": {},
     "output_type": "execute_result"
    },
    {
     "data": {
      "image/png": "[encoded data removed]",
      "text/plain": [
       "<matplotlib.figure.Figure at 0x7fbeb2635828>"
      ]
     },
     "metadata": {},
     "output_type": "display_data"
    }
   ],
   "source": [
    "train_data.Romance.hist()"
   ]
  },
  {
   "cell_type": "markdown",
   "metadata": {},
   "source": [
    "## remove variables\n"
   ]
  },
  {
   "cell_type": "code",
   "execution_count": 203,
   "metadata": {
    "collapsed": false,
    "scrolled": true
   },
   "outputs": [],
   "source": [
    "test_id = test_data['ID']\n",
    "train_data.drop(['ID','cities','dow','genres','titles','tod','g1','g2','g3','g4','t_genre','t_dow','t_tod','t_cities'], inplace=True, axis=1)\n",
    "#test_data.drop(['ID','cities','dow','genres','titles','tod','g1','g2','g3','g4','t_genre','t_dow','t_tod','t_cities'], inplace=True, axis=1)\n"
   ]
  },
  {
   "cell_type": "code",
   "execution_count": 204,
   "metadata": {
    "collapsed": false,
    "scrolled": true
   },
   "outputs": [
    {
     "data": {
      "text/html": [
       "<div>\n",
       "<table border=\"1\" class=\"dataframe\">\n",
       "  <thead>\n",
       "    <tr style=\"text-align: right;\">\n",
       "      <th></th>\n",
       "      <th>Kabaddi</th>\n",
       "      <th>Reality</th>\n",
       "      <th>Romance</th>\n",
       "      <th>Family</th>\n",
       "      <th>Horror</th>\n",
       "      <th>Kids</th>\n",
       "      <th>Boxing</th>\n",
       "      <th>Teen</th>\n",
       "      <th>Mythology</th>\n",
       "      <th>Table Tennis</th>\n",
       "      <th>...</th>\n",
       "      <th>thane</th>\n",
       "      <th>srinagar</th>\n",
       "      <th>title_sum</th>\n",
       "      <th>title_count</th>\n",
       "      <th>genres_count</th>\n",
       "      <th>cities_count</th>\n",
       "      <th>tod_count</th>\n",
       "      <th>dow_count</th>\n",
       "      <th>vs</th>\n",
       "      <th>ipl</th>\n",
       "    </tr>\n",
       "  </thead>\n",
       "  <tbody>\n",
       "    <tr>\n",
       "      <th>0</th>\n",
       "      <td>1</td>\n",
       "      <td>1</td>\n",
       "      <td>0</td>\n",
       "      <td>0</td>\n",
       "      <td>0</td>\n",
       "      <td>0</td>\n",
       "      <td>0</td>\n",
       "      <td>0</td>\n",
       "      <td>0</td>\n",
       "      <td>0</td>\n",
       "      <td>...</td>\n",
       "      <td>0</td>\n",
       "      <td>0</td>\n",
       "      <td>87363</td>\n",
       "      <td>60</td>\n",
       "      <td>3</td>\n",
       "      <td>2</td>\n",
       "      <td>14</td>\n",
       "      <td>7</td>\n",
       "      <td>28</td>\n",
       "      <td>5</td>\n",
       "    </tr>\n",
       "    <tr>\n",
       "      <th>1</th>\n",
       "      <td>0</td>\n",
       "      <td>0</td>\n",
       "      <td>0</td>\n",
       "      <td>0</td>\n",
       "      <td>0</td>\n",
       "      <td>0</td>\n",
       "      <td>0</td>\n",
       "      <td>0</td>\n",
       "      <td>0</td>\n",
       "      <td>0</td>\n",
       "      <td>...</td>\n",
       "      <td>0</td>\n",
       "      <td>0</td>\n",
       "      <td>16356</td>\n",
       "      <td>70</td>\n",
       "      <td>2</td>\n",
       "      <td>3</td>\n",
       "      <td>16</td>\n",
       "      <td>7</td>\n",
       "      <td>3</td>\n",
       "      <td>2</td>\n",
       "    </tr>\n",
       "    <tr>\n",
       "      <th>2</th>\n",
       "      <td>0</td>\n",
       "      <td>0</td>\n",
       "      <td>0</td>\n",
       "      <td>0</td>\n",
       "      <td>0</td>\n",
       "      <td>0</td>\n",
       "      <td>0</td>\n",
       "      <td>0</td>\n",
       "      <td>0</td>\n",
       "      <td>0</td>\n",
       "      <td>...</td>\n",
       "      <td>0</td>\n",
       "      <td>0</td>\n",
       "      <td>4142</td>\n",
       "      <td>2</td>\n",
       "      <td>2</td>\n",
       "      <td>1</td>\n",
       "      <td>3</td>\n",
       "      <td>1</td>\n",
       "      <td>1</td>\n",
       "      <td>0</td>\n",
       "    </tr>\n",
       "    <tr>\n",
       "      <th>3</th>\n",
       "      <td>0</td>\n",
       "      <td>0</td>\n",
       "      <td>0</td>\n",
       "      <td>0</td>\n",
       "      <td>0</td>\n",
       "      <td>0</td>\n",
       "      <td>0</td>\n",
       "      <td>0</td>\n",
       "      <td>0</td>\n",
       "      <td>0</td>\n",
       "      <td>...</td>\n",
       "      <td>0</td>\n",
       "      <td>0</td>\n",
       "      <td>8348</td>\n",
       "      <td>8</td>\n",
       "      <td>2</td>\n",
       "      <td>3</td>\n",
       "      <td>6</td>\n",
       "      <td>5</td>\n",
       "      <td>5</td>\n",
       "      <td>0</td>\n",
       "    </tr>\n",
       "    <tr>\n",
       "      <th>4</th>\n",
       "      <td>0</td>\n",
       "      <td>1</td>\n",
       "      <td>0</td>\n",
       "      <td>0</td>\n",
       "      <td>0</td>\n",
       "      <td>0</td>\n",
       "      <td>0</td>\n",
       "      <td>0</td>\n",
       "      <td>0</td>\n",
       "      <td>0</td>\n",
       "      <td>...</td>\n",
       "      <td>0</td>\n",
       "      <td>0</td>\n",
       "      <td>10129</td>\n",
       "      <td>11</td>\n",
       "      <td>3</td>\n",
       "      <td>2</td>\n",
       "      <td>9</td>\n",
       "      <td>5</td>\n",
       "      <td>6</td>\n",
       "      <td>0</td>\n",
       "    </tr>\n",
       "    <tr>\n",
       "      <th>5</th>\n",
       "      <td>0</td>\n",
       "      <td>0</td>\n",
       "      <td>0</td>\n",
       "      <td>0</td>\n",
       "      <td>0</td>\n",
       "      <td>0</td>\n",
       "      <td>0</td>\n",
       "      <td>0</td>\n",
       "      <td>0</td>\n",
       "      <td>0</td>\n",
       "      <td>...</td>\n",
       "      <td>0</td>\n",
       "      <td>0</td>\n",
       "      <td>55324</td>\n",
       "      <td>39</td>\n",
       "      <td>3</td>\n",
       "      <td>4</td>\n",
       "      <td>17</td>\n",
       "      <td>7</td>\n",
       "      <td>18</td>\n",
       "      <td>0</td>\n",
       "    </tr>\n",
       "    <tr>\n",
       "      <th>6</th>\n",
       "      <td>0</td>\n",
       "      <td>1</td>\n",
       "      <td>1</td>\n",
       "      <td>0</td>\n",
       "      <td>0</td>\n",
       "      <td>0</td>\n",
       "      <td>0</td>\n",
       "      <td>0</td>\n",
       "      <td>1</td>\n",
       "      <td>0</td>\n",
       "      <td>...</td>\n",
       "      <td>0</td>\n",
       "      <td>0</td>\n",
       "      <td>10154</td>\n",
       "      <td>5</td>\n",
       "      <td>5</td>\n",
       "      <td>1</td>\n",
       "      <td>6</td>\n",
       "      <td>4</td>\n",
       "      <td>0</td>\n",
       "      <td>0</td>\n",
       "    </tr>\n",
       "    <tr>\n",
       "      <th>7</th>\n",
       "      <td>0</td>\n",
       "      <td>0</td>\n",
       "      <td>0</td>\n",
       "      <td>0</td>\n",
       "      <td>0</td>\n",
       "      <td>0</td>\n",
       "      <td>0</td>\n",
       "      <td>0</td>\n",
       "      <td>0</td>\n",
       "      <td>0</td>\n",
       "      <td>...</td>\n",
       "      <td>0</td>\n",
       "      <td>0</td>\n",
       "      <td>14300</td>\n",
       "      <td>7</td>\n",
       "      <td>2</td>\n",
       "      <td>2</td>\n",
       "      <td>10</td>\n",
       "      <td>5</td>\n",
       "      <td>3</td>\n",
       "      <td>0</td>\n",
       "    </tr>\n",
       "    <tr>\n",
       "      <th>8</th>\n",
       "      <td>0</td>\n",
       "      <td>0</td>\n",
       "      <td>0</td>\n",
       "      <td>0</td>\n",
       "      <td>0</td>\n",
       "      <td>0</td>\n",
       "      <td>0</td>\n",
       "      <td>0</td>\n",
       "      <td>0</td>\n",
       "      <td>0</td>\n",
       "      <td>...</td>\n",
       "      <td>0</td>\n",
       "      <td>0</td>\n",
       "      <td>1318</td>\n",
       "      <td>6</td>\n",
       "      <td>2</td>\n",
       "      <td>1</td>\n",
       "      <td>6</td>\n",
       "      <td>3</td>\n",
       "      <td>3</td>\n",
       "      <td>0</td>\n",
       "    </tr>\n",
       "    <tr>\n",
       "      <th>9</th>\n",
       "      <td>0</td>\n",
       "      <td>0</td>\n",
       "      <td>0</td>\n",
       "      <td>0</td>\n",
       "      <td>0</td>\n",
       "      <td>1</td>\n",
       "      <td>0</td>\n",
       "      <td>0</td>\n",
       "      <td>0</td>\n",
       "      <td>0</td>\n",
       "      <td>...</td>\n",
       "      <td>0</td>\n",
       "      <td>0</td>\n",
       "      <td>15507</td>\n",
       "      <td>7</td>\n",
       "      <td>5</td>\n",
       "      <td>3</td>\n",
       "      <td>11</td>\n",
       "      <td>3</td>\n",
       "      <td>2</td>\n",
       "      <td>0</td>\n",
       "    </tr>\n",
       "    <tr>\n",
       "      <th>10</th>\n",
       "      <td>0</td>\n",
       "      <td>0</td>\n",
       "      <td>0</td>\n",
       "      <td>0</td>\n",
       "      <td>0</td>\n",
       "      <td>0</td>\n",
       "      <td>0</td>\n",
       "      <td>0</td>\n",
       "      <td>0</td>\n",
       "      <td>0</td>\n",
       "      <td>...</td>\n",
       "      <td>0</td>\n",
       "      <td>0</td>\n",
       "      <td>5597</td>\n",
       "      <td>1</td>\n",
       "      <td>1</td>\n",
       "      <td>1</td>\n",
       "      <td>4</td>\n",
       "      <td>1</td>\n",
       "      <td>0</td>\n",
       "      <td>0</td>\n",
       "    </tr>\n",
       "    <tr>\n",
       "      <th>11</th>\n",
       "      <td>0</td>\n",
       "      <td>0</td>\n",
       "      <td>0</td>\n",
       "      <td>0</td>\n",
       "      <td>0</td>\n",
       "      <td>0</td>\n",
       "      <td>0</td>\n",
       "      <td>0</td>\n",
       "      <td>1</td>\n",
       "      <td>0</td>\n",
       "      <td>...</td>\n",
       "      <td>0</td>\n",
       "      <td>0</td>\n",
       "      <td>21</td>\n",
       "      <td>2</td>\n",
       "      <td>2</td>\n",
       "      <td>1</td>\n",
       "      <td>1</td>\n",
       "      <td>1</td>\n",
       "      <td>0</td>\n",
       "      <td>0</td>\n",
       "    </tr>\n",
       "    <tr>\n",
       "      <th>12</th>\n",
       "      <td>0</td>\n",
       "      <td>0</td>\n",
       "      <td>1</td>\n",
       "      <td>1</td>\n",
       "      <td>0</td>\n",
       "      <td>0</td>\n",
       "      <td>0</td>\n",
       "      <td>0</td>\n",
       "      <td>0</td>\n",
       "      <td>0</td>\n",
       "      <td>...</td>\n",
       "      <td>0</td>\n",
       "      <td>0</td>\n",
       "      <td>142764</td>\n",
       "      <td>25</td>\n",
       "      <td>5</td>\n",
       "      <td>3</td>\n",
       "      <td>13</td>\n",
       "      <td>7</td>\n",
       "      <td>0</td>\n",
       "      <td>0</td>\n",
       "    </tr>\n",
       "    <tr>\n",
       "      <th>13</th>\n",
       "      <td>0</td>\n",
       "      <td>0</td>\n",
       "      <td>1</td>\n",
       "      <td>1</td>\n",
       "      <td>0</td>\n",
       "      <td>0</td>\n",
       "      <td>0</td>\n",
       "      <td>0</td>\n",
       "      <td>0</td>\n",
       "      <td>0</td>\n",
       "      <td>...</td>\n",
       "      <td>0</td>\n",
       "      <td>0</td>\n",
       "      <td>9428</td>\n",
       "      <td>2</td>\n",
       "      <td>2</td>\n",
       "      <td>1</td>\n",
       "      <td>6</td>\n",
       "      <td>3</td>\n",
       "      <td>0</td>\n",
       "      <td>0</td>\n",
       "    </tr>\n",
       "    <tr>\n",
       "      <th>14</th>\n",
       "      <td>0</td>\n",
       "      <td>0</td>\n",
       "      <td>0</td>\n",
       "      <td>0</td>\n",
       "      <td>0</td>\n",
       "      <td>0</td>\n",
       "      <td>0</td>\n",
       "      <td>0</td>\n",
       "      <td>0</td>\n",
       "      <td>0</td>\n",
       "      <td>...</td>\n",
       "      <td>0</td>\n",
       "      <td>0</td>\n",
       "      <td>53</td>\n",
       "      <td>1</td>\n",
       "      <td>1</td>\n",
       "      <td>1</td>\n",
       "      <td>1</td>\n",
       "      <td>1</td>\n",
       "      <td>0</td>\n",
       "      <td>0</td>\n",
       "    </tr>\n",
       "    <tr>\n",
       "      <th>15</th>\n",
       "      <td>0</td>\n",
       "      <td>0</td>\n",
       "      <td>1</td>\n",
       "      <td>0</td>\n",
       "      <td>0</td>\n",
       "      <td>0</td>\n",
       "      <td>0</td>\n",
       "      <td>0</td>\n",
       "      <td>0</td>\n",
       "      <td>0</td>\n",
       "      <td>...</td>\n",
       "      <td>0</td>\n",
       "      <td>0</td>\n",
       "      <td>4095</td>\n",
       "      <td>13</td>\n",
       "      <td>4</td>\n",
       "      <td>3</td>\n",
       "      <td>8</td>\n",
       "      <td>4</td>\n",
       "      <td>6</td>\n",
       "      <td>0</td>\n",
       "    </tr>\n",
       "    <tr>\n",
       "      <th>16</th>\n",
       "      <td>0</td>\n",
       "      <td>0</td>\n",
       "      <td>0</td>\n",
       "      <td>0</td>\n",
       "      <td>0</td>\n",
       "      <td>0</td>\n",
       "      <td>0</td>\n",
       "      <td>0</td>\n",
       "      <td>0</td>\n",
       "      <td>0</td>\n",
       "      <td>...</td>\n",
       "      <td>0</td>\n",
       "      <td>0</td>\n",
       "      <td>4929</td>\n",
       "      <td>2</td>\n",
       "      <td>1</td>\n",
       "      <td>2</td>\n",
       "      <td>6</td>\n",
       "      <td>7</td>\n",
       "      <td>0</td>\n",
       "      <td>0</td>\n",
       "    </tr>\n",
       "    <tr>\n",
       "      <th>17</th>\n",
       "      <td>0</td>\n",
       "      <td>0</td>\n",
       "      <td>0</td>\n",
       "      <td>1</td>\n",
       "      <td>0</td>\n",
       "      <td>0</td>\n",
       "      <td>0</td>\n",
       "      <td>0</td>\n",
       "      <td>0</td>\n",
       "      <td>0</td>\n",
       "      <td>...</td>\n",
       "      <td>0</td>\n",
       "      <td>0</td>\n",
       "      <td>20</td>\n",
       "      <td>1</td>\n",
       "      <td>1</td>\n",
       "      <td>1</td>\n",
       "      <td>1</td>\n",
       "      <td>1</td>\n",
       "      <td>0</td>\n",
       "      <td>0</td>\n",
       "    </tr>\n",
       "    <tr>\n",
       "      <th>18</th>\n",
       "      <td>0</td>\n",
       "      <td>0</td>\n",
       "      <td>1</td>\n",
       "      <td>1</td>\n",
       "      <td>0</td>\n",
       "      <td>0</td>\n",
       "      <td>0</td>\n",
       "      <td>0</td>\n",
       "      <td>0</td>\n",
       "      <td>0</td>\n",
       "      <td>...</td>\n",
       "      <td>0</td>\n",
       "      <td>0</td>\n",
       "      <td>34381</td>\n",
       "      <td>11</td>\n",
       "      <td>5</td>\n",
       "      <td>4</td>\n",
       "      <td>15</td>\n",
       "      <td>7</td>\n",
       "      <td>0</td>\n",
       "      <td>0</td>\n",
       "    </tr>\n",
       "    <tr>\n",
       "      <th>19</th>\n",
       "      <td>0</td>\n",
       "      <td>1</td>\n",
       "      <td>0</td>\n",
       "      <td>0</td>\n",
       "      <td>0</td>\n",
       "      <td>0</td>\n",
       "      <td>0</td>\n",
       "      <td>0</td>\n",
       "      <td>0</td>\n",
       "      <td>0</td>\n",
       "      <td>...</td>\n",
       "      <td>0</td>\n",
       "      <td>0</td>\n",
       "      <td>27482</td>\n",
       "      <td>6</td>\n",
       "      <td>2</td>\n",
       "      <td>2</td>\n",
       "      <td>14</td>\n",
       "      <td>5</td>\n",
       "      <td>0</td>\n",
       "      <td>0</td>\n",
       "    </tr>\n",
       "  </tbody>\n",
       "</table>\n",
       "<p>20 rows × 214 columns</p>\n",
       "</div>"
      ],
      "text/plain": [
       "    Kabaddi  Reality  Romance  Family  Horror  Kids  Boxing  Teen  Mythology  \\\n",
       "0         1        1        0       0       0     0       0     0          0   \n",
       "1         0        0        0       0       0     0       0     0          0   \n",
       "2         0        0        0       0       0     0       0     0          0   \n",
       "3         0        0        0       0       0     0       0     0          0   \n",
       "4         0        1        0       0       0     0       0     0          0   \n",
       "5         0        0        0       0       0     0       0     0          0   \n",
       "6         0        1        1       0       0     0       0     0          1   \n",
       "7         0        0        0       0       0     0       0     0          0   \n",
       "8         0        0        0       0       0     0       0     0          0   \n",
       "9         0        0        0       0       0     1       0     0          0   \n",
       "10        0        0        0       0       0     0       0     0          0   \n",
       "11        0        0        0       0       0     0       0     0          1   \n",
       "12        0        0        1       1       0     0       0     0          0   \n",
       "13        0        0        1       1       0     0       0     0          0   \n",
       "14        0        0        0       0       0     0       0     0          0   \n",
       "15        0        0        1       0       0     0       0     0          0   \n",
       "16        0        0        0       0       0     0       0     0          0   \n",
       "17        0        0        0       1       0     0       0     0          0   \n",
       "18        0        0        1       1       0     0       0     0          0   \n",
       "19        0        1        0       0       0     0       0     0          0   \n",
       "\n",
       "    Table Tennis ...   thane  srinagar  title_sum  title_count  genres_count  \\\n",
       "0              0 ...       0         0      87363           60             3   \n",
       "1              0 ...       0         0      16356           70             2   \n",
       "2              0 ...       0         0       4142            2             2   \n",
       "3              0 ...       0         0       8348            8             2   \n",
       "4              0 ...       0         0      10129           11             3   \n",
       "5              0 ...       0         0      55324           39             3   \n",
       "6              0 ...       0         0      10154            5             5   \n",
       "7              0 ...       0         0      14300            7             2   \n",
       "8              0 ...       0         0       1318            6             2   \n",
       "9              0 ...       0         0      15507            7             5   \n",
       "10             0 ...       0         0       5597            1             1   \n",
       "11             0 ...       0         0         21            2             2   \n",
       "12             0 ...       0         0     142764           25             5   \n",
       "13             0 ...       0         0       9428            2             2   \n",
       "14             0 ...       0         0         53            1             1   \n",
       "15             0 ...       0         0       4095           13             4   \n",
       "16             0 ...       0         0       4929            2             1   \n",
       "17             0 ...       0         0         20            1             1   \n",
       "18             0 ...       0         0      34381           11             5   \n",
       "19             0 ...       0         0      27482            6             2   \n",
       "\n",
       "    cities_count  tod_count  dow_count  vs  ipl  \n",
       "0              2         14          7  28    5  \n",
       "1              3         16          7   3    2  \n",
       "2              1          3          1   1    0  \n",
       "3              3          6          5   5    0  \n",
       "4              2          9          5   6    0  \n",
       "5              4         17          7  18    0  \n",
       "6              1          6          4   0    0  \n",
       "7              2         10          5   3    0  \n",
       "8              1          6          3   3    0  \n",
       "9              3         11          3   2    0  \n",
       "10             1          4          1   0    0  \n",
       "11             1          1          1   0    0  \n",
       "12             3         13          7   0    0  \n",
       "13             1          6          3   0    0  \n",
       "14             1          1          1   0    0  \n",
       "15             3          8          4   6    0  \n",
       "16             2          6          7   0    0  \n",
       "17             1          1          1   0    0  \n",
       "18             4         15          7   0    0  \n",
       "19             2         14          5   0    0  \n",
       "\n",
       "[20 rows x 214 columns]"
      ]
     },
     "execution_count": 204,
     "metadata": {},
     "output_type": "execute_result"
    }
   ],
   "source": [
    "train_data.head(20)"
   ]
  },
  {
   "cell_type": "code",
   "execution_count": 205,
   "metadata": {
    "collapsed": false
   },
   "outputs": [
    {
     "ename": "KeyError",
     "evalue": "'segment'",
     "output_type": "error",
     "traceback": [
      "\u001b[0;31m---------------------------------------------------------------------------\u001b[0m",
      "\u001b[0;31mKeyError\u001b[0m                                  Traceback (most recent call last)",
      "\u001b[0;32m/usr/local/lib/python3.4/dist-packages/pandas/indexes/base.py\u001b[0m in \u001b[0;36mget_loc\u001b[0;34m(self, key, method, tolerance)\u001b[0m\n\u001b[1;32m   1944\u001b[0m             \u001b[0;32mtry\u001b[0m\u001b[0;34m:\u001b[0m\u001b[0;34m\u001b[0m\u001b[0m\n\u001b[0;32m-> 1945\u001b[0;31m                 \u001b[0;32mreturn\u001b[0m \u001b[0mself\u001b[0m\u001b[0;34m.\u001b[0m\u001b[0m_engine\u001b[0m\u001b[0;34m.\u001b[0m\u001b[0mget_loc\u001b[0m\u001b[0;34m(\u001b[0m\u001b[0mkey\u001b[0m\u001b[0;34m)\u001b[0m\u001b[0;34m\u001b[0m\u001b[0m\n\u001b[0m\u001b[1;32m   1946\u001b[0m             \u001b[0;32mexcept\u001b[0m \u001b[0mKeyError\u001b[0m\u001b[0;34m:\u001b[0m\u001b[0;34m\u001b[0m\u001b[0m\n",
      "\u001b[0;32mpandas/index.pyx\u001b[0m in \u001b[0;36mpandas.index.IndexEngine.get_loc (pandas/index.c:4154)\u001b[0;34m()\u001b[0m\n",
      "\u001b[0;32mpandas/index.pyx\u001b[0m in \u001b[0;36mpandas.index.IndexEngine.get_loc (pandas/index.c:4018)\u001b[0;34m()\u001b[0m\n",
      "\u001b[0;32mpandas/hashtable.pyx\u001b[0m in \u001b[0;36mpandas.hashtable.PyObjectHashTable.get_item (pandas/hashtable.c:12368)\u001b[0;34m()\u001b[0m\n",
      "\u001b[0;32mpandas/hashtable.pyx\u001b[0m in \u001b[0;36mpandas.hashtable.PyObjectHashTable.get_item (pandas/hashtable.c:12322)\u001b[0;34m()\u001b[0m\n",
      "\u001b[0;31mKeyError\u001b[0m: 'segment'",
      "\nDuring handling of the above exception, another exception occurred:\n",
      "\u001b[0;31mKeyError\u001b[0m                                  Traceback (most recent call last)",
      "\u001b[0;32m<ipython-input-205-529ff693d2d0>\u001b[0m in \u001b[0;36m<module>\u001b[0;34m()\u001b[0m\n\u001b[0;32m----> 1\u001b[0;31m \u001b[0mtarget\u001b[0m \u001b[0;34m=\u001b[0m \u001b[0mtrain_data\u001b[0m\u001b[0;34m[\u001b[0m\u001b[0;34m'segment'\u001b[0m\u001b[0;34m]\u001b[0m\u001b[0;34m\u001b[0m\u001b[0m\n\u001b[0m\u001b[1;32m      2\u001b[0m \u001b[0mtrain_data\u001b[0m\u001b[0;34m.\u001b[0m\u001b[0mdrop\u001b[0m\u001b[0;34m(\u001b[0m\u001b[0;34m'segment'\u001b[0m\u001b[0;34m,\u001b[0m\u001b[0maxis\u001b[0m\u001b[0;34m=\u001b[0m\u001b[0;36m1\u001b[0m\u001b[0;34m,\u001b[0m \u001b[0minplace\u001b[0m\u001b[0;34m=\u001b[0m\u001b[0;32mTrue\u001b[0m\u001b[0;34m)\u001b[0m\u001b[0;34m\u001b[0m\u001b[0m\n\u001b[1;32m      3\u001b[0m \u001b[0;34m\u001b[0m\u001b[0m\n\u001b[1;32m      4\u001b[0m \u001b[0;34m\u001b[0m\u001b[0m\n\u001b[1;32m      5\u001b[0m \u001b[0mtarget\u001b[0m\u001b[0;34m.\u001b[0m\u001b[0mvalue_counts\u001b[0m\u001b[0;34m(\u001b[0m\u001b[0;34m)\u001b[0m\u001b[0;34m\u001b[0m\u001b[0m\n",
      "\u001b[0;32m/usr/local/lib/python3.4/dist-packages/pandas/core/frame.py\u001b[0m in \u001b[0;36m__getitem__\u001b[0;34m(self, key)\u001b[0m\n\u001b[1;32m   1995\u001b[0m             \u001b[0;32mreturn\u001b[0m \u001b[0mself\u001b[0m\u001b[0;34m.\u001b[0m\u001b[0m_getitem_multilevel\u001b[0m\u001b[0;34m(\u001b[0m\u001b[0mkey\u001b[0m\u001b[0;34m)\u001b[0m\u001b[0;34m\u001b[0m\u001b[0m\n\u001b[1;32m   1996\u001b[0m         \u001b[0;32melse\u001b[0m\u001b[0;34m:\u001b[0m\u001b[0;34m\u001b[0m\u001b[0m\n\u001b[0;32m-> 1997\u001b[0;31m             \u001b[0;32mreturn\u001b[0m \u001b[0mself\u001b[0m\u001b[0;34m.\u001b[0m\u001b[0m_getitem_column\u001b[0m\u001b[0;34m(\u001b[0m\u001b[0mkey\u001b[0m\u001b[0;34m)\u001b[0m\u001b[0;34m\u001b[0m\u001b[0m\n\u001b[0m\u001b[1;32m   1998\u001b[0m \u001b[0;34m\u001b[0m\u001b[0m\n\u001b[1;32m   1999\u001b[0m     \u001b[0;32mdef\u001b[0m \u001b[0m_getitem_column\u001b[0m\u001b[0;34m(\u001b[0m\u001b[0mself\u001b[0m\u001b[0;34m,\u001b[0m \u001b[0mkey\u001b[0m\u001b[0;34m)\u001b[0m\u001b[0;34m:\u001b[0m\u001b[0;34m\u001b[0m\u001b[0m\n",
      "\u001b[0;32m/usr/local/lib/python3.4/dist-packages/pandas/core/frame.py\u001b[0m in \u001b[0;36m_getitem_column\u001b[0;34m(self, key)\u001b[0m\n\u001b[1;32m   2002\u001b[0m         \u001b[0;31m# get column\u001b[0m\u001b[0;34m\u001b[0m\u001b[0;34m\u001b[0m\u001b[0m\n\u001b[1;32m   2003\u001b[0m         \u001b[0;32mif\u001b[0m \u001b[0mself\u001b[0m\u001b[0;34m.\u001b[0m\u001b[0mcolumns\u001b[0m\u001b[0;34m.\u001b[0m\u001b[0mis_unique\u001b[0m\u001b[0;34m:\u001b[0m\u001b[0;34m\u001b[0m\u001b[0m\n\u001b[0;32m-> 2004\u001b[0;31m             \u001b[0;32mreturn\u001b[0m \u001b[0mself\u001b[0m\u001b[0;34m.\u001b[0m\u001b[0m_get_item_cache\u001b[0m\u001b[0;34m(\u001b[0m\u001b[0mkey\u001b[0m\u001b[0;34m)\u001b[0m\u001b[0;34m\u001b[0m\u001b[0m\n\u001b[0m\u001b[1;32m   2005\u001b[0m \u001b[0;34m\u001b[0m\u001b[0m\n\u001b[1;32m   2006\u001b[0m         \u001b[0;31m# duplicate columns & possible reduce dimensionality\u001b[0m\u001b[0;34m\u001b[0m\u001b[0;34m\u001b[0m\u001b[0m\n",
      "\u001b[0;32m/usr/local/lib/python3.4/dist-packages/pandas/core/generic.py\u001b[0m in \u001b[0;36m_get_item_cache\u001b[0;34m(self, item)\u001b[0m\n\u001b[1;32m   1348\u001b[0m         \u001b[0mres\u001b[0m \u001b[0;34m=\u001b[0m \u001b[0mcache\u001b[0m\u001b[0;34m.\u001b[0m\u001b[0mget\u001b[0m\u001b[0;34m(\u001b[0m\u001b[0mitem\u001b[0m\u001b[0;34m)\u001b[0m\u001b[0;34m\u001b[0m\u001b[0m\n\u001b[1;32m   1349\u001b[0m         \u001b[0;32mif\u001b[0m \u001b[0mres\u001b[0m \u001b[0;32mis\u001b[0m \u001b[0;32mNone\u001b[0m\u001b[0;34m:\u001b[0m\u001b[0;34m\u001b[0m\u001b[0m\n\u001b[0;32m-> 1350\u001b[0;31m             \u001b[0mvalues\u001b[0m \u001b[0;34m=\u001b[0m \u001b[0mself\u001b[0m\u001b[0;34m.\u001b[0m\u001b[0m_data\u001b[0m\u001b[0;34m.\u001b[0m\u001b[0mget\u001b[0m\u001b[0;34m(\u001b[0m\u001b[0mitem\u001b[0m\u001b[0;34m)\u001b[0m\u001b[0;34m\u001b[0m\u001b[0m\n\u001b[0m\u001b[1;32m   1351\u001b[0m             \u001b[0mres\u001b[0m \u001b[0;34m=\u001b[0m \u001b[0mself\u001b[0m\u001b[0;34m.\u001b[0m\u001b[0m_box_item_values\u001b[0m\u001b[0;34m(\u001b[0m\u001b[0mitem\u001b[0m\u001b[0;34m,\u001b[0m \u001b[0mvalues\u001b[0m\u001b[0;34m)\u001b[0m\u001b[0;34m\u001b[0m\u001b[0m\n\u001b[1;32m   1352\u001b[0m             \u001b[0mcache\u001b[0m\u001b[0;34m[\u001b[0m\u001b[0mitem\u001b[0m\u001b[0;34m]\u001b[0m \u001b[0;34m=\u001b[0m \u001b[0mres\u001b[0m\u001b[0;34m\u001b[0m\u001b[0m\n",
      "\u001b[0;32m/usr/local/lib/python3.4/dist-packages/pandas/core/internals.py\u001b[0m in \u001b[0;36mget\u001b[0;34m(self, item, fastpath)\u001b[0m\n\u001b[1;32m   3288\u001b[0m \u001b[0;34m\u001b[0m\u001b[0m\n\u001b[1;32m   3289\u001b[0m             \u001b[0;32mif\u001b[0m \u001b[0;32mnot\u001b[0m \u001b[0misnull\u001b[0m\u001b[0;34m(\u001b[0m\u001b[0mitem\u001b[0m\u001b[0;34m)\u001b[0m\u001b[0;34m:\u001b[0m\u001b[0;34m\u001b[0m\u001b[0m\n\u001b[0;32m-> 3290\u001b[0;31m                 \u001b[0mloc\u001b[0m \u001b[0;34m=\u001b[0m \u001b[0mself\u001b[0m\u001b[0;34m.\u001b[0m\u001b[0mitems\u001b[0m\u001b[0;34m.\u001b[0m\u001b[0mget_loc\u001b[0m\u001b[0;34m(\u001b[0m\u001b[0mitem\u001b[0m\u001b[0;34m)\u001b[0m\u001b[0;34m\u001b[0m\u001b[0m\n\u001b[0m\u001b[1;32m   3291\u001b[0m             \u001b[0;32melse\u001b[0m\u001b[0;34m:\u001b[0m\u001b[0;34m\u001b[0m\u001b[0m\n\u001b[1;32m   3292\u001b[0m                 \u001b[0mindexer\u001b[0m \u001b[0;34m=\u001b[0m \u001b[0mnp\u001b[0m\u001b[0;34m.\u001b[0m\u001b[0marange\u001b[0m\u001b[0;34m(\u001b[0m\u001b[0mlen\u001b[0m\u001b[0;34m(\u001b[0m\u001b[0mself\u001b[0m\u001b[0;34m.\u001b[0m\u001b[0mitems\u001b[0m\u001b[0;34m)\u001b[0m\u001b[0;34m)\u001b[0m\u001b[0;34m[\u001b[0m\u001b[0misnull\u001b[0m\u001b[0;34m(\u001b[0m\u001b[0mself\u001b[0m\u001b[0;34m.\u001b[0m\u001b[0mitems\u001b[0m\u001b[0;34m)\u001b[0m\u001b[0;34m]\u001b[0m\u001b[0;34m\u001b[0m\u001b[0m\n",
      "\u001b[0;32m/usr/local/lib/python3.4/dist-packages/pandas/indexes/base.py\u001b[0m in \u001b[0;36mget_loc\u001b[0;34m(self, key, method, tolerance)\u001b[0m\n\u001b[1;32m   1945\u001b[0m                 \u001b[0;32mreturn\u001b[0m \u001b[0mself\u001b[0m\u001b[0;34m.\u001b[0m\u001b[0m_engine\u001b[0m\u001b[0;34m.\u001b[0m\u001b[0mget_loc\u001b[0m\u001b[0;34m(\u001b[0m\u001b[0mkey\u001b[0m\u001b[0;34m)\u001b[0m\u001b[0;34m\u001b[0m\u001b[0m\n\u001b[1;32m   1946\u001b[0m             \u001b[0;32mexcept\u001b[0m \u001b[0mKeyError\u001b[0m\u001b[0;34m:\u001b[0m\u001b[0;34m\u001b[0m\u001b[0m\n\u001b[0;32m-> 1947\u001b[0;31m                 \u001b[0;32mreturn\u001b[0m \u001b[0mself\u001b[0m\u001b[0;34m.\u001b[0m\u001b[0m_engine\u001b[0m\u001b[0;34m.\u001b[0m\u001b[0mget_loc\u001b[0m\u001b[0;34m(\u001b[0m\u001b[0mself\u001b[0m\u001b[0;34m.\u001b[0m\u001b[0m_maybe_cast_indexer\u001b[0m\u001b[0;34m(\u001b[0m\u001b[0mkey\u001b[0m\u001b[0;34m)\u001b[0m\u001b[0;34m)\u001b[0m\u001b[0;34m\u001b[0m\u001b[0m\n\u001b[0m\u001b[1;32m   1948\u001b[0m \u001b[0;34m\u001b[0m\u001b[0m\n\u001b[1;32m   1949\u001b[0m         \u001b[0mindexer\u001b[0m \u001b[0;34m=\u001b[0m \u001b[0mself\u001b[0m\u001b[0;34m.\u001b[0m\u001b[0mget_indexer\u001b[0m\u001b[0;34m(\u001b[0m\u001b[0;34m[\u001b[0m\u001b[0mkey\u001b[0m\u001b[0;34m]\u001b[0m\u001b[0;34m,\u001b[0m \u001b[0mmethod\u001b[0m\u001b[0;34m=\u001b[0m\u001b[0mmethod\u001b[0m\u001b[0;34m,\u001b[0m \u001b[0mtolerance\u001b[0m\u001b[0;34m=\u001b[0m\u001b[0mtolerance\u001b[0m\u001b[0;34m)\u001b[0m\u001b[0;34m\u001b[0m\u001b[0m\n",
      "\u001b[0;32mpandas/index.pyx\u001b[0m in \u001b[0;36mpandas.index.IndexEngine.get_loc (pandas/index.c:4154)\u001b[0;34m()\u001b[0m\n",
      "\u001b[0;32mpandas/index.pyx\u001b[0m in \u001b[0;36mpandas.index.IndexEngine.get_loc (pandas/index.c:4018)\u001b[0;34m()\u001b[0m\n",
      "\u001b[0;32mpandas/hashtable.pyx\u001b[0m in \u001b[0;36mpandas.hashtable.PyObjectHashTable.get_item (pandas/hashtable.c:12368)\u001b[0;34m()\u001b[0m\n",
      "\u001b[0;32mpandas/hashtable.pyx\u001b[0m in \u001b[0;36mpandas.hashtable.PyObjectHashTable.get_item (pandas/hashtable.c:12322)\u001b[0;34m()\u001b[0m\n",
      "\u001b[0;31mKeyError\u001b[0m: 'segment'"
     ]
    }
   ],
   "source": [
    "target = train_data['segment']\n",
    "train_data.drop('segment',axis=1, inplace=True)\n",
    "\n",
    "\n",
    "target.value_counts()"
   ]
  },
  {
   "cell_type": "code",
   "execution_count": 206,
   "metadata": {
    "collapsed": false
   },
   "outputs": [
    {
     "data": {
      "text/plain": [
       "<bound method Series.head of 0         0\n",
       "1         0\n",
       "2         0\n",
       "3         0\n",
       "4         0\n",
       "5         0\n",
       "6         0\n",
       "7         0\n",
       "8         0\n",
       "9         0\n",
       "10        0\n",
       "11        0\n",
       "12        1\n",
       "13        0\n",
       "14        0\n",
       "15        0\n",
       "16        0\n",
       "17        0\n",
       "18        0\n",
       "19        0\n",
       "20        0\n",
       "21        0\n",
       "22        0\n",
       "23        0\n",
       "24        0\n",
       "25        0\n",
       "26        0\n",
       "27        0\n",
       "28        1\n",
       "29        0\n",
       "         ..\n",
       "199970    0\n",
       "199971    0\n",
       "199972    0\n",
       "199973    0\n",
       "199974    0\n",
       "199975    0\n",
       "199976    0\n",
       "199977    0\n",
       "199978    0\n",
       "199979    1\n",
       "199980    0\n",
       "199981    0\n",
       "199982    0\n",
       "199983    0\n",
       "199984    0\n",
       "199985    0\n",
       "199986    0\n",
       "199987    0\n",
       "199988    0\n",
       "199989    0\n",
       "199990    0\n",
       "199991    0\n",
       "199992    0\n",
       "199993    1\n",
       "199994    0\n",
       "199995    0\n",
       "199996    0\n",
       "199997    0\n",
       "199998    0\n",
       "199999    0\n",
       "Name: segment, dtype: int64>"
      ]
     },
     "execution_count": 206,
     "metadata": {},
     "output_type": "execute_result"
    }
   ],
   "source": [
    "target.head"
   ]
  },
  {
   "cell_type": "code",
   "execution_count": 207,
   "metadata": {
    "collapsed": false
   },
   "outputs": [
    {
     "data": {
      "text/plain": [
       "(300000, 214)"
      ]
     },
     "execution_count": 207,
     "metadata": {},
     "output_type": "execute_result"
    }
   ],
   "source": [
    "train_data.shape"
   ]
  },
  {
   "cell_type": "code",
   "execution_count": 208,
   "metadata": {
    "collapsed": false
   },
   "outputs": [
    {
     "data": {
      "text/plain": [
       "(100000, 14)"
      ]
     },
     "execution_count": 208,
     "metadata": {},
     "output_type": "execute_result"
    }
   ],
   "source": [
    "test_data.shape"
   ]
  },
  {
   "cell_type": "code",
   "execution_count": 209,
   "metadata": {
    "collapsed": false,
    "scrolled": true
   },
   "outputs": [
    {
     "data": {
      "text/plain": [
       "Index(['Kabaddi', 'Reality', 'Romance', 'Family', 'Horror', 'Kids', 'Boxing',\n",
       "       'Teen', 'Mythology', 'Table Tennis',\n",
       "       ...\n",
       "       'thane', 'srinagar', 'title_sum', 'title_count', 'genres_count',\n",
       "       'cities_count', 'tod_count', 'dow_count', 'vs', 'ipl'],\n",
       "      dtype='object', length=214)"
      ]
     },
     "execution_count": 209,
     "metadata": {},
     "output_type": "execute_result"
    }
   ],
   "source": [
    "train_data.columns"
   ]
  },
  {
   "cell_type": "code",
   "execution_count": 210,
   "metadata": {
    "collapsed": false
   },
   "outputs": [
    {
     "data": {
      "text/plain": [
       "(300000, 214)"
      ]
     },
     "execution_count": 210,
     "metadata": {},
     "output_type": "execute_result"
    }
   ],
   "source": [
    "train_data.shape"
   ]
  },
  {
   "cell_type": "code",
   "execution_count": 211,
   "metadata": {
    "collapsed": false
   },
   "outputs": [
    {
     "data": {
      "text/plain": [
       "Index(['ID', 'cities', 'dow', 'genres', 'titles', 'tod', 'title_sum',\n",
       "       'title_count', 'genres_count', 'cities_count', 'tod_count', 'dow_count',\n",
       "       'vs', 'ipl'],\n",
       "      dtype='object')"
      ]
     },
     "execution_count": 211,
     "metadata": {},
     "output_type": "execute_result"
    }
   ],
   "source": [
    "test_data.columns"
   ]
  },
  {
   "cell_type": "code",
   "execution_count": 212,
   "metadata": {
    "collapsed": false
   },
   "outputs": [
    {
     "data": {
      "text/plain": [
       "(100000, 14)"
      ]
     },
     "execution_count": 212,
     "metadata": {},
     "output_type": "execute_result"
    }
   ],
   "source": [
    "test_data.shape"
   ]
  },
  {
   "cell_type": "code",
   "execution_count": 213,
   "metadata": {
    "collapsed": false
   },
   "outputs": [],
   "source": [
    "#train_data.loc[:,train_data.columns.tolist() not in test_data.columns.tolist()].head()"
   ]
  },
  {
   "cell_type": "code",
   "execution_count": 214,
   "metadata": {
    "collapsed": false
   },
   "outputs": [
    {
     "data": {
      "text/plain": [
       "'Reality'"
      ]
     },
     "execution_count": 214,
     "metadata": {},
     "output_type": "execute_result"
    }
   ],
   "source": [
    "train_data.columns.tolist()[train_data.columns.tolist() not in test_data.columns.tolist()]"
   ]
  },
  {
   "cell_type": "code",
   "execution_count": 215,
   "metadata": {
    "collapsed": false
   },
   "outputs": [
    {
     "data": {
      "text/plain": [
       "'cities'"
      ]
     },
     "execution_count": 215,
     "metadata": {},
     "output_type": "execute_result"
    }
   ],
   "source": [
    "test_data.columns.tolist()[test_data.columns.tolist() not in test_data.columns.tolist()]"
   ]
  },
  {
   "cell_type": "code",
   "execution_count": 216,
   "metadata": {
    "collapsed": false
   },
   "outputs": [],
   "source": [
    "#train_data.drop(['paris', 'noida', 'jaipur', 'tirupati', 'gazipur', 'bhopal', 'dubayy', 'rawalpindi', 'gulbarga', 'nagari', 'secunderabad', 'jakarta', 'kukatpally', 'ad dawhah', 'al-manamah', 'surat', 'krishnarajapura', 'thiruvananthapuram', 'mangalore', 'prabhadevi', 'al kuwayt', 'vadodara', 'jacksonville', 'lahore', 'bulandshahr'], inplace=True, axis=1)\n",
    "#test_data.drop(['paris', 'noida', 'jaipur', 'tirupati', 'gazipur', 'bhopal', 'dubayy', 'rawalpindi', 'gulbarga', 'nagari', 'secunderabad', 'jakarta', 'kukatpally', 'ad dawhah', 'al-manamah', 'surat', 'krishnarajapura', 'thiruvananthapuram', 'mangalore', 'prabhadevi', 'al kuwayt', 'vadodara', 'jacksonville', 'lahore', 'bulandshahr'], inplace=True, axis=1)\n",
    "\n",
    "#train_data.drop(['Science'], inplace=True, axis=1)\n",
    "#test_data.drop(['Science'], inplace=True, axis=1)\n"
   ]
  },
  {
   "cell_type": "code",
   "execution_count": 217,
   "metadata": {
    "collapsed": true
   },
   "outputs": [],
   "source": [
    "#train_data2 = train_data\n",
    "#test_data2 = test_data\n",
    "\n",
    "#train_data = train_data2\n",
    "#test_data = test_data2"
   ]
  },
  {
   "cell_type": "code",
   "execution_count": 218,
   "metadata": {
    "collapsed": false,
    "scrolled": true
   },
   "outputs": [],
   "source": [
    "\n",
    "\n",
    "#train_data=train_data.values\n",
    "#test_data=test_data.values\n",
    "\n",
    "#test_data.columns = train_data.columns"
   ]
  },
  {
   "cell_type": "code",
   "execution_count": 219,
   "metadata": {
    "collapsed": false
   },
   "outputs": [],
   "source": [
    "train = train_data.loc[:n[0]-1,:]\n",
    "test = train_data.loc[n[0]:,:]"
   ]
  },
  {
   "cell_type": "code",
   "execution_count": 234,
   "metadata": {
    "collapsed": false
   },
   "outputs": [
    {
     "data": {
      "text/plain": [
       "(200000, 195)"
      ]
     },
     "execution_count": 234,
     "metadata": {},
     "output_type": "execute_result"
    }
   ],
   "source": [
    "train.shape"
   ]
  },
  {
   "cell_type": "code",
   "execution_count": 235,
   "metadata": {
    "collapsed": false
   },
   "outputs": [
    {
     "data": {
      "text/plain": [
       "(100000, 195)"
      ]
     },
     "execution_count": 235,
     "metadata": {},
     "output_type": "execute_result"
    }
   ],
   "source": [
    "test.shape"
   ]
  },
  {
   "cell_type": "code",
   "execution_count": 233,
   "metadata": {
    "collapsed": false
   },
   "outputs": [
    {
     "name": "stderr",
     "output_type": "stream",
     "text": [
      "/usr/local/lib/python3.4/dist-packages/ipykernel/__main__.py:2: SettingWithCopyWarning: \n",
      "A value is trying to be set on a copy of a slice from a DataFrame\n",
      "\n",
      "See the caveats in the documentation: http://pandas.pydata.org/pandas-docs/stable/indexing.html#indexing-view-versus-copy\n",
      "  from ipykernel import kernelapp as app\n",
      "/usr/local/lib/python3.4/dist-packages/ipykernel/__main__.py:5: SettingWithCopyWarning: \n",
      "A value is trying to be set on a copy of a slice from a DataFrame\n",
      "\n",
      "See the caveats in the documentation: http://pandas.pydata.org/pandas-docs/stable/indexing.html#indexing-view-versus-copy\n"
     ]
    }
   ],
   "source": [
    "train.drop(['siliguri', 'dombivli', 'NA', 'vapi', 'amsterdam', 'frankfurt am main', 'las vegas', 'milano', 'anandnagar', 'petaling jaya', \n",
    "'colombo', 'faridabad', 'albany', 'sydney', 'nashik', 'peshawar', 'stuttgart', 'patiala', 'patiala', 'guwahati'], axis =1, inplace = True)\n",
    "\n",
    "test.drop(['siliguri', 'dombivli', 'NA', 'vapi', 'amsterdam', 'frankfurt am main', 'las vegas', 'milano', 'anandnagar', 'petaling jaya', \n",
    "'colombo', 'faridabad', 'albany', 'sydney', 'nashik', 'peshawar', 'stuttgart', 'patiala', 'patiala', 'guwahati'], axis =1, inplace = True)\n"
   ]
  },
  {
   "cell_type": "code",
   "execution_count": 239,
   "metadata": {
    "collapsed": false
   },
   "outputs": [
    {
     "name": "stderr",
     "output_type": "stream",
     "text": [
      "/usr/local/lib/python3.4/dist-packages/pandas/core/generic.py:2701: SettingWithCopyWarning: \n",
      "A value is trying to be set on a copy of a slice from a DataFrame.\n",
      "Try using .loc[row_indexer,col_indexer] = value instead\n",
      "\n",
      "See the caveats in the documentation: http://pandas.pydata.org/pandas-docs/stable/indexing.html#indexing-view-versus-copy\n",
      "  self[name] = value\n"
     ]
    }
   ],
   "source": [
    "train.ipl = np.log(1+train.ipl)\n",
    "train.vs = np.log(1+train.vs)\n",
    "\n",
    "test.ipl = np.log(1+test.ipl)\n",
    "test.vs = np.log(1+test.vs)\n"
   ]
  },
  {
   "cell_type": "markdown",
   "metadata": {},
   "source": [
    "\n",
    "# training data\n"
   ]
  },
  {
   "cell_type": "code",
   "execution_count": 240,
   "metadata": {
    "collapsed": true
   },
   "outputs": [],
   "source": [
    "def runXGB(train_X, train_y, test_X, test_y=None, feature_names=None, seed_val=321, num_rounds=10000):\n",
    "    param = {}\n",
    "    param['objective'] = 'binary:logistic'\n",
    "    param['eta'] = 0.01\n",
    "    param['max_depth'] = 8\n",
    "    param['silent'] = 1\n",
    "    param['lambda'] = 10    \n",
    "    param['eval_metric'] = \"auc\"\n",
    "    param['min_child_weight'] = 1\n",
    "    param['nthread'] = 16 \n",
    "    param['subsample'] = 0.7\n",
    "    param['colsample_bytree'] = 0.7\n",
    "    param['seed'] = seed_val\n",
    "    num_rounds = num_rounds\n",
    "\n",
    "    plst = list(param.items())\n",
    "    xgtrain = xgb.DMatrix(train_X, label=train_y)\n",
    "\n",
    "    if test_y is not None:\n",
    "        xgtest = xgb.DMatrix(test_X, label=test_y)\n",
    "        watchlist = [ (xgtrain,'train'), (xgtest, 'test') ]\n",
    "        model = xgb.train(plst, xgtrain, num_rounds, watchlist, early_stopping_rounds=50, verbose_eval = 100)\n",
    "    else:\n",
    "        xgtest = xgb.DMatrix(test_X)\n",
    "        model = xgb.train(plst, xgtrain, num_rounds)\n",
    "\n",
    "    pred_test_y = model.predict(xgtest)\n",
    "    return pred_test_y, model\n",
    "\n"
   ]
  },
  {
   "cell_type": "code",
   "execution_count": 241,
   "metadata": {
    "collapsed": false
   },
   "outputs": [
    {
     "data": {
      "text/plain": [
       "train-1         0\n",
       "train-10        0\n",
       "train-100       0\n",
       "train-1000      0\n",
       "train-10000     0\n",
       "train-100000    0\n",
       "train-100001    0\n",
       "train-100002    0\n",
       "train-100003    0\n",
       "train-100004    0\n",
       "train-100005    0\n",
       "train-100006    0\n",
       "train-100007    1\n",
       "train-100008    0\n",
       "train-100009    0\n",
       "train-10001     0\n",
       "train-100010    0\n",
       "train-100011    0\n",
       "train-100012    0\n",
       "train-100013    0\n",
       "Name: segment, dtype: int64"
      ]
     },
     "execution_count": 241,
     "metadata": {},
     "output_type": "execute_result"
    }
   ],
   "source": [
    "tr = pd.read_json('India Hacks 2017/Hotstar/train_data.json',orient=\"index\")\n",
    "\n",
    "tr = tr.replace({'segment':{'pos':1,'neg':0}})\n",
    "\n",
    "target = tr['segment']\n",
    "\n",
    "\n",
    "target.head(20)"
   ]
  },
  {
   "cell_type": "code",
   "execution_count": 242,
   "metadata": {
    "collapsed": false,
    "scrolled": false
   },
   "outputs": [
    {
     "name": "stdout",
     "output_type": "stream",
     "text": [
      "[0]\ttrain-auc:0.771252\ttest-auc:0.770648\n",
      "Multiple eval metrics have been passed: 'test-auc' will be used for early stopping.\n",
      "\n",
      "Will train until test-auc hasn't improved in 50 rounds.\n",
      "[100]\ttrain-auc:0.809464\ttest-auc:0.803041\n",
      "[200]\ttrain-auc:0.818367\ttest-auc:0.807307\n",
      "[300]\ttrain-auc:0.826095\ttest-auc:0.810666\n",
      "[400]\ttrain-auc:0.832392\ttest-auc:0.812737\n",
      "[500]\ttrain-auc:0.837837\ttest-auc:0.81414\n",
      "[600]\ttrain-auc:0.842167\ttest-auc:0.814938\n",
      "[700]\ttrain-auc:0.84567\ttest-auc:0.81549\n",
      "[800]\ttrain-auc:0.848602\ttest-auc:0.815893\n",
      "[900]\ttrain-auc:0.851485\ttest-auc:0.816039\n",
      "[1000]\ttrain-auc:0.854157\ttest-auc:0.816129\n",
      "[1100]\ttrain-auc:0.856845\ttest-auc:0.816203\n",
      "[1200]\ttrain-auc:0.859295\ttest-auc:0.816218\n",
      "Stopping. Best iteration:\n",
      "[1150]\ttrain-auc:0.857992\ttest-auc:0.816236\n",
      "\n"
     ]
    }
   ],
   "source": [
    "from sklearn import model_selection, preprocessing, ensemble\n",
    "\n",
    "cv_scores = []\n",
    "kf = model_selection.KFold(n_splits=5, shuffle=True, random_state=2016)\n",
    "for dev_index, val_index in kf.split(range(train.shape[0])):\n",
    "        dev_X, val_X = train.loc[dev_index,:], train.loc[val_index,:]\n",
    "        dev_Y, val_Y = target[dev_index], target[val_index]\n",
    "        preds, model = runXGB(dev_X, dev_Y, val_X, val_Y)\n",
    "#        cv_scores.append(log_loss(val_Y, preds))\n",
    "#        print(cv_scores)\n",
    "        break"
   ]
  },
  {
   "cell_type": "code",
   "execution_count": 226,
   "metadata": {
    "collapsed": false,
    "scrolled": false
   },
   "outputs": [],
   "source": [
    "#[593]\ttrain-auc:0.844575\ttest-auc:0.805021, LB: 0.79529\n",
    "#with \"vs\" count:\n",
    "#[511]\ttrain-auc:0.845387\ttest-auc:0.810365, LB: 0.80308\n",
    "#with \"vs\" and \"'s\" count (lambda = 50):\n",
    "#[1107]\ttrain-auc:0.829788\ttest-auc:0.810833, LB: 0.80255\n",
    "#with \"vs\" and \"'s\" count (lambda = 10):\n",
    "#[910]\ttrain-auc:0.840914\ttest-auc:0.810716, LB: 0.80214\n",
    "#with \"vs\" and \"ipl\" count (lambda = 10):\n",
    "#[802]\ttrain-auc:0.83779\ttest-auc:0.810799, LB: 0.80376\n",
    "#with \"vs\" and \"ipl\" count and tod's (lambda = 10):\n",
    "#[852]\ttrain-auc:0.847635\ttest-auc:0.811131, LB: 0.80398\n",
    "#With 1000 cities\n",
    "#[1114]\ttrain-auc:0.857395\ttest-auc:0.816483 LB: 0.80954\n",
    "#[974]\ttrain-auc:0.853322\ttest-auc:0.816201 LB: 0.80959\n",
    "preds, model = runXGB(train, target, test, num_rounds=974)\n"
   ]
  },
  {
   "cell_type": "code",
   "execution_count": 228,
   "metadata": {
    "collapsed": false
   },
   "outputs": [
    {
     "data": {
      "text/plain": [
       "array([ 0.05716499,  0.23778757,  0.19725336,  0.14160343,  0.05697566,\n",
       "        0.0152957 ,  0.05676546,  0.0051173 ,  0.02235965], dtype=float32)"
      ]
     },
     "execution_count": 228,
     "metadata": {},
     "output_type": "execute_result"
    }
   ],
   "source": [
    "preds[1:10]"
   ]
  },
  {
   "cell_type": "code",
   "execution_count": 227,
   "metadata": {
    "collapsed": false,
    "scrolled": true
   },
   "outputs": [
    {
     "data": {
      "text/plain": [
       "array(dict_items([('ad dawhah', 48), ('10', 963), ('bangkok', 13), ('vs', 3924), ('Unknown', 1094), ('delhi', 1482), ('siliguri', 16), ('hyderabad', 1549), ('dombivli', 1), ('kanpur', 26), ('Romance', 1753), ('dow_count', 2420), ('NA', 4), ('lahore', 99), ('Awards', 807), ('Mythology', 1065), ('vapi', 28), ('kathmandu', 55), ('amsterdam', 14), ('tirupati', 73), ('mangalore', 138), ('week_5', 811), ('gurgaon', 906), ('frankfurt am main', 15), ('Teen', 536), ('chandigarh', 340), ('13', 932), ('6', 825), ('las vegas', 13), ('milano', 2), ('anandnagar', 8), ('Tennis', 52), ('Travel', 396), ('petaling jaya', 4), ('week_7', 947), ('cities_count', 4221), ('bhopal', 488), ('nagari', 116), ('colombo', 25), ('15', 943), ('week_2', 774), ('Thriller', 1015), ('bangalore', 1390), ('7', 1142), ('karachi', 433), ('Kabaddi', 176), ('prabhadevi', 271), ('8', 1000), ('al kuwayt', 29), ('16', 910), ('dubayy', 222), ('faridabad', 6), ('Athletics', 53), ('tod_count', 6364), ('Crime', 1247), ('new delhi', 1243), ('LiveTV', 974), ('rajahmundry', 55), ('albany', 3), ('ghaziabad', 1), ('Formula1', 68), ('madurai', 4), ('nagar', 185), ('secunderabad', 697), ('khanna', 1), ('Science', 230), ('ahmedabad', 691), ('title_sum', 21163), ('sydney', 13), ('nashik', 7), ('week_3', 875), ('TalkShow', 2049), ('Action', 1639), ('ipl', 833), ('9', 988), ('new york', 22), ('navi mumbai', 1527), ('ambala', 26), ('hong kong', 16), ('genres_count', 4795), ('krishnarajapura', 501), ('junagadh', 14), ('surat', 287), ('Reality', 1368), ('Family', 1906), ('rawalpindi', 175), ('gulbarga', 24), ('Kids', 1292), ('23', 1406), ('12', 929), ('Table Tennis', 22), ('ramaiah institute of technology', 35), ('kharagpur', 85), ('Cricket', 977), ('comilla', 23), ('ranchi', 13), ('19', 917), ('islamabad', 50), ('Horror', 790), ('week_4', 781), ('gulshan', 192), ('17', 880), ('kuala lumpur', 67), ('18', 950), ('Hockey', 127), ('kochi', 57), ('ludhiana', 47), ('2', 1052), ('14', 1024), ('Comedy', 1560), ('1', 1124), ('stuttgart', 8), ('chennai', 1098), ('Wildlife', 228), ('pune', 608), ('kolkata', 995), ('5', 812), ('vadodara', 113), ('bengaluru', 1176), ('22', 1164), ('11', 902), ('jodhpur', 5), ('paris', 5), ('peshawar', 1), ('jakarta', 48), ('Documentary', 115), ('3', 853), ('Drama', 1656), ('0', 1213), ('Football', 355), ('20', 988), ('duesseldorf', 31), ('4', 735), ('mirpur', 88), ('week_6', 898), ('jaipur', 20), ('bhubaneswar', 55), ('singapore', 39), ('21', 1006), ('ar riya', 199), ('vasai', 34), ('Badminton', 579), ('title_count', 9550), ('hosur', 53), ('week_1', 802), ('dhaka', 579), ('lagos', 24), ('thiruvananthapuram', 101), ('guwahati', 11), ('Sport', 196), ('domlur', 17), ('gandhinagar', 537), ('thane', 204), ('mumbai', 1474), ('noida', 272), ('naihati', 100), ('srinagar', 266), ('patiala', 1)]), dtype=object)"
      ]
     },
     "execution_count": 227,
     "metadata": {},
     "output_type": "execute_result"
    }
   ],
   "source": [
    "np.array(model.get_fscore().items())\n",
    "\n"
   ]
  },
  {
   "cell_type": "code",
   "execution_count": 142,
   "metadata": {
    "collapsed": false
   },
   "outputs": [
    {
     "ename": "ValueError",
     "evalue": "If using all scalar values, you must pass an index",
     "output_type": "error",
     "traceback": [
      "\u001b[0;31m---------------------------------------------------------------------------\u001b[0m",
      "\u001b[0;31mValueError\u001b[0m                                Traceback (most recent call last)",
      "\u001b[0;32m<ipython-input-142-58fc53c328cb>\u001b[0m in \u001b[0;36m<module>\u001b[0;34m()\u001b[0m\n\u001b[0;32m----> 1\u001b[0;31m \u001b[0mfi\u001b[0m \u001b[0;34m=\u001b[0m \u001b[0mpd\u001b[0m\u001b[0;34m.\u001b[0m\u001b[0mDataFrame\u001b[0m\u001b[0;34m.\u001b[0m\u001b[0mfrom_dict\u001b[0m\u001b[0;34m(\u001b[0m\u001b[0mdata\u001b[0m \u001b[0;34m=\u001b[0m \u001b[0mmodel\u001b[0m\u001b[0;34m.\u001b[0m\u001b[0mget_fscore\u001b[0m\u001b[0;34m(\u001b[0m\u001b[0;34m)\u001b[0m\u001b[0;34m)\u001b[0m\u001b[0;34m\u001b[0m\u001b[0m\n\u001b[0m\u001b[1;32m      2\u001b[0m \u001b[0;31m#, orient =['feature','importance']).sort_values('importance', ascending=False)\u001b[0m\u001b[0;34m\u001b[0m\u001b[0;34m\u001b[0m\u001b[0m\n\u001b[1;32m      3\u001b[0m \u001b[0;31m#model.get_fscore().items().head()\u001b[0m\u001b[0;34m\u001b[0m\u001b[0;34m\u001b[0m\u001b[0m\n\u001b[1;32m      4\u001b[0m \u001b[0mfi\u001b[0m\u001b[0;34m.\u001b[0m\u001b[0mhead\u001b[0m\u001b[0;34m(\u001b[0m\u001b[0;34m)\u001b[0m\u001b[0;34m\u001b[0m\u001b[0m\n\u001b[1;32m      5\u001b[0m \u001b[0;34m\u001b[0m\u001b[0m\n",
      "\u001b[0;32m/usr/local/lib/python3.4/dist-packages/pandas/core/frame.py\u001b[0m in \u001b[0;36mfrom_dict\u001b[0;34m(cls, data, orient, dtype)\u001b[0m\n\u001b[1;32m    807\u001b[0m             \u001b[0;32mraise\u001b[0m \u001b[0mValueError\u001b[0m\u001b[0;34m(\u001b[0m\u001b[0;34m'only recognize index or columns for orient'\u001b[0m\u001b[0;34m)\u001b[0m\u001b[0;34m\u001b[0m\u001b[0m\n\u001b[1;32m    808\u001b[0m \u001b[0;34m\u001b[0m\u001b[0m\n\u001b[0;32m--> 809\u001b[0;31m         \u001b[0;32mreturn\u001b[0m \u001b[0mcls\u001b[0m\u001b[0;34m(\u001b[0m\u001b[0mdata\u001b[0m\u001b[0;34m,\u001b[0m \u001b[0mindex\u001b[0m\u001b[0;34m=\u001b[0m\u001b[0mindex\u001b[0m\u001b[0;34m,\u001b[0m \u001b[0mcolumns\u001b[0m\u001b[0;34m=\u001b[0m\u001b[0mcolumns\u001b[0m\u001b[0;34m,\u001b[0m \u001b[0mdtype\u001b[0m\u001b[0;34m=\u001b[0m\u001b[0mdtype\u001b[0m\u001b[0;34m)\u001b[0m\u001b[0;34m\u001b[0m\u001b[0m\n\u001b[0m\u001b[1;32m    810\u001b[0m \u001b[0;34m\u001b[0m\u001b[0m\n\u001b[1;32m    811\u001b[0m     \u001b[0;34m@\u001b[0m\u001b[0mdeprecate_kwarg\u001b[0m\u001b[0;34m(\u001b[0m\u001b[0mold_arg_name\u001b[0m\u001b[0;34m=\u001b[0m\u001b[0;34m'outtype'\u001b[0m\u001b[0;34m,\u001b[0m \u001b[0mnew_arg_name\u001b[0m\u001b[0;34m=\u001b[0m\u001b[0;34m'orient'\u001b[0m\u001b[0;34m)\u001b[0m\u001b[0;34m\u001b[0m\u001b[0m\n",
      "\u001b[0;32m/usr/local/lib/python3.4/dist-packages/pandas/core/frame.py\u001b[0m in \u001b[0;36m__init__\u001b[0;34m(self, data, index, columns, dtype, copy)\u001b[0m\n\u001b[1;32m    222\u001b[0m                                  dtype=dtype, copy=copy)\n\u001b[1;32m    223\u001b[0m         \u001b[0;32melif\u001b[0m \u001b[0misinstance\u001b[0m\u001b[0;34m(\u001b[0m\u001b[0mdata\u001b[0m\u001b[0;34m,\u001b[0m \u001b[0mdict\u001b[0m\u001b[0;34m)\u001b[0m\u001b[0;34m:\u001b[0m\u001b[0;34m\u001b[0m\u001b[0m\n\u001b[0;32m--> 224\u001b[0;31m             \u001b[0mmgr\u001b[0m \u001b[0;34m=\u001b[0m \u001b[0mself\u001b[0m\u001b[0;34m.\u001b[0m\u001b[0m_init_dict\u001b[0m\u001b[0;34m(\u001b[0m\u001b[0mdata\u001b[0m\u001b[0;34m,\u001b[0m \u001b[0mindex\u001b[0m\u001b[0;34m,\u001b[0m \u001b[0mcolumns\u001b[0m\u001b[0;34m,\u001b[0m \u001b[0mdtype\u001b[0m\u001b[0;34m=\u001b[0m\u001b[0mdtype\u001b[0m\u001b[0;34m)\u001b[0m\u001b[0;34m\u001b[0m\u001b[0m\n\u001b[0m\u001b[1;32m    225\u001b[0m         \u001b[0;32melif\u001b[0m \u001b[0misinstance\u001b[0m\u001b[0;34m(\u001b[0m\u001b[0mdata\u001b[0m\u001b[0;34m,\u001b[0m \u001b[0mma\u001b[0m\u001b[0;34m.\u001b[0m\u001b[0mMaskedArray\u001b[0m\u001b[0;34m)\u001b[0m\u001b[0;34m:\u001b[0m\u001b[0;34m\u001b[0m\u001b[0m\n\u001b[1;32m    226\u001b[0m             \u001b[0;32mimport\u001b[0m \u001b[0mnumpy\u001b[0m\u001b[0;34m.\u001b[0m\u001b[0mma\u001b[0m\u001b[0;34m.\u001b[0m\u001b[0mmrecords\u001b[0m \u001b[0;32mas\u001b[0m \u001b[0mmrecords\u001b[0m\u001b[0;34m\u001b[0m\u001b[0m\n",
      "\u001b[0;32m/usr/local/lib/python3.4/dist-packages/pandas/core/frame.py\u001b[0m in \u001b[0;36m_init_dict\u001b[0;34m(self, data, index, columns, dtype)\u001b[0m\n\u001b[1;32m    358\u001b[0m             \u001b[0marrays\u001b[0m \u001b[0;34m=\u001b[0m \u001b[0;34m[\u001b[0m\u001b[0mdata\u001b[0m\u001b[0;34m[\u001b[0m\u001b[0mk\u001b[0m\u001b[0;34m]\u001b[0m \u001b[0;32mfor\u001b[0m \u001b[0mk\u001b[0m \u001b[0;32min\u001b[0m \u001b[0mkeys\u001b[0m\u001b[0;34m]\u001b[0m\u001b[0;34m\u001b[0m\u001b[0m\n\u001b[1;32m    359\u001b[0m \u001b[0;34m\u001b[0m\u001b[0m\n\u001b[0;32m--> 360\u001b[0;31m         \u001b[0;32mreturn\u001b[0m \u001b[0m_arrays_to_mgr\u001b[0m\u001b[0;34m(\u001b[0m\u001b[0marrays\u001b[0m\u001b[0;34m,\u001b[0m \u001b[0mdata_names\u001b[0m\u001b[0;34m,\u001b[0m \u001b[0mindex\u001b[0m\u001b[0;34m,\u001b[0m \u001b[0mcolumns\u001b[0m\u001b[0;34m,\u001b[0m \u001b[0mdtype\u001b[0m\u001b[0;34m=\u001b[0m\u001b[0mdtype\u001b[0m\u001b[0;34m)\u001b[0m\u001b[0;34m\u001b[0m\u001b[0m\n\u001b[0m\u001b[1;32m    361\u001b[0m \u001b[0;34m\u001b[0m\u001b[0m\n\u001b[1;32m    362\u001b[0m     \u001b[0;32mdef\u001b[0m \u001b[0m_init_ndarray\u001b[0m\u001b[0;34m(\u001b[0m\u001b[0mself\u001b[0m\u001b[0;34m,\u001b[0m \u001b[0mvalues\u001b[0m\u001b[0;34m,\u001b[0m \u001b[0mindex\u001b[0m\u001b[0;34m,\u001b[0m \u001b[0mcolumns\u001b[0m\u001b[0;34m,\u001b[0m \u001b[0mdtype\u001b[0m\u001b[0;34m=\u001b[0m\u001b[0;32mNone\u001b[0m\u001b[0;34m,\u001b[0m \u001b[0mcopy\u001b[0m\u001b[0;34m=\u001b[0m\u001b[0;32mFalse\u001b[0m\u001b[0;34m)\u001b[0m\u001b[0;34m:\u001b[0m\u001b[0;34m\u001b[0m\u001b[0m\n",
      "\u001b[0;32m/usr/local/lib/python3.4/dist-packages/pandas/core/frame.py\u001b[0m in \u001b[0;36m_arrays_to_mgr\u001b[0;34m(arrays, arr_names, index, columns, dtype)\u001b[0m\n\u001b[1;32m   5229\u001b[0m     \u001b[0;31m# figure out the index, if necessary\u001b[0m\u001b[0;34m\u001b[0m\u001b[0;34m\u001b[0m\u001b[0m\n\u001b[1;32m   5230\u001b[0m     \u001b[0;32mif\u001b[0m \u001b[0mindex\u001b[0m \u001b[0;32mis\u001b[0m \u001b[0;32mNone\u001b[0m\u001b[0;34m:\u001b[0m\u001b[0;34m\u001b[0m\u001b[0m\n\u001b[0;32m-> 5231\u001b[0;31m         \u001b[0mindex\u001b[0m \u001b[0;34m=\u001b[0m \u001b[0mextract_index\u001b[0m\u001b[0;34m(\u001b[0m\u001b[0marrays\u001b[0m\u001b[0;34m)\u001b[0m\u001b[0;34m\u001b[0m\u001b[0m\n\u001b[0m\u001b[1;32m   5232\u001b[0m     \u001b[0;32melse\u001b[0m\u001b[0;34m:\u001b[0m\u001b[0;34m\u001b[0m\u001b[0m\n\u001b[1;32m   5233\u001b[0m         \u001b[0mindex\u001b[0m \u001b[0;34m=\u001b[0m \u001b[0m_ensure_index\u001b[0m\u001b[0;34m(\u001b[0m\u001b[0mindex\u001b[0m\u001b[0;34m)\u001b[0m\u001b[0;34m\u001b[0m\u001b[0m\n",
      "\u001b[0;32m/usr/local/lib/python3.4/dist-packages/pandas/core/frame.py\u001b[0m in \u001b[0;36mextract_index\u001b[0;34m(data)\u001b[0m\n\u001b[1;32m   5268\u001b[0m \u001b[0;34m\u001b[0m\u001b[0m\n\u001b[1;32m   5269\u001b[0m         \u001b[0;32mif\u001b[0m \u001b[0;32mnot\u001b[0m \u001b[0mindexes\u001b[0m \u001b[0;32mand\u001b[0m \u001b[0;32mnot\u001b[0m \u001b[0mraw_lengths\u001b[0m\u001b[0;34m:\u001b[0m\u001b[0;34m\u001b[0m\u001b[0m\n\u001b[0;32m-> 5270\u001b[0;31m             raise ValueError('If using all scalar values, you must pass'\n\u001b[0m\u001b[1;32m   5271\u001b[0m                              ' an index')\n\u001b[1;32m   5272\u001b[0m \u001b[0;34m\u001b[0m\u001b[0m\n",
      "\u001b[0;31mValueError\u001b[0m: If using all scalar values, you must pass an index"
     ]
    }
   ],
   "source": [
    "fi = pd.DataFrame.from_dict(data = model.get_fscore().items())\n",
    "#, orient =['feature','importance']).sort_values('importance', ascending=False)\n",
    "#model.get_fscore().items().head()\n",
    "fi.head()\n",
    "\n",
    "#xgb.plot_importance(model)\n",
    "\n",
    "\n"
   ]
  },
  {
   "cell_type": "code",
   "execution_count": 100,
   "metadata": {
    "collapsed": false
   },
   "outputs": [
    {
     "ename": "ValueError",
     "evalue": "The underlying estimator Booster has no `coef_` or `feature_importances_` attribute. Either pass a fitted estimator to SelectFromModel or call fit before calling transform.",
     "output_type": "error",
     "traceback": [
      "\u001b[0;31m---------------------------------------------------------------------------\u001b[0m",
      "\u001b[0;31mValueError\u001b[0m                                Traceback (most recent call last)",
      "\u001b[0;32m<ipython-input-100-fe51fce7383f>\u001b[0m in \u001b[0;36m<module>\u001b[0;34m()\u001b[0m\n\u001b[1;32m      3\u001b[0m \u001b[0;31m# select features using threshold\u001b[0m\u001b[0;34m\u001b[0m\u001b[0;34m\u001b[0m\u001b[0m\n\u001b[1;32m      4\u001b[0m \u001b[0mselection\u001b[0m \u001b[0;34m=\u001b[0m \u001b[0mSelectFromModel\u001b[0m\u001b[0;34m(\u001b[0m\u001b[0mmodel\u001b[0m\u001b[0;34m,\u001b[0m \u001b[0mthreshold\u001b[0m\u001b[0;34m=\u001b[0m\u001b[0;36m0.5\u001b[0m\u001b[0;34m,\u001b[0m \u001b[0mprefit\u001b[0m\u001b[0;34m=\u001b[0m\u001b[0;32mTrue\u001b[0m\u001b[0;34m)\u001b[0m\u001b[0;34m\u001b[0m\u001b[0m\n\u001b[0;32m----> 5\u001b[0;31m \u001b[0mselect_X_train\u001b[0m \u001b[0;34m=\u001b[0m \u001b[0mselection\u001b[0m\u001b[0;34m.\u001b[0m\u001b[0mtransform\u001b[0m\u001b[0;34m(\u001b[0m\u001b[0mtrain\u001b[0m\u001b[0;34m)\u001b[0m\u001b[0;34m\u001b[0m\u001b[0m\n\u001b[0m\u001b[1;32m      6\u001b[0m \u001b[0;31m# train model\u001b[0m\u001b[0;34m\u001b[0m\u001b[0;34m\u001b[0m\u001b[0m\n\u001b[1;32m      7\u001b[0m \u001b[0mselection_model\u001b[0m \u001b[0;34m=\u001b[0m \u001b[0mXGBClassifier\u001b[0m\u001b[0;34m(\u001b[0m\u001b[0;34m)\u001b[0m\u001b[0;34m\u001b[0m\u001b[0m\n",
      "\u001b[0;32m/resources/common/.virtualenv/python3/lib/python3.4/site-packages/sklearn/feature_selection/base.py\u001b[0m in \u001b[0;36mtransform\u001b[0;34m(self, X)\u001b[0m\n\u001b[1;32m     74\u001b[0m         \"\"\"\n\u001b[1;32m     75\u001b[0m         \u001b[0mX\u001b[0m \u001b[0;34m=\u001b[0m \u001b[0mcheck_array\u001b[0m\u001b[0;34m(\u001b[0m\u001b[0mX\u001b[0m\u001b[0;34m,\u001b[0m \u001b[0maccept_sparse\u001b[0m\u001b[0;34m=\u001b[0m\u001b[0;34m'csr'\u001b[0m\u001b[0;34m)\u001b[0m\u001b[0;34m\u001b[0m\u001b[0m\n\u001b[0;32m---> 76\u001b[0;31m         \u001b[0mmask\u001b[0m \u001b[0;34m=\u001b[0m \u001b[0mself\u001b[0m\u001b[0;34m.\u001b[0m\u001b[0mget_support\u001b[0m\u001b[0;34m(\u001b[0m\u001b[0;34m)\u001b[0m\u001b[0;34m\u001b[0m\u001b[0m\n\u001b[0m\u001b[1;32m     77\u001b[0m         \u001b[0;32mif\u001b[0m \u001b[0;32mnot\u001b[0m \u001b[0mmask\u001b[0m\u001b[0;34m.\u001b[0m\u001b[0many\u001b[0m\u001b[0;34m(\u001b[0m\u001b[0;34m)\u001b[0m\u001b[0;34m:\u001b[0m\u001b[0;34m\u001b[0m\u001b[0m\n\u001b[1;32m     78\u001b[0m             warn(\"No features were selected: either the data is\"\n",
      "\u001b[0;32m/resources/common/.virtualenv/python3/lib/python3.4/site-packages/sklearn/feature_selection/base.py\u001b[0m in \u001b[0;36mget_support\u001b[0;34m(self, indices)\u001b[0m\n\u001b[1;32m     45\u001b[0m             \u001b[0mvalues\u001b[0m \u001b[0mare\u001b[0m \u001b[0mindices\u001b[0m \u001b[0minto\u001b[0m \u001b[0mthe\u001b[0m \u001b[0minput\u001b[0m \u001b[0mfeature\u001b[0m \u001b[0mvector\u001b[0m\u001b[0;34m.\u001b[0m\u001b[0;34m\u001b[0m\u001b[0m\n\u001b[1;32m     46\u001b[0m         \"\"\"\n\u001b[0;32m---> 47\u001b[0;31m         \u001b[0mmask\u001b[0m \u001b[0;34m=\u001b[0m \u001b[0mself\u001b[0m\u001b[0;34m.\u001b[0m\u001b[0m_get_support_mask\u001b[0m\u001b[0;34m(\u001b[0m\u001b[0;34m)\u001b[0m\u001b[0;34m\u001b[0m\u001b[0m\n\u001b[0m\u001b[1;32m     48\u001b[0m         \u001b[0;32mreturn\u001b[0m \u001b[0mmask\u001b[0m \u001b[0;32mif\u001b[0m \u001b[0;32mnot\u001b[0m \u001b[0mindices\u001b[0m \u001b[0;32melse\u001b[0m \u001b[0mnp\u001b[0m\u001b[0;34m.\u001b[0m\u001b[0mwhere\u001b[0m\u001b[0;34m(\u001b[0m\u001b[0mmask\u001b[0m\u001b[0;34m)\u001b[0m\u001b[0;34m[\u001b[0m\u001b[0;36m0\u001b[0m\u001b[0;34m]\u001b[0m\u001b[0;34m\u001b[0m\u001b[0m\n\u001b[1;32m     49\u001b[0m \u001b[0;34m\u001b[0m\u001b[0m\n",
      "\u001b[0;32m/resources/common/.virtualenv/python3/lib/python3.4/site-packages/sklearn/feature_selection/from_model.py\u001b[0m in \u001b[0;36m_get_support_mask\u001b[0;34m(self)\u001b[0m\n\u001b[1;32m    139\u001b[0m                 \u001b[0;34m'Either fit the model before transform or set \"prefit=True\"'\u001b[0m\u001b[0;34m\u001b[0m\u001b[0m\n\u001b[1;32m    140\u001b[0m                 ' while passing the fitted estimator to the constructor.')\n\u001b[0;32m--> 141\u001b[0;31m         \u001b[0mscores\u001b[0m \u001b[0;34m=\u001b[0m \u001b[0m_get_feature_importances\u001b[0m\u001b[0;34m(\u001b[0m\u001b[0mestimator\u001b[0m\u001b[0;34m,\u001b[0m \u001b[0mself\u001b[0m\u001b[0;34m.\u001b[0m\u001b[0mnorm_order\u001b[0m\u001b[0;34m)\u001b[0m\u001b[0;34m\u001b[0m\u001b[0m\n\u001b[0m\u001b[1;32m    142\u001b[0m         self.threshold_ = _calculate_threshold(estimator, scores,\n\u001b[1;32m    143\u001b[0m                                                self.threshold)\n",
      "\u001b[0;32m/resources/common/.virtualenv/python3/lib/python3.4/site-packages/sklearn/feature_selection/from_model.py\u001b[0m in \u001b[0;36m_get_feature_importances\u001b[0;34m(estimator, norm_order)\u001b[0m\n\u001b[1;32m     28\u001b[0m             \u001b[0;34m\"`feature_importances_` attribute. Either pass a fitted estimator\"\u001b[0m\u001b[0;34m\u001b[0m\u001b[0m\n\u001b[1;32m     29\u001b[0m             \u001b[0;34m\" to SelectFromModel or call fit before calling transform.\"\u001b[0m\u001b[0;34m\u001b[0m\u001b[0m\n\u001b[0;32m---> 30\u001b[0;31m             % estimator.__class__.__name__)\n\u001b[0m\u001b[1;32m     31\u001b[0m \u001b[0;34m\u001b[0m\u001b[0m\n\u001b[1;32m     32\u001b[0m     \u001b[0;32mreturn\u001b[0m \u001b[0mimportances\u001b[0m\u001b[0;34m\u001b[0m\u001b[0m\n",
      "\u001b[0;31mValueError\u001b[0m: The underlying estimator Booster has no `coef_` or `feature_importances_` attribute. Either pass a fitted estimator to SelectFromModel or call fit before calling transform."
     ]
    }
   ],
   "source": [
    "from sklearn.feature_selection import SelectFromModel\n",
    "\n",
    "# select features using threshold\n",
    "selection = SelectFromModel(model, threshold=0.5, prefit=True)\n",
    "select_X_train = selection.transform(train)\n",
    "# train model\n",
    "selection_model = XGBClassifier()\n",
    "selection_model.fit(select_X_train, target)\n",
    "# eval model\n",
    "select_X_test = selection.transform(test)\n",
    "y_pred = selection_model.predict(select_X_test)"
   ]
  },
  {
   "cell_type": "code",
   "execution_count": 229,
   "metadata": {
    "collapsed": false
   },
   "outputs": [],
   "source": [
    "columns = ['segment']\n",
    "out_df = pd.DataFrame(data=preds, columns=columns)\n",
    "\n",
    "out_df['ID'] = test_id\n",
    "out_df = out_df[['ID','segment']]\n",
    "\n"
   ]
  },
  {
   "cell_type": "code",
   "execution_count": 230,
   "metadata": {
    "collapsed": false,
    "scrolled": true
   },
   "outputs": [
    {
     "data": {
      "text/plain": [
       "(100000, 2)"
      ]
     },
     "execution_count": 230,
     "metadata": {},
     "output_type": "execute_result"
    }
   ],
   "source": [
    "out_df.shape"
   ]
  },
  {
   "cell_type": "code",
   "execution_count": 231,
   "metadata": {
    "collapsed": true
   },
   "outputs": [],
   "source": [
    "out_df.to_csv(\"Hotstar_10.csv\", index=False, encoding = 'ascii')\n",
    "#out_df.to_csv(\"Hotstar_1.csv\", index=False)"
   ]
  },
  {
   "cell_type": "code",
   "execution_count": 232,
   "metadata": {
    "collapsed": false
   },
   "outputs": [
    {
     "data": {
      "text/html": [
       "<a href='Hotstar_10.csv' target='_blank'>Hotstar_10.csv</a><br>"
      ],
      "text/plain": [
       "/resources/Hotstar_10.csv"
      ]
     },
     "execution_count": 232,
     "metadata": {},
     "output_type": "execute_result"
    }
   ],
   "source": [
    "from IPython.display import FileLink, FileLinks\n",
    "FileLink('Hotstar_10.csv')"
   ]
  },
  {
   "cell_type": "code",
   "execution_count": null,
   "metadata": {
    "collapsed": true
   },
   "outputs": [],
   "source": []
  },
  {
   "cell_type": "code",
   "execution_count": null,
   "metadata": {
    "collapsed": true
   },
   "outputs": [],
   "source": []
  },
  {
   "cell_type": "code",
   "execution_count": null,
   "metadata": {
    "collapsed": true
   },
   "outputs": [],
   "source": [
    "xgb_params <- list(booster=\"gbtree\",\n",
    "                   objective=\"binary:logistic\",\n",
    "                   eval_metric=\"auc\",\n",
    "                   nthread=14,\n",
    "                   eta = .5,\n",
    "                   lambda = 5,\n",
    "                   gamma = 1,\n",
    "                   max_depth = 5,\n",
    "                   min_child_weight = 1,\n",
    "                   subsample = .8,\n",
    "                   colsample_bytree = .5\n",
    ")\n",
    "\n",
    "\n",
    "set.seed(0)\n",
    "res = xgb.cv(xgb_params,\n",
    "             dtrain,\n",
    "             nrounds=10000,\n",
    "             nfold=10,\n",
    "             early.stop.round=15,\n",
    "             print.every.n = 10,\n",
    "             verbose= 1,\n",
    "             maximize=TRUE)\n",
    "\n",
    "\n",
    "xgb2 <- xgb.train(data = dtrain,\n",
    "                  params = xgb_params,\n",
    "                  nrounds = 100)\n",
    "\n",
    "\n",
    "model <- xgb.dump(xgb2, with.stats = T)\n",
    "model[1:30] \n",
    "names <- dimnames(data.matrix(x_train[,-1]))[[2]]\n",
    "\n",
    "importance_matrix <- xgb.importance(names, model = xgb2)\n",
    "\n",
    "xgb.plot.importance(importance_matrix[1:20,])\n",
    "\n",
    "pred_val<-predict(object = xgb2,dval)\n",
    "\n"
   ]
  },
  {
   "cell_type": "code",
   "execution_count": null,
   "metadata": {
    "collapsed": true
   },
   "outputs": [],
   "source": []
  },
  {
   "cell_type": "code",
   "execution_count": null,
   "metadata": {
    "collapsed": true
   },
   "outputs": [],
   "source": []
  },
  {
   "cell_type": "code",
   "execution_count": null,
   "metadata": {
    "collapsed": true
   },
   "outputs": [],
   "source": []
  },
  {
   "cell_type": "code",
   "execution_count": null,
   "metadata": {
    "collapsed": false,
    "scrolled": true
   },
   "outputs": [],
   "source": [
    "\n",
    "from sklearn.ensemble import RandomForestClassifier\n",
    "from sklearn.grid_search import GridSearchCV\n",
    "from sklearn.metrics import roc_auc_score, make_scorer\n",
    "from sklearn.model_selection import train_test_split\n",
    "\n",
    "target = train_data['segment']\n",
    "train_data.drop('segment',axis=1, inplace=True)\n",
    "\n",
    "## uncomment to do grid search - could get better score\n",
    "# X_train, X_val, y_train, y_val = train_test_split(train_data, target, train_size=0.6, random_state = 1)\n",
    "\n",
    "## doing grid search for parameters\n",
    "# from sklearn.ensemble import RandomForestClassifier\n",
    "# from sklearn.grid_search import GridSearchCV\n",
    "# from sklearn.metrics import roc_auc_score, make_scorer\n",
    "# clf_scorer = make_scorer('roc_auc')\n",
    "# rfc = RandomForestClassifier(n_estimators=100,oob_score=True,)\n",
    "# param_grid = {\n",
    "#     'max_depth':[4,8,12],\n",
    "#     'max_features':['sqrt',10,15]\n",
    "    \n",
    "# }\n",
    "\n",
    "# cv_rfc = GridSearchCV(estimator=rfc, param_grid=param_grid, cv=5, scoring=clf_scorer)\n",
    "# cv_rfc.best_params_\n",
    "\n",
    "#train final model\n"
   ]
  },
  {
   "cell_type": "code",
   "execution_count": null,
   "metadata": {
    "collapsed": false
   },
   "outputs": [],
   "source": [
    "rf_model = RandomForestClassifier(n_estimators=500,max_depth=12, max_features=10)\n",
    "rf_model.fit(train_data, target)\n"
   ]
  },
  {
   "cell_type": "code",
   "execution_count": null,
   "metadata": {
    "collapsed": true
   },
   "outputs": [],
   "source": [
    "#make prediction\n",
    "rf_pred = rf_model.predict_proba(test_data)\n",
    "\n"
   ]
  },
  {
   "cell_type": "raw",
   "metadata": {},
   "source": []
  },
  {
   "cell_type": "code",
   "execution_count": null,
   "metadata": {
    "collapsed": true
   },
   "outputs": [],
   "source": [
    "#make submission file and submit\n",
    "columns = ['segment']\n",
    "sub = pd.DataFrame(data=rf_pred[:,1], columns=columns)\n",
    "sub['ID'] = test_id\n",
    "sub = sub[['ID','segment']]\n",
    "sub.to_csv(\"sub_hot.csv\", index=False)"
   ]
  }
 ],
 "metadata": {
  "kernelspec": {
   "display_name": "Python 3",
   "language": "python",
   "name": "python3"
  },
  "language_info": {
   "codemirror_mode": {
    "name": "ipython",
    "version": 3
   },
   "file_extension": ".py",
   "mimetype": "text/x-python",
   "name": "python",
   "nbconvert_exporter": "python",
   "pygments_lexer": "ipython3",
   "version": "3.4.3"
  },
  "widgets": {
   "state": {},
   "version": "1.1.2"
  }
 },
 "nbformat": 4,
 "nbformat_minor": 0
}
